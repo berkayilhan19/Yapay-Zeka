{
  "cells": [
    {
      "cell_type": "code",
      "execution_count": 1,
      "id": "7936e335",
      "metadata": {
        "id": "7936e335"
      },
      "outputs": [],
      "source": [
        "import pandas as pd\n",
        "import numpy as np\n",
        "import matplotlib.pyplot as plt\n",
        "import seaborn as sns\n",
        "import warnings\n",
        "warnings.filterwarnings(\"ignore\")\n",
        "pd.set_option(\"display.max_columns\",100)\n",
        "from datetime import datetime\n",
        "from sklearn.model_selection import train_test_split"
      ]
    },
    {
      "cell_type": "code",
      "execution_count": 2,
      "id": "1edbdb77",
      "metadata": {
        "id": "1edbdb77"
      },
      "outputs": [],
      "source": [
        "df=pd.read_csv(\"profiles.csv\")"
      ]
    },
    {
      "cell_type": "code",
      "execution_count": 3,
      "id": "78190edd",
      "metadata": {
        "colab": {
          "base_uri": "https://localhost:8080/",
          "height": 756
        },
        "id": "78190edd",
        "outputId": "39fa84d4-a216-4ebd-e2e2-ed777ce4d16e"
      },
      "outputs": [
        {
          "output_type": "execute_result",
          "data": {
            "text/plain": [
              "    age       body_type               diet    drinks      drugs  \\\n",
              "0  22.0  a little extra  strictly anything  socially      never   \n",
              "1  35.0         average       mostly other     often  sometimes   \n",
              "2  38.0            thin           anything  socially        NaN   \n",
              "3  23.0            thin         vegetarian  socially        NaN   \n",
              "4  29.0        athletic                NaN  socially      never   \n",
              "\n",
              "                           education  \\\n",
              "0      working on college/university   \n",
              "1              working on space camp   \n",
              "2     graduated from masters program   \n",
              "3      working on college/university   \n",
              "4  graduated from college/university   \n",
              "\n",
              "                                              essay0  \\\n",
              "0  about me:<br />\\n<br />\\ni would love to think...   \n",
              "1  i am a chef: this is what that means.<br />\\n1...   \n",
              "2  i'm not ashamed of much, but writing public te...   \n",
              "3          i work in a library and go to school. . .   \n",
              "4  hey how's it going? currently vague on the pro...   \n",
              "\n",
              "                                              essay1  \\\n",
              "0  currently working as an international agent fo...   \n",
              "1  dedicating everyday to being an unbelievable b...   \n",
              "2  i make nerdy software for musicians, artists, ...   \n",
              "3          reading things written by old dead people   \n",
              "4                         work work work work + play   \n",
              "\n",
              "                                              essay2  \\\n",
              "0  making people laugh.<br />\\nranting about a go...   \n",
              "1  being silly. having ridiculous amonts of fun w...   \n",
              "2  improvising in different contexts. alternating...   \n",
              "3  playing synthesizers and organizing books acco...   \n",
              "4  creating imagery to look at:<br />\\nhttp://bag...   \n",
              "\n",
              "                                              essay3  \\\n",
              "0  the way i look. i am a six foot half asian, ha...   \n",
              "1                                                NaN   \n",
              "2  my large jaw and large glasses are the physica...   \n",
              "3                  socially awkward but i do my best   \n",
              "4            i smile a lot and my inquisitive nature   \n",
              "\n",
              "                                              essay4  \\\n",
              "0  books:<br />\\nabsurdistan, the republic, of mi...   \n",
              "1  i am die hard christopher moore fan. i don't r...   \n",
              "2  okay this is where the cultural matrix gets so...   \n",
              "3  bataille, celine, beckett. . .<br />\\nlynch, j...   \n",
              "4  music: bands, rappers, musicians<br />\\nat the...   \n",
              "\n",
              "                                              essay5  \\\n",
              "0  food.<br />\\nwater.<br />\\ncell phone.<br />\\n...   \n",
              "1  delicious porkness in all of its glories.<br /...   \n",
              "2  movement<br />\\nconversation<br />\\ncreation<b...   \n",
              "3                                                NaN   \n",
              "4                                                NaN   \n",
              "\n",
              "                        essay6  \\\n",
              "0  duality and humorous things   \n",
              "1                          NaN   \n",
              "2                          NaN   \n",
              "3   cats and german philosophy   \n",
              "4                          NaN   \n",
              "\n",
              "                                              essay7  \\\n",
              "0  trying to find someone to hang out with. i am ...   \n",
              "1                                                NaN   \n",
              "2  viewing. listening. dancing. talking. drinking...   \n",
              "3                                                NaN   \n",
              "4                                                NaN   \n",
              "\n",
              "                                              essay8  \\\n",
              "0  i am new to california and looking for someone...   \n",
              "1  i am very open and will share just about anyth...   \n",
              "2  when i was five years old, i was known as \"the...   \n",
              "3                                                NaN   \n",
              "4                                                NaN   \n",
              "\n",
              "                                              essay9            ethnicity  \\\n",
              "0  you want to be swept off your feet!<br />\\nyou...         asian, white   \n",
              "1                                                NaN                white   \n",
              "2  you are bright, open, intense, silly, ironic, ...                  NaN   \n",
              "3                              you feel so inclined.                white   \n",
              "4                                                NaN  asian, black, other   \n",
              "\n",
              "   height   income                          job       last_online  \\\n",
              "0    75.0     -1.0               transportation  2012-06-28-20-30   \n",
              "1    70.0  80000.0         hospitality / travel  2012-06-29-21-41   \n",
              "2    68.0     -1.0                          NaN  2012-06-27-09-10   \n",
              "3    71.0  20000.0                      student  2012-06-28-14-22   \n",
              "4    66.0     -1.0  artistic / musical / writer  2012-06-27-21-26   \n",
              "\n",
              "                          location  \\\n",
              "0  south san francisco, california   \n",
              "1              oakland, california   \n",
              "2        san francisco, california   \n",
              "3             berkeley, california   \n",
              "4        san francisco, california   \n",
              "\n",
              "                                      offspring orientation  \\\n",
              "0  doesn&rsquo;t have kids, but might want them    straight   \n",
              "1  doesn&rsquo;t have kids, but might want them    straight   \n",
              "2                                           NaN    straight   \n",
              "3                       doesn&rsquo;t want kids    straight   \n",
              "4                                           NaN    straight   \n",
              "\n",
              "                        pets                                  religion sex  \\\n",
              "0  likes dogs and likes cats     agnosticism and very serious about it   m   \n",
              "1  likes dogs and likes cats  agnosticism but not too serious about it   m   \n",
              "2                   has cats                                       NaN   m   \n",
              "3                 likes cats                                       NaN   m   \n",
              "4  likes dogs and likes cats                                       NaN   m   \n",
              "\n",
              "                                 sign     smokes  \\\n",
              "0                              gemini  sometimes   \n",
              "1                              cancer         no   \n",
              "2  pisces but it doesn&rsquo;t matter         no   \n",
              "3                              pisces         no   \n",
              "4                            aquarius         no   \n",
              "\n",
              "                                              speaks     status  \n",
              "0                                            english     single  \n",
              "1  english (fluently), spanish (poorly), french (...     single  \n",
              "2                               english, french, c++  available  \n",
              "3                           english, german (poorly)     single  \n",
              "4                                            english     single  "
            ],
            "text/html": [
              "\n",
              "  <div id=\"df-f9734178-6b8b-4b37-991f-91104854df6e\">\n",
              "    <div class=\"colab-df-container\">\n",
              "      <div>\n",
              "<style scoped>\n",
              "    .dataframe tbody tr th:only-of-type {\n",
              "        vertical-align: middle;\n",
              "    }\n",
              "\n",
              "    .dataframe tbody tr th {\n",
              "        vertical-align: top;\n",
              "    }\n",
              "\n",
              "    .dataframe thead th {\n",
              "        text-align: right;\n",
              "    }\n",
              "</style>\n",
              "<table border=\"1\" class=\"dataframe\">\n",
              "  <thead>\n",
              "    <tr style=\"text-align: right;\">\n",
              "      <th></th>\n",
              "      <th>age</th>\n",
              "      <th>body_type</th>\n",
              "      <th>diet</th>\n",
              "      <th>drinks</th>\n",
              "      <th>drugs</th>\n",
              "      <th>education</th>\n",
              "      <th>essay0</th>\n",
              "      <th>essay1</th>\n",
              "      <th>essay2</th>\n",
              "      <th>essay3</th>\n",
              "      <th>essay4</th>\n",
              "      <th>essay5</th>\n",
              "      <th>essay6</th>\n",
              "      <th>essay7</th>\n",
              "      <th>essay8</th>\n",
              "      <th>essay9</th>\n",
              "      <th>ethnicity</th>\n",
              "      <th>height</th>\n",
              "      <th>income</th>\n",
              "      <th>job</th>\n",
              "      <th>last_online</th>\n",
              "      <th>location</th>\n",
              "      <th>offspring</th>\n",
              "      <th>orientation</th>\n",
              "      <th>pets</th>\n",
              "      <th>religion</th>\n",
              "      <th>sex</th>\n",
              "      <th>sign</th>\n",
              "      <th>smokes</th>\n",
              "      <th>speaks</th>\n",
              "      <th>status</th>\n",
              "    </tr>\n",
              "  </thead>\n",
              "  <tbody>\n",
              "    <tr>\n",
              "      <th>0</th>\n",
              "      <td>22.0</td>\n",
              "      <td>a little extra</td>\n",
              "      <td>strictly anything</td>\n",
              "      <td>socially</td>\n",
              "      <td>never</td>\n",
              "      <td>working on college/university</td>\n",
              "      <td>about me:&lt;br /&gt;\\n&lt;br /&gt;\\ni would love to think...</td>\n",
              "      <td>currently working as an international agent fo...</td>\n",
              "      <td>making people laugh.&lt;br /&gt;\\nranting about a go...</td>\n",
              "      <td>the way i look. i am a six foot half asian, ha...</td>\n",
              "      <td>books:&lt;br /&gt;\\nabsurdistan, the republic, of mi...</td>\n",
              "      <td>food.&lt;br /&gt;\\nwater.&lt;br /&gt;\\ncell phone.&lt;br /&gt;\\n...</td>\n",
              "      <td>duality and humorous things</td>\n",
              "      <td>trying to find someone to hang out with. i am ...</td>\n",
              "      <td>i am new to california and looking for someone...</td>\n",
              "      <td>you want to be swept off your feet!&lt;br /&gt;\\nyou...</td>\n",
              "      <td>asian, white</td>\n",
              "      <td>75.0</td>\n",
              "      <td>-1.0</td>\n",
              "      <td>transportation</td>\n",
              "      <td>2012-06-28-20-30</td>\n",
              "      <td>south san francisco, california</td>\n",
              "      <td>doesn&amp;rsquo;t have kids, but might want them</td>\n",
              "      <td>straight</td>\n",
              "      <td>likes dogs and likes cats</td>\n",
              "      <td>agnosticism and very serious about it</td>\n",
              "      <td>m</td>\n",
              "      <td>gemini</td>\n",
              "      <td>sometimes</td>\n",
              "      <td>english</td>\n",
              "      <td>single</td>\n",
              "    </tr>\n",
              "    <tr>\n",
              "      <th>1</th>\n",
              "      <td>35.0</td>\n",
              "      <td>average</td>\n",
              "      <td>mostly other</td>\n",
              "      <td>often</td>\n",
              "      <td>sometimes</td>\n",
              "      <td>working on space camp</td>\n",
              "      <td>i am a chef: this is what that means.&lt;br /&gt;\\n1...</td>\n",
              "      <td>dedicating everyday to being an unbelievable b...</td>\n",
              "      <td>being silly. having ridiculous amonts of fun w...</td>\n",
              "      <td>NaN</td>\n",
              "      <td>i am die hard christopher moore fan. i don't r...</td>\n",
              "      <td>delicious porkness in all of its glories.&lt;br /...</td>\n",
              "      <td>NaN</td>\n",
              "      <td>NaN</td>\n",
              "      <td>i am very open and will share just about anyth...</td>\n",
              "      <td>NaN</td>\n",
              "      <td>white</td>\n",
              "      <td>70.0</td>\n",
              "      <td>80000.0</td>\n",
              "      <td>hospitality / travel</td>\n",
              "      <td>2012-06-29-21-41</td>\n",
              "      <td>oakland, california</td>\n",
              "      <td>doesn&amp;rsquo;t have kids, but might want them</td>\n",
              "      <td>straight</td>\n",
              "      <td>likes dogs and likes cats</td>\n",
              "      <td>agnosticism but not too serious about it</td>\n",
              "      <td>m</td>\n",
              "      <td>cancer</td>\n",
              "      <td>no</td>\n",
              "      <td>english (fluently), spanish (poorly), french (...</td>\n",
              "      <td>single</td>\n",
              "    </tr>\n",
              "    <tr>\n",
              "      <th>2</th>\n",
              "      <td>38.0</td>\n",
              "      <td>thin</td>\n",
              "      <td>anything</td>\n",
              "      <td>socially</td>\n",
              "      <td>NaN</td>\n",
              "      <td>graduated from masters program</td>\n",
              "      <td>i'm not ashamed of much, but writing public te...</td>\n",
              "      <td>i make nerdy software for musicians, artists, ...</td>\n",
              "      <td>improvising in different contexts. alternating...</td>\n",
              "      <td>my large jaw and large glasses are the physica...</td>\n",
              "      <td>okay this is where the cultural matrix gets so...</td>\n",
              "      <td>movement&lt;br /&gt;\\nconversation&lt;br /&gt;\\ncreation&lt;b...</td>\n",
              "      <td>NaN</td>\n",
              "      <td>viewing. listening. dancing. talking. drinking...</td>\n",
              "      <td>when i was five years old, i was known as \"the...</td>\n",
              "      <td>you are bright, open, intense, silly, ironic, ...</td>\n",
              "      <td>NaN</td>\n",
              "      <td>68.0</td>\n",
              "      <td>-1.0</td>\n",
              "      <td>NaN</td>\n",
              "      <td>2012-06-27-09-10</td>\n",
              "      <td>san francisco, california</td>\n",
              "      <td>NaN</td>\n",
              "      <td>straight</td>\n",
              "      <td>has cats</td>\n",
              "      <td>NaN</td>\n",
              "      <td>m</td>\n",
              "      <td>pisces but it doesn&amp;rsquo;t matter</td>\n",
              "      <td>no</td>\n",
              "      <td>english, french, c++</td>\n",
              "      <td>available</td>\n",
              "    </tr>\n",
              "    <tr>\n",
              "      <th>3</th>\n",
              "      <td>23.0</td>\n",
              "      <td>thin</td>\n",
              "      <td>vegetarian</td>\n",
              "      <td>socially</td>\n",
              "      <td>NaN</td>\n",
              "      <td>working on college/university</td>\n",
              "      <td>i work in a library and go to school. . .</td>\n",
              "      <td>reading things written by old dead people</td>\n",
              "      <td>playing synthesizers and organizing books acco...</td>\n",
              "      <td>socially awkward but i do my best</td>\n",
              "      <td>bataille, celine, beckett. . .&lt;br /&gt;\\nlynch, j...</td>\n",
              "      <td>NaN</td>\n",
              "      <td>cats and german philosophy</td>\n",
              "      <td>NaN</td>\n",
              "      <td>NaN</td>\n",
              "      <td>you feel so inclined.</td>\n",
              "      <td>white</td>\n",
              "      <td>71.0</td>\n",
              "      <td>20000.0</td>\n",
              "      <td>student</td>\n",
              "      <td>2012-06-28-14-22</td>\n",
              "      <td>berkeley, california</td>\n",
              "      <td>doesn&amp;rsquo;t want kids</td>\n",
              "      <td>straight</td>\n",
              "      <td>likes cats</td>\n",
              "      <td>NaN</td>\n",
              "      <td>m</td>\n",
              "      <td>pisces</td>\n",
              "      <td>no</td>\n",
              "      <td>english, german (poorly)</td>\n",
              "      <td>single</td>\n",
              "    </tr>\n",
              "    <tr>\n",
              "      <th>4</th>\n",
              "      <td>29.0</td>\n",
              "      <td>athletic</td>\n",
              "      <td>NaN</td>\n",
              "      <td>socially</td>\n",
              "      <td>never</td>\n",
              "      <td>graduated from college/university</td>\n",
              "      <td>hey how's it going? currently vague on the pro...</td>\n",
              "      <td>work work work work + play</td>\n",
              "      <td>creating imagery to look at:&lt;br /&gt;\\nhttp://bag...</td>\n",
              "      <td>i smile a lot and my inquisitive nature</td>\n",
              "      <td>music: bands, rappers, musicians&lt;br /&gt;\\nat the...</td>\n",
              "      <td>NaN</td>\n",
              "      <td>NaN</td>\n",
              "      <td>NaN</td>\n",
              "      <td>NaN</td>\n",
              "      <td>NaN</td>\n",
              "      <td>asian, black, other</td>\n",
              "      <td>66.0</td>\n",
              "      <td>-1.0</td>\n",
              "      <td>artistic / musical / writer</td>\n",
              "      <td>2012-06-27-21-26</td>\n",
              "      <td>san francisco, california</td>\n",
              "      <td>NaN</td>\n",
              "      <td>straight</td>\n",
              "      <td>likes dogs and likes cats</td>\n",
              "      <td>NaN</td>\n",
              "      <td>m</td>\n",
              "      <td>aquarius</td>\n",
              "      <td>no</td>\n",
              "      <td>english</td>\n",
              "      <td>single</td>\n",
              "    </tr>\n",
              "  </tbody>\n",
              "</table>\n",
              "</div>\n",
              "      <button class=\"colab-df-convert\" onclick=\"convertToInteractive('df-f9734178-6b8b-4b37-991f-91104854df6e')\"\n",
              "              title=\"Convert this dataframe to an interactive table.\"\n",
              "              style=\"display:none;\">\n",
              "        \n",
              "  <svg xmlns=\"http://www.w3.org/2000/svg\" height=\"24px\"viewBox=\"0 0 24 24\"\n",
              "       width=\"24px\">\n",
              "    <path d=\"M0 0h24v24H0V0z\" fill=\"none\"/>\n",
              "    <path d=\"M18.56 5.44l.94 2.06.94-2.06 2.06-.94-2.06-.94-.94-2.06-.94 2.06-2.06.94zm-11 1L8.5 8.5l.94-2.06 2.06-.94-2.06-.94L8.5 2.5l-.94 2.06-2.06.94zm10 10l.94 2.06.94-2.06 2.06-.94-2.06-.94-.94-2.06-.94 2.06-2.06.94z\"/><path d=\"M17.41 7.96l-1.37-1.37c-.4-.4-.92-.59-1.43-.59-.52 0-1.04.2-1.43.59L10.3 9.45l-7.72 7.72c-.78.78-.78 2.05 0 2.83L4 21.41c.39.39.9.59 1.41.59.51 0 1.02-.2 1.41-.59l7.78-7.78 2.81-2.81c.8-.78.8-2.07 0-2.86zM5.41 20L4 18.59l7.72-7.72 1.47 1.35L5.41 20z\"/>\n",
              "  </svg>\n",
              "      </button>\n",
              "      \n",
              "  <style>\n",
              "    .colab-df-container {\n",
              "      display:flex;\n",
              "      flex-wrap:wrap;\n",
              "      gap: 12px;\n",
              "    }\n",
              "\n",
              "    .colab-df-convert {\n",
              "      background-color: #E8F0FE;\n",
              "      border: none;\n",
              "      border-radius: 50%;\n",
              "      cursor: pointer;\n",
              "      display: none;\n",
              "      fill: #1967D2;\n",
              "      height: 32px;\n",
              "      padding: 0 0 0 0;\n",
              "      width: 32px;\n",
              "    }\n",
              "\n",
              "    .colab-df-convert:hover {\n",
              "      background-color: #E2EBFA;\n",
              "      box-shadow: 0px 1px 2px rgba(60, 64, 67, 0.3), 0px 1px 3px 1px rgba(60, 64, 67, 0.15);\n",
              "      fill: #174EA6;\n",
              "    }\n",
              "\n",
              "    [theme=dark] .colab-df-convert {\n",
              "      background-color: #3B4455;\n",
              "      fill: #D2E3FC;\n",
              "    }\n",
              "\n",
              "    [theme=dark] .colab-df-convert:hover {\n",
              "      background-color: #434B5C;\n",
              "      box-shadow: 0px 1px 3px 1px rgba(0, 0, 0, 0.15);\n",
              "      filter: drop-shadow(0px 1px 2px rgba(0, 0, 0, 0.3));\n",
              "      fill: #FFFFFF;\n",
              "    }\n",
              "  </style>\n",
              "\n",
              "      <script>\n",
              "        const buttonEl =\n",
              "          document.querySelector('#df-f9734178-6b8b-4b37-991f-91104854df6e button.colab-df-convert');\n",
              "        buttonEl.style.display =\n",
              "          google.colab.kernel.accessAllowed ? 'block' : 'none';\n",
              "\n",
              "        async function convertToInteractive(key) {\n",
              "          const element = document.querySelector('#df-f9734178-6b8b-4b37-991f-91104854df6e');\n",
              "          const dataTable =\n",
              "            await google.colab.kernel.invokeFunction('convertToInteractive',\n",
              "                                                     [key], {});\n",
              "          if (!dataTable) return;\n",
              "\n",
              "          const docLinkHtml = 'Like what you see? Visit the ' +\n",
              "            '<a target=\"_blank\" href=https://colab.research.google.com/notebooks/data_table.ipynb>data table notebook</a>'\n",
              "            + ' to learn more about interactive tables.';\n",
              "          element.innerHTML = '';\n",
              "          dataTable['output_type'] = 'display_data';\n",
              "          await google.colab.output.renderOutput(dataTable, element);\n",
              "          const docLink = document.createElement('div');\n",
              "          docLink.innerHTML = docLinkHtml;\n",
              "          element.appendChild(docLink);\n",
              "        }\n",
              "      </script>\n",
              "    </div>\n",
              "  </div>\n",
              "  "
            ]
          },
          "metadata": {},
          "execution_count": 3
        }
      ],
      "source": [
        "df.head()"
      ]
    },
    {
      "cell_type": "code",
      "execution_count": 4,
      "id": "f9aa63ab",
      "metadata": {
        "colab": {
          "base_uri": "https://localhost:8080/",
          "height": 270
        },
        "id": "f9aa63ab",
        "outputId": "3e05acd9-b67a-4595-f62e-30b7e1c344fd"
      },
      "outputs": [
        {
          "output_type": "execute_result",
          "data": {
            "text/plain": [
              "       age body_type diet drinks drugs education essay0 essay1 essay2 essay3  \\\n",
              "60547  NaN       NaN  NaN    NaN   NaN       NaN    NaN    NaN    NaN    NaN   \n",
              "60548  NaN       NaN  NaN    NaN   NaN       NaN    NaN    NaN    NaN    NaN   \n",
              "60549  NaN       NaN  NaN    NaN   NaN       NaN    NaN    NaN    NaN    NaN   \n",
              "60550  NaN       NaN  NaN    NaN   NaN       NaN    NaN    NaN    NaN    NaN   \n",
              "60551  NaN       NaN  NaN    NaN   NaN       NaN    NaN    NaN    NaN    NaN   \n",
              "\n",
              "      essay4 essay5 essay6 essay7 essay8 essay9 ethnicity  height  income  \\\n",
              "60547    NaN    NaN    NaN    NaN    NaN    NaN       NaN     NaN     NaN   \n",
              "60548    NaN    NaN    NaN    NaN    NaN    NaN       NaN     NaN     NaN   \n",
              "60549    NaN    NaN    NaN    NaN    NaN    NaN       NaN     NaN     NaN   \n",
              "60550    NaN    NaN    NaN    NaN    NaN    NaN       NaN     NaN     NaN   \n",
              "60551    NaN    NaN    NaN    NaN    NaN    NaN       NaN     NaN     NaN   \n",
              "\n",
              "       job last_online location offspring orientation pets religion  sex sign  \\\n",
              "60547  NaN         NaN      NaN       NaN         NaN  NaN      NaN  NaN  NaN   \n",
              "60548  NaN         NaN      NaN       NaN         NaN  NaN      NaN  NaN  NaN   \n",
              "60549  NaN         NaN      NaN       NaN         NaN  NaN      NaN  NaN  NaN   \n",
              "60550  NaN         NaN      NaN       NaN         NaN  NaN      NaN  NaN  NaN   \n",
              "60551  NaN         NaN      NaN       NaN         NaN  NaN      NaN  NaN  NaN   \n",
              "\n",
              "      smokes speaks status  \n",
              "60547    NaN    NaN    NaN  \n",
              "60548    NaN    NaN    NaN  \n",
              "60549    NaN    NaN    NaN  \n",
              "60550    NaN    NaN    NaN  \n",
              "60551    NaN    NaN    NaN  "
            ],
            "text/html": [
              "\n",
              "  <div id=\"df-58348854-4f1f-49a6-a42e-bb9f85cdd0e5\">\n",
              "    <div class=\"colab-df-container\">\n",
              "      <div>\n",
              "<style scoped>\n",
              "    .dataframe tbody tr th:only-of-type {\n",
              "        vertical-align: middle;\n",
              "    }\n",
              "\n",
              "    .dataframe tbody tr th {\n",
              "        vertical-align: top;\n",
              "    }\n",
              "\n",
              "    .dataframe thead th {\n",
              "        text-align: right;\n",
              "    }\n",
              "</style>\n",
              "<table border=\"1\" class=\"dataframe\">\n",
              "  <thead>\n",
              "    <tr style=\"text-align: right;\">\n",
              "      <th></th>\n",
              "      <th>age</th>\n",
              "      <th>body_type</th>\n",
              "      <th>diet</th>\n",
              "      <th>drinks</th>\n",
              "      <th>drugs</th>\n",
              "      <th>education</th>\n",
              "      <th>essay0</th>\n",
              "      <th>essay1</th>\n",
              "      <th>essay2</th>\n",
              "      <th>essay3</th>\n",
              "      <th>essay4</th>\n",
              "      <th>essay5</th>\n",
              "      <th>essay6</th>\n",
              "      <th>essay7</th>\n",
              "      <th>essay8</th>\n",
              "      <th>essay9</th>\n",
              "      <th>ethnicity</th>\n",
              "      <th>height</th>\n",
              "      <th>income</th>\n",
              "      <th>job</th>\n",
              "      <th>last_online</th>\n",
              "      <th>location</th>\n",
              "      <th>offspring</th>\n",
              "      <th>orientation</th>\n",
              "      <th>pets</th>\n",
              "      <th>religion</th>\n",
              "      <th>sex</th>\n",
              "      <th>sign</th>\n",
              "      <th>smokes</th>\n",
              "      <th>speaks</th>\n",
              "      <th>status</th>\n",
              "    </tr>\n",
              "  </thead>\n",
              "  <tbody>\n",
              "    <tr>\n",
              "      <th>60547</th>\n",
              "      <td>NaN</td>\n",
              "      <td>NaN</td>\n",
              "      <td>NaN</td>\n",
              "      <td>NaN</td>\n",
              "      <td>NaN</td>\n",
              "      <td>NaN</td>\n",
              "      <td>NaN</td>\n",
              "      <td>NaN</td>\n",
              "      <td>NaN</td>\n",
              "      <td>NaN</td>\n",
              "      <td>NaN</td>\n",
              "      <td>NaN</td>\n",
              "      <td>NaN</td>\n",
              "      <td>NaN</td>\n",
              "      <td>NaN</td>\n",
              "      <td>NaN</td>\n",
              "      <td>NaN</td>\n",
              "      <td>NaN</td>\n",
              "      <td>NaN</td>\n",
              "      <td>NaN</td>\n",
              "      <td>NaN</td>\n",
              "      <td>NaN</td>\n",
              "      <td>NaN</td>\n",
              "      <td>NaN</td>\n",
              "      <td>NaN</td>\n",
              "      <td>NaN</td>\n",
              "      <td>NaN</td>\n",
              "      <td>NaN</td>\n",
              "      <td>NaN</td>\n",
              "      <td>NaN</td>\n",
              "      <td>NaN</td>\n",
              "    </tr>\n",
              "    <tr>\n",
              "      <th>60548</th>\n",
              "      <td>NaN</td>\n",
              "      <td>NaN</td>\n",
              "      <td>NaN</td>\n",
              "      <td>NaN</td>\n",
              "      <td>NaN</td>\n",
              "      <td>NaN</td>\n",
              "      <td>NaN</td>\n",
              "      <td>NaN</td>\n",
              "      <td>NaN</td>\n",
              "      <td>NaN</td>\n",
              "      <td>NaN</td>\n",
              "      <td>NaN</td>\n",
              "      <td>NaN</td>\n",
              "      <td>NaN</td>\n",
              "      <td>NaN</td>\n",
              "      <td>NaN</td>\n",
              "      <td>NaN</td>\n",
              "      <td>NaN</td>\n",
              "      <td>NaN</td>\n",
              "      <td>NaN</td>\n",
              "      <td>NaN</td>\n",
              "      <td>NaN</td>\n",
              "      <td>NaN</td>\n",
              "      <td>NaN</td>\n",
              "      <td>NaN</td>\n",
              "      <td>NaN</td>\n",
              "      <td>NaN</td>\n",
              "      <td>NaN</td>\n",
              "      <td>NaN</td>\n",
              "      <td>NaN</td>\n",
              "      <td>NaN</td>\n",
              "    </tr>\n",
              "    <tr>\n",
              "      <th>60549</th>\n",
              "      <td>NaN</td>\n",
              "      <td>NaN</td>\n",
              "      <td>NaN</td>\n",
              "      <td>NaN</td>\n",
              "      <td>NaN</td>\n",
              "      <td>NaN</td>\n",
              "      <td>NaN</td>\n",
              "      <td>NaN</td>\n",
              "      <td>NaN</td>\n",
              "      <td>NaN</td>\n",
              "      <td>NaN</td>\n",
              "      <td>NaN</td>\n",
              "      <td>NaN</td>\n",
              "      <td>NaN</td>\n",
              "      <td>NaN</td>\n",
              "      <td>NaN</td>\n",
              "      <td>NaN</td>\n",
              "      <td>NaN</td>\n",
              "      <td>NaN</td>\n",
              "      <td>NaN</td>\n",
              "      <td>NaN</td>\n",
              "      <td>NaN</td>\n",
              "      <td>NaN</td>\n",
              "      <td>NaN</td>\n",
              "      <td>NaN</td>\n",
              "      <td>NaN</td>\n",
              "      <td>NaN</td>\n",
              "      <td>NaN</td>\n",
              "      <td>NaN</td>\n",
              "      <td>NaN</td>\n",
              "      <td>NaN</td>\n",
              "    </tr>\n",
              "    <tr>\n",
              "      <th>60550</th>\n",
              "      <td>NaN</td>\n",
              "      <td>NaN</td>\n",
              "      <td>NaN</td>\n",
              "      <td>NaN</td>\n",
              "      <td>NaN</td>\n",
              "      <td>NaN</td>\n",
              "      <td>NaN</td>\n",
              "      <td>NaN</td>\n",
              "      <td>NaN</td>\n",
              "      <td>NaN</td>\n",
              "      <td>NaN</td>\n",
              "      <td>NaN</td>\n",
              "      <td>NaN</td>\n",
              "      <td>NaN</td>\n",
              "      <td>NaN</td>\n",
              "      <td>NaN</td>\n",
              "      <td>NaN</td>\n",
              "      <td>NaN</td>\n",
              "      <td>NaN</td>\n",
              "      <td>NaN</td>\n",
              "      <td>NaN</td>\n",
              "      <td>NaN</td>\n",
              "      <td>NaN</td>\n",
              "      <td>NaN</td>\n",
              "      <td>NaN</td>\n",
              "      <td>NaN</td>\n",
              "      <td>NaN</td>\n",
              "      <td>NaN</td>\n",
              "      <td>NaN</td>\n",
              "      <td>NaN</td>\n",
              "      <td>NaN</td>\n",
              "    </tr>\n",
              "    <tr>\n",
              "      <th>60551</th>\n",
              "      <td>NaN</td>\n",
              "      <td>NaN</td>\n",
              "      <td>NaN</td>\n",
              "      <td>NaN</td>\n",
              "      <td>NaN</td>\n",
              "      <td>NaN</td>\n",
              "      <td>NaN</td>\n",
              "      <td>NaN</td>\n",
              "      <td>NaN</td>\n",
              "      <td>NaN</td>\n",
              "      <td>NaN</td>\n",
              "      <td>NaN</td>\n",
              "      <td>NaN</td>\n",
              "      <td>NaN</td>\n",
              "      <td>NaN</td>\n",
              "      <td>NaN</td>\n",
              "      <td>NaN</td>\n",
              "      <td>NaN</td>\n",
              "      <td>NaN</td>\n",
              "      <td>NaN</td>\n",
              "      <td>NaN</td>\n",
              "      <td>NaN</td>\n",
              "      <td>NaN</td>\n",
              "      <td>NaN</td>\n",
              "      <td>NaN</td>\n",
              "      <td>NaN</td>\n",
              "      <td>NaN</td>\n",
              "      <td>NaN</td>\n",
              "      <td>NaN</td>\n",
              "      <td>NaN</td>\n",
              "      <td>NaN</td>\n",
              "    </tr>\n",
              "  </tbody>\n",
              "</table>\n",
              "</div>\n",
              "      <button class=\"colab-df-convert\" onclick=\"convertToInteractive('df-58348854-4f1f-49a6-a42e-bb9f85cdd0e5')\"\n",
              "              title=\"Convert this dataframe to an interactive table.\"\n",
              "              style=\"display:none;\">\n",
              "        \n",
              "  <svg xmlns=\"http://www.w3.org/2000/svg\" height=\"24px\"viewBox=\"0 0 24 24\"\n",
              "       width=\"24px\">\n",
              "    <path d=\"M0 0h24v24H0V0z\" fill=\"none\"/>\n",
              "    <path d=\"M18.56 5.44l.94 2.06.94-2.06 2.06-.94-2.06-.94-.94-2.06-.94 2.06-2.06.94zm-11 1L8.5 8.5l.94-2.06 2.06-.94-2.06-.94L8.5 2.5l-.94 2.06-2.06.94zm10 10l.94 2.06.94-2.06 2.06-.94-2.06-.94-.94-2.06-.94 2.06-2.06.94z\"/><path d=\"M17.41 7.96l-1.37-1.37c-.4-.4-.92-.59-1.43-.59-.52 0-1.04.2-1.43.59L10.3 9.45l-7.72 7.72c-.78.78-.78 2.05 0 2.83L4 21.41c.39.39.9.59 1.41.59.51 0 1.02-.2 1.41-.59l7.78-7.78 2.81-2.81c.8-.78.8-2.07 0-2.86zM5.41 20L4 18.59l7.72-7.72 1.47 1.35L5.41 20z\"/>\n",
              "  </svg>\n",
              "      </button>\n",
              "      \n",
              "  <style>\n",
              "    .colab-df-container {\n",
              "      display:flex;\n",
              "      flex-wrap:wrap;\n",
              "      gap: 12px;\n",
              "    }\n",
              "\n",
              "    .colab-df-convert {\n",
              "      background-color: #E8F0FE;\n",
              "      border: none;\n",
              "      border-radius: 50%;\n",
              "      cursor: pointer;\n",
              "      display: none;\n",
              "      fill: #1967D2;\n",
              "      height: 32px;\n",
              "      padding: 0 0 0 0;\n",
              "      width: 32px;\n",
              "    }\n",
              "\n",
              "    .colab-df-convert:hover {\n",
              "      background-color: #E2EBFA;\n",
              "      box-shadow: 0px 1px 2px rgba(60, 64, 67, 0.3), 0px 1px 3px 1px rgba(60, 64, 67, 0.15);\n",
              "      fill: #174EA6;\n",
              "    }\n",
              "\n",
              "    [theme=dark] .colab-df-convert {\n",
              "      background-color: #3B4455;\n",
              "      fill: #D2E3FC;\n",
              "    }\n",
              "\n",
              "    [theme=dark] .colab-df-convert:hover {\n",
              "      background-color: #434B5C;\n",
              "      box-shadow: 0px 1px 3px 1px rgba(0, 0, 0, 0.15);\n",
              "      filter: drop-shadow(0px 1px 2px rgba(0, 0, 0, 0.3));\n",
              "      fill: #FFFFFF;\n",
              "    }\n",
              "  </style>\n",
              "\n",
              "      <script>\n",
              "        const buttonEl =\n",
              "          document.querySelector('#df-58348854-4f1f-49a6-a42e-bb9f85cdd0e5 button.colab-df-convert');\n",
              "        buttonEl.style.display =\n",
              "          google.colab.kernel.accessAllowed ? 'block' : 'none';\n",
              "\n",
              "        async function convertToInteractive(key) {\n",
              "          const element = document.querySelector('#df-58348854-4f1f-49a6-a42e-bb9f85cdd0e5');\n",
              "          const dataTable =\n",
              "            await google.colab.kernel.invokeFunction('convertToInteractive',\n",
              "                                                     [key], {});\n",
              "          if (!dataTable) return;\n",
              "\n",
              "          const docLinkHtml = 'Like what you see? Visit the ' +\n",
              "            '<a target=\"_blank\" href=https://colab.research.google.com/notebooks/data_table.ipynb>data table notebook</a>'\n",
              "            + ' to learn more about interactive tables.';\n",
              "          element.innerHTML = '';\n",
              "          dataTable['output_type'] = 'display_data';\n",
              "          await google.colab.output.renderOutput(dataTable, element);\n",
              "          const docLink = document.createElement('div');\n",
              "          docLink.innerHTML = docLinkHtml;\n",
              "          element.appendChild(docLink);\n",
              "        }\n",
              "      </script>\n",
              "    </div>\n",
              "  </div>\n",
              "  "
            ]
          },
          "metadata": {},
          "execution_count": 4
        }
      ],
      "source": [
        "df.tail()"
      ]
    },
    {
      "cell_type": "code",
      "execution_count": 5,
      "id": "9d97b130",
      "metadata": {
        "colab": {
          "base_uri": "https://localhost:8080/"
        },
        "id": "9d97b130",
        "outputId": "2e365230-7c86-4fa2-d1b4-be3d502c7d97"
      },
      "outputs": [
        {
          "output_type": "stream",
          "name": "stdout",
          "text": [
            "<class 'pandas.core.frame.DataFrame'>\n",
            "RangeIndex: 60552 entries, 0 to 60551\n",
            "Data columns (total 31 columns):\n",
            " #   Column       Non-Null Count  Dtype  \n",
            "---  ------       --------------  -----  \n",
            " 0   age          9514 non-null   float64\n",
            " 1   body_type    8666 non-null   object \n",
            " 2   diet         5761 non-null   object \n",
            " 3   drinks       9012 non-null   object \n",
            " 4   drugs        7215 non-null   object \n",
            " 5   education    8459 non-null   object \n",
            " 6   essay0       8667 non-null   object \n",
            " 7   essay1       8347 non-null   object \n",
            " 8   essay2       8049 non-null   object \n",
            " 9   essay3       7690 non-null   object \n",
            " 10  essay4       7879 non-null   object \n",
            " 11  essay5       7814 non-null   object \n",
            " 12  essay6       7352 non-null   object \n",
            " 13  essay7       7553 non-null   object \n",
            " 14  essay8       6361 non-null   object \n",
            " 15  essay9       7554 non-null   object \n",
            " 16  ethnicity    8565 non-null   object \n",
            " 17  height       9514 non-null   float64\n",
            " 18  income       9514 non-null   float64\n",
            " 19  job          8183 non-null   object \n",
            " 20  last_online  9514 non-null   object \n",
            " 21  location     9514 non-null   object \n",
            " 22  offspring    3886 non-null   object \n",
            " 23  orientation  9514 non-null   object \n",
            " 24  pets         6352 non-null   object \n",
            " 25  religion     6261 non-null   object \n",
            " 26  sex          9514 non-null   object \n",
            " 27  sign         7776 non-null   object \n",
            " 28  smokes       8596 non-null   object \n",
            " 29  speaks       9508 non-null   object \n",
            " 30  status       9514 non-null   object \n",
            "dtypes: float64(3), object(28)\n",
            "memory usage: 14.3+ MB\n"
          ]
        }
      ],
      "source": [
        "df.info()"
      ]
    },
    {
      "cell_type": "code",
      "execution_count": 6,
      "id": "35f37dc0",
      "metadata": {
        "colab": {
          "base_uri": "https://localhost:8080/",
          "height": 300
        },
        "id": "35f37dc0",
        "outputId": "069c3ae3-e9de-4215-e299-936576529563"
      },
      "outputs": [
        {
          "output_type": "execute_result",
          "data": {
            "text/plain": [
              "               age       height          income\n",
              "count  9514.000000  9514.000000     9514.000000\n",
              "mean     32.084192    68.337398    18887.145155\n",
              "std       9.445488     3.905229    91428.807808\n",
              "min      18.000000    36.000000       -1.000000\n",
              "25%      25.000000    66.000000       -1.000000\n",
              "50%      30.000000    68.000000       -1.000000\n",
              "75%      36.000000    71.000000       -1.000000\n",
              "max     110.000000    95.000000  1000000.000000"
            ],
            "text/html": [
              "\n",
              "  <div id=\"df-67224d5d-c35c-4126-a37b-5be95441c797\">\n",
              "    <div class=\"colab-df-container\">\n",
              "      <div>\n",
              "<style scoped>\n",
              "    .dataframe tbody tr th:only-of-type {\n",
              "        vertical-align: middle;\n",
              "    }\n",
              "\n",
              "    .dataframe tbody tr th {\n",
              "        vertical-align: top;\n",
              "    }\n",
              "\n",
              "    .dataframe thead th {\n",
              "        text-align: right;\n",
              "    }\n",
              "</style>\n",
              "<table border=\"1\" class=\"dataframe\">\n",
              "  <thead>\n",
              "    <tr style=\"text-align: right;\">\n",
              "      <th></th>\n",
              "      <th>age</th>\n",
              "      <th>height</th>\n",
              "      <th>income</th>\n",
              "    </tr>\n",
              "  </thead>\n",
              "  <tbody>\n",
              "    <tr>\n",
              "      <th>count</th>\n",
              "      <td>9514.000000</td>\n",
              "      <td>9514.000000</td>\n",
              "      <td>9514.000000</td>\n",
              "    </tr>\n",
              "    <tr>\n",
              "      <th>mean</th>\n",
              "      <td>32.084192</td>\n",
              "      <td>68.337398</td>\n",
              "      <td>18887.145155</td>\n",
              "    </tr>\n",
              "    <tr>\n",
              "      <th>std</th>\n",
              "      <td>9.445488</td>\n",
              "      <td>3.905229</td>\n",
              "      <td>91428.807808</td>\n",
              "    </tr>\n",
              "    <tr>\n",
              "      <th>min</th>\n",
              "      <td>18.000000</td>\n",
              "      <td>36.000000</td>\n",
              "      <td>-1.000000</td>\n",
              "    </tr>\n",
              "    <tr>\n",
              "      <th>25%</th>\n",
              "      <td>25.000000</td>\n",
              "      <td>66.000000</td>\n",
              "      <td>-1.000000</td>\n",
              "    </tr>\n",
              "    <tr>\n",
              "      <th>50%</th>\n",
              "      <td>30.000000</td>\n",
              "      <td>68.000000</td>\n",
              "      <td>-1.000000</td>\n",
              "    </tr>\n",
              "    <tr>\n",
              "      <th>75%</th>\n",
              "      <td>36.000000</td>\n",
              "      <td>71.000000</td>\n",
              "      <td>-1.000000</td>\n",
              "    </tr>\n",
              "    <tr>\n",
              "      <th>max</th>\n",
              "      <td>110.000000</td>\n",
              "      <td>95.000000</td>\n",
              "      <td>1000000.000000</td>\n",
              "    </tr>\n",
              "  </tbody>\n",
              "</table>\n",
              "</div>\n",
              "      <button class=\"colab-df-convert\" onclick=\"convertToInteractive('df-67224d5d-c35c-4126-a37b-5be95441c797')\"\n",
              "              title=\"Convert this dataframe to an interactive table.\"\n",
              "              style=\"display:none;\">\n",
              "        \n",
              "  <svg xmlns=\"http://www.w3.org/2000/svg\" height=\"24px\"viewBox=\"0 0 24 24\"\n",
              "       width=\"24px\">\n",
              "    <path d=\"M0 0h24v24H0V0z\" fill=\"none\"/>\n",
              "    <path d=\"M18.56 5.44l.94 2.06.94-2.06 2.06-.94-2.06-.94-.94-2.06-.94 2.06-2.06.94zm-11 1L8.5 8.5l.94-2.06 2.06-.94-2.06-.94L8.5 2.5l-.94 2.06-2.06.94zm10 10l.94 2.06.94-2.06 2.06-.94-2.06-.94-.94-2.06-.94 2.06-2.06.94z\"/><path d=\"M17.41 7.96l-1.37-1.37c-.4-.4-.92-.59-1.43-.59-.52 0-1.04.2-1.43.59L10.3 9.45l-7.72 7.72c-.78.78-.78 2.05 0 2.83L4 21.41c.39.39.9.59 1.41.59.51 0 1.02-.2 1.41-.59l7.78-7.78 2.81-2.81c.8-.78.8-2.07 0-2.86zM5.41 20L4 18.59l7.72-7.72 1.47 1.35L5.41 20z\"/>\n",
              "  </svg>\n",
              "      </button>\n",
              "      \n",
              "  <style>\n",
              "    .colab-df-container {\n",
              "      display:flex;\n",
              "      flex-wrap:wrap;\n",
              "      gap: 12px;\n",
              "    }\n",
              "\n",
              "    .colab-df-convert {\n",
              "      background-color: #E8F0FE;\n",
              "      border: none;\n",
              "      border-radius: 50%;\n",
              "      cursor: pointer;\n",
              "      display: none;\n",
              "      fill: #1967D2;\n",
              "      height: 32px;\n",
              "      padding: 0 0 0 0;\n",
              "      width: 32px;\n",
              "    }\n",
              "\n",
              "    .colab-df-convert:hover {\n",
              "      background-color: #E2EBFA;\n",
              "      box-shadow: 0px 1px 2px rgba(60, 64, 67, 0.3), 0px 1px 3px 1px rgba(60, 64, 67, 0.15);\n",
              "      fill: #174EA6;\n",
              "    }\n",
              "\n",
              "    [theme=dark] .colab-df-convert {\n",
              "      background-color: #3B4455;\n",
              "      fill: #D2E3FC;\n",
              "    }\n",
              "\n",
              "    [theme=dark] .colab-df-convert:hover {\n",
              "      background-color: #434B5C;\n",
              "      box-shadow: 0px 1px 3px 1px rgba(0, 0, 0, 0.15);\n",
              "      filter: drop-shadow(0px 1px 2px rgba(0, 0, 0, 0.3));\n",
              "      fill: #FFFFFF;\n",
              "    }\n",
              "  </style>\n",
              "\n",
              "      <script>\n",
              "        const buttonEl =\n",
              "          document.querySelector('#df-67224d5d-c35c-4126-a37b-5be95441c797 button.colab-df-convert');\n",
              "        buttonEl.style.display =\n",
              "          google.colab.kernel.accessAllowed ? 'block' : 'none';\n",
              "\n",
              "        async function convertToInteractive(key) {\n",
              "          const element = document.querySelector('#df-67224d5d-c35c-4126-a37b-5be95441c797');\n",
              "          const dataTable =\n",
              "            await google.colab.kernel.invokeFunction('convertToInteractive',\n",
              "                                                     [key], {});\n",
              "          if (!dataTable) return;\n",
              "\n",
              "          const docLinkHtml = 'Like what you see? Visit the ' +\n",
              "            '<a target=\"_blank\" href=https://colab.research.google.com/notebooks/data_table.ipynb>data table notebook</a>'\n",
              "            + ' to learn more about interactive tables.';\n",
              "          element.innerHTML = '';\n",
              "          dataTable['output_type'] = 'display_data';\n",
              "          await google.colab.output.renderOutput(dataTable, element);\n",
              "          const docLink = document.createElement('div');\n",
              "          docLink.innerHTML = docLinkHtml;\n",
              "          element.appendChild(docLink);\n",
              "        }\n",
              "      </script>\n",
              "    </div>\n",
              "  </div>\n",
              "  "
            ]
          },
          "metadata": {},
          "execution_count": 6
        }
      ],
      "source": [
        "df.describe()"
      ]
    },
    {
      "cell_type": "code",
      "execution_count": 7,
      "id": "2eacf32c",
      "metadata": {
        "colab": {
          "base_uri": "https://localhost:8080/",
          "height": 143
        },
        "id": "2eacf32c",
        "outputId": "488a6efa-d3b8-4336-d1ba-f8ab5fd61b43"
      },
      "outputs": [
        {
          "output_type": "execute_result",
          "data": {
            "text/plain": [
              "             age    height    income\n",
              "age     1.000000 -0.022078  0.011424\n",
              "height -0.022078  1.000000  0.073105\n",
              "income  0.011424  0.073105  1.000000"
            ],
            "text/html": [
              "\n",
              "  <div id=\"df-0ce76595-b3d8-4a9f-9288-475352a099a5\">\n",
              "    <div class=\"colab-df-container\">\n",
              "      <div>\n",
              "<style scoped>\n",
              "    .dataframe tbody tr th:only-of-type {\n",
              "        vertical-align: middle;\n",
              "    }\n",
              "\n",
              "    .dataframe tbody tr th {\n",
              "        vertical-align: top;\n",
              "    }\n",
              "\n",
              "    .dataframe thead th {\n",
              "        text-align: right;\n",
              "    }\n",
              "</style>\n",
              "<table border=\"1\" class=\"dataframe\">\n",
              "  <thead>\n",
              "    <tr style=\"text-align: right;\">\n",
              "      <th></th>\n",
              "      <th>age</th>\n",
              "      <th>height</th>\n",
              "      <th>income</th>\n",
              "    </tr>\n",
              "  </thead>\n",
              "  <tbody>\n",
              "    <tr>\n",
              "      <th>age</th>\n",
              "      <td>1.000000</td>\n",
              "      <td>-0.022078</td>\n",
              "      <td>0.011424</td>\n",
              "    </tr>\n",
              "    <tr>\n",
              "      <th>height</th>\n",
              "      <td>-0.022078</td>\n",
              "      <td>1.000000</td>\n",
              "      <td>0.073105</td>\n",
              "    </tr>\n",
              "    <tr>\n",
              "      <th>income</th>\n",
              "      <td>0.011424</td>\n",
              "      <td>0.073105</td>\n",
              "      <td>1.000000</td>\n",
              "    </tr>\n",
              "  </tbody>\n",
              "</table>\n",
              "</div>\n",
              "      <button class=\"colab-df-convert\" onclick=\"convertToInteractive('df-0ce76595-b3d8-4a9f-9288-475352a099a5')\"\n",
              "              title=\"Convert this dataframe to an interactive table.\"\n",
              "              style=\"display:none;\">\n",
              "        \n",
              "  <svg xmlns=\"http://www.w3.org/2000/svg\" height=\"24px\"viewBox=\"0 0 24 24\"\n",
              "       width=\"24px\">\n",
              "    <path d=\"M0 0h24v24H0V0z\" fill=\"none\"/>\n",
              "    <path d=\"M18.56 5.44l.94 2.06.94-2.06 2.06-.94-2.06-.94-.94-2.06-.94 2.06-2.06.94zm-11 1L8.5 8.5l.94-2.06 2.06-.94-2.06-.94L8.5 2.5l-.94 2.06-2.06.94zm10 10l.94 2.06.94-2.06 2.06-.94-2.06-.94-.94-2.06-.94 2.06-2.06.94z\"/><path d=\"M17.41 7.96l-1.37-1.37c-.4-.4-.92-.59-1.43-.59-.52 0-1.04.2-1.43.59L10.3 9.45l-7.72 7.72c-.78.78-.78 2.05 0 2.83L4 21.41c.39.39.9.59 1.41.59.51 0 1.02-.2 1.41-.59l7.78-7.78 2.81-2.81c.8-.78.8-2.07 0-2.86zM5.41 20L4 18.59l7.72-7.72 1.47 1.35L5.41 20z\"/>\n",
              "  </svg>\n",
              "      </button>\n",
              "      \n",
              "  <style>\n",
              "    .colab-df-container {\n",
              "      display:flex;\n",
              "      flex-wrap:wrap;\n",
              "      gap: 12px;\n",
              "    }\n",
              "\n",
              "    .colab-df-convert {\n",
              "      background-color: #E8F0FE;\n",
              "      border: none;\n",
              "      border-radius: 50%;\n",
              "      cursor: pointer;\n",
              "      display: none;\n",
              "      fill: #1967D2;\n",
              "      height: 32px;\n",
              "      padding: 0 0 0 0;\n",
              "      width: 32px;\n",
              "    }\n",
              "\n",
              "    .colab-df-convert:hover {\n",
              "      background-color: #E2EBFA;\n",
              "      box-shadow: 0px 1px 2px rgba(60, 64, 67, 0.3), 0px 1px 3px 1px rgba(60, 64, 67, 0.15);\n",
              "      fill: #174EA6;\n",
              "    }\n",
              "\n",
              "    [theme=dark] .colab-df-convert {\n",
              "      background-color: #3B4455;\n",
              "      fill: #D2E3FC;\n",
              "    }\n",
              "\n",
              "    [theme=dark] .colab-df-convert:hover {\n",
              "      background-color: #434B5C;\n",
              "      box-shadow: 0px 1px 3px 1px rgba(0, 0, 0, 0.15);\n",
              "      filter: drop-shadow(0px 1px 2px rgba(0, 0, 0, 0.3));\n",
              "      fill: #FFFFFF;\n",
              "    }\n",
              "  </style>\n",
              "\n",
              "      <script>\n",
              "        const buttonEl =\n",
              "          document.querySelector('#df-0ce76595-b3d8-4a9f-9288-475352a099a5 button.colab-df-convert');\n",
              "        buttonEl.style.display =\n",
              "          google.colab.kernel.accessAllowed ? 'block' : 'none';\n",
              "\n",
              "        async function convertToInteractive(key) {\n",
              "          const element = document.querySelector('#df-0ce76595-b3d8-4a9f-9288-475352a099a5');\n",
              "          const dataTable =\n",
              "            await google.colab.kernel.invokeFunction('convertToInteractive',\n",
              "                                                     [key], {});\n",
              "          if (!dataTable) return;\n",
              "\n",
              "          const docLinkHtml = 'Like what you see? Visit the ' +\n",
              "            '<a target=\"_blank\" href=https://colab.research.google.com/notebooks/data_table.ipynb>data table notebook</a>'\n",
              "            + ' to learn more about interactive tables.';\n",
              "          element.innerHTML = '';\n",
              "          dataTable['output_type'] = 'display_data';\n",
              "          await google.colab.output.renderOutput(dataTable, element);\n",
              "          const docLink = document.createElement('div');\n",
              "          docLink.innerHTML = docLinkHtml;\n",
              "          element.appendChild(docLink);\n",
              "        }\n",
              "      </script>\n",
              "    </div>\n",
              "  </div>\n",
              "  "
            ]
          },
          "metadata": {},
          "execution_count": 7
        }
      ],
      "source": [
        "df.corr()"
      ]
    },
    {
      "cell_type": "code",
      "execution_count": 8,
      "id": "12b689e4",
      "metadata": {
        "colab": {
          "base_uri": "https://localhost:8080/"
        },
        "id": "12b689e4",
        "outputId": "d196ef99-1257-476c-826f-cc5d084f71eb"
      },
      "outputs": [
        {
          "output_type": "execute_result",
          "data": {
            "text/plain": [
              "(60552, 31)"
            ]
          },
          "metadata": {},
          "execution_count": 8
        }
      ],
      "source": [
        "df.shape"
      ]
    },
    {
      "cell_type": "code",
      "execution_count": 9,
      "id": "32f9fc1e",
      "metadata": {
        "colab": {
          "base_uri": "https://localhost:8080/"
        },
        "id": "32f9fc1e",
        "outputId": "5d82a912-ac11-4248-c4e9-7428cc68195d"
      },
      "outputs": [
        {
          "output_type": "execute_result",
          "data": {
            "text/plain": [
              "age            51038\n",
              "body_type      51886\n",
              "diet           54791\n",
              "drinks         51540\n",
              "drugs          53337\n",
              "education      52093\n",
              "essay0         51885\n",
              "essay1         52205\n",
              "essay2         52503\n",
              "essay3         52862\n",
              "essay4         52673\n",
              "essay5         52738\n",
              "essay6         53200\n",
              "essay7         52999\n",
              "essay8         54191\n",
              "essay9         52998\n",
              "ethnicity      51987\n",
              "height         51038\n",
              "income         51038\n",
              "job            52369\n",
              "last_online    51038\n",
              "location       51038\n",
              "offspring      56666\n",
              "orientation    51038\n",
              "pets           54200\n",
              "religion       54291\n",
              "sex            51038\n",
              "sign           52776\n",
              "smokes         51956\n",
              "speaks         51044\n",
              "status         51038\n",
              "dtype: int64"
            ]
          },
          "metadata": {},
          "execution_count": 9
        }
      ],
      "source": [
        "df.isnull().sum()"
      ]
    },
    {
      "cell_type": "code",
      "execution_count": 10,
      "id": "e0baac12",
      "metadata": {
        "id": "e0baac12"
      },
      "outputs": [],
      "source": [
        "df=df.drop(columns=['essay0','essay1','essay2','essay3','essay4','essay5','essay6','essay7','essay8','essay9'],axis=1) \n",
        "#Gereksiz sütunları çıkarıyoruz."
      ]
    },
    {
      "cell_type": "code",
      "execution_count": 11,
      "id": "bf742faa",
      "metadata": {
        "id": "bf742faa"
      },
      "outputs": [],
      "source": [
        "df=df.drop_duplicates()[:9514]"
      ]
    },
    {
      "cell_type": "code",
      "execution_count": 12,
      "id": "7915d8c6",
      "metadata": {
        "id": "7915d8c6",
        "colab": {
          "base_uri": "https://localhost:8080/",
          "height": 565
        },
        "outputId": "7ab4c8dc-417a-43ad-a91f-040682e66f5d"
      },
      "outputs": [
        {
          "output_type": "execute_result",
          "data": {
            "text/plain": [
              "    age       body_type               diet    drinks      drugs  \\\n",
              "0  22.0  a little extra  strictly anything  socially      never   \n",
              "1  35.0         average       mostly other     often  sometimes   \n",
              "2  38.0            thin           anything  socially        NaN   \n",
              "3  23.0            thin         vegetarian  socially        NaN   \n",
              "4  29.0        athletic                NaN  socially      never   \n",
              "\n",
              "                           education            ethnicity  height   income  \\\n",
              "0      working on college/university         asian, white    75.0     -1.0   \n",
              "1              working on space camp                white    70.0  80000.0   \n",
              "2     graduated from masters program                  NaN    68.0     -1.0   \n",
              "3      working on college/university                white    71.0  20000.0   \n",
              "4  graduated from college/university  asian, black, other    66.0     -1.0   \n",
              "\n",
              "                           job       last_online  \\\n",
              "0               transportation  2012-06-28-20-30   \n",
              "1         hospitality / travel  2012-06-29-21-41   \n",
              "2                          NaN  2012-06-27-09-10   \n",
              "3                      student  2012-06-28-14-22   \n",
              "4  artistic / musical / writer  2012-06-27-21-26   \n",
              "\n",
              "                          location  \\\n",
              "0  south san francisco, california   \n",
              "1              oakland, california   \n",
              "2        san francisco, california   \n",
              "3             berkeley, california   \n",
              "4        san francisco, california   \n",
              "\n",
              "                                      offspring orientation  \\\n",
              "0  doesn&rsquo;t have kids, but might want them    straight   \n",
              "1  doesn&rsquo;t have kids, but might want them    straight   \n",
              "2                                           NaN    straight   \n",
              "3                       doesn&rsquo;t want kids    straight   \n",
              "4                                           NaN    straight   \n",
              "\n",
              "                        pets                                  religion sex  \\\n",
              "0  likes dogs and likes cats     agnosticism and very serious about it   m   \n",
              "1  likes dogs and likes cats  agnosticism but not too serious about it   m   \n",
              "2                   has cats                                       NaN   m   \n",
              "3                 likes cats                                       NaN   m   \n",
              "4  likes dogs and likes cats                                       NaN   m   \n",
              "\n",
              "                                 sign     smokes  \\\n",
              "0                              gemini  sometimes   \n",
              "1                              cancer         no   \n",
              "2  pisces but it doesn&rsquo;t matter         no   \n",
              "3                              pisces         no   \n",
              "4                            aquarius         no   \n",
              "\n",
              "                                              speaks     status  \n",
              "0                                            english     single  \n",
              "1  english (fluently), spanish (poorly), french (...     single  \n",
              "2                               english, french, c++  available  \n",
              "3                           english, german (poorly)     single  \n",
              "4                                            english     single  "
            ],
            "text/html": [
              "\n",
              "  <div id=\"df-fbdccf19-2bce-409b-9256-a3285e69e1fd\">\n",
              "    <div class=\"colab-df-container\">\n",
              "      <div>\n",
              "<style scoped>\n",
              "    .dataframe tbody tr th:only-of-type {\n",
              "        vertical-align: middle;\n",
              "    }\n",
              "\n",
              "    .dataframe tbody tr th {\n",
              "        vertical-align: top;\n",
              "    }\n",
              "\n",
              "    .dataframe thead th {\n",
              "        text-align: right;\n",
              "    }\n",
              "</style>\n",
              "<table border=\"1\" class=\"dataframe\">\n",
              "  <thead>\n",
              "    <tr style=\"text-align: right;\">\n",
              "      <th></th>\n",
              "      <th>age</th>\n",
              "      <th>body_type</th>\n",
              "      <th>diet</th>\n",
              "      <th>drinks</th>\n",
              "      <th>drugs</th>\n",
              "      <th>education</th>\n",
              "      <th>ethnicity</th>\n",
              "      <th>height</th>\n",
              "      <th>income</th>\n",
              "      <th>job</th>\n",
              "      <th>last_online</th>\n",
              "      <th>location</th>\n",
              "      <th>offspring</th>\n",
              "      <th>orientation</th>\n",
              "      <th>pets</th>\n",
              "      <th>religion</th>\n",
              "      <th>sex</th>\n",
              "      <th>sign</th>\n",
              "      <th>smokes</th>\n",
              "      <th>speaks</th>\n",
              "      <th>status</th>\n",
              "    </tr>\n",
              "  </thead>\n",
              "  <tbody>\n",
              "    <tr>\n",
              "      <th>0</th>\n",
              "      <td>22.0</td>\n",
              "      <td>a little extra</td>\n",
              "      <td>strictly anything</td>\n",
              "      <td>socially</td>\n",
              "      <td>never</td>\n",
              "      <td>working on college/university</td>\n",
              "      <td>asian, white</td>\n",
              "      <td>75.0</td>\n",
              "      <td>-1.0</td>\n",
              "      <td>transportation</td>\n",
              "      <td>2012-06-28-20-30</td>\n",
              "      <td>south san francisco, california</td>\n",
              "      <td>doesn&amp;rsquo;t have kids, but might want them</td>\n",
              "      <td>straight</td>\n",
              "      <td>likes dogs and likes cats</td>\n",
              "      <td>agnosticism and very serious about it</td>\n",
              "      <td>m</td>\n",
              "      <td>gemini</td>\n",
              "      <td>sometimes</td>\n",
              "      <td>english</td>\n",
              "      <td>single</td>\n",
              "    </tr>\n",
              "    <tr>\n",
              "      <th>1</th>\n",
              "      <td>35.0</td>\n",
              "      <td>average</td>\n",
              "      <td>mostly other</td>\n",
              "      <td>often</td>\n",
              "      <td>sometimes</td>\n",
              "      <td>working on space camp</td>\n",
              "      <td>white</td>\n",
              "      <td>70.0</td>\n",
              "      <td>80000.0</td>\n",
              "      <td>hospitality / travel</td>\n",
              "      <td>2012-06-29-21-41</td>\n",
              "      <td>oakland, california</td>\n",
              "      <td>doesn&amp;rsquo;t have kids, but might want them</td>\n",
              "      <td>straight</td>\n",
              "      <td>likes dogs and likes cats</td>\n",
              "      <td>agnosticism but not too serious about it</td>\n",
              "      <td>m</td>\n",
              "      <td>cancer</td>\n",
              "      <td>no</td>\n",
              "      <td>english (fluently), spanish (poorly), french (...</td>\n",
              "      <td>single</td>\n",
              "    </tr>\n",
              "    <tr>\n",
              "      <th>2</th>\n",
              "      <td>38.0</td>\n",
              "      <td>thin</td>\n",
              "      <td>anything</td>\n",
              "      <td>socially</td>\n",
              "      <td>NaN</td>\n",
              "      <td>graduated from masters program</td>\n",
              "      <td>NaN</td>\n",
              "      <td>68.0</td>\n",
              "      <td>-1.0</td>\n",
              "      <td>NaN</td>\n",
              "      <td>2012-06-27-09-10</td>\n",
              "      <td>san francisco, california</td>\n",
              "      <td>NaN</td>\n",
              "      <td>straight</td>\n",
              "      <td>has cats</td>\n",
              "      <td>NaN</td>\n",
              "      <td>m</td>\n",
              "      <td>pisces but it doesn&amp;rsquo;t matter</td>\n",
              "      <td>no</td>\n",
              "      <td>english, french, c++</td>\n",
              "      <td>available</td>\n",
              "    </tr>\n",
              "    <tr>\n",
              "      <th>3</th>\n",
              "      <td>23.0</td>\n",
              "      <td>thin</td>\n",
              "      <td>vegetarian</td>\n",
              "      <td>socially</td>\n",
              "      <td>NaN</td>\n",
              "      <td>working on college/university</td>\n",
              "      <td>white</td>\n",
              "      <td>71.0</td>\n",
              "      <td>20000.0</td>\n",
              "      <td>student</td>\n",
              "      <td>2012-06-28-14-22</td>\n",
              "      <td>berkeley, california</td>\n",
              "      <td>doesn&amp;rsquo;t want kids</td>\n",
              "      <td>straight</td>\n",
              "      <td>likes cats</td>\n",
              "      <td>NaN</td>\n",
              "      <td>m</td>\n",
              "      <td>pisces</td>\n",
              "      <td>no</td>\n",
              "      <td>english, german (poorly)</td>\n",
              "      <td>single</td>\n",
              "    </tr>\n",
              "    <tr>\n",
              "      <th>4</th>\n",
              "      <td>29.0</td>\n",
              "      <td>athletic</td>\n",
              "      <td>NaN</td>\n",
              "      <td>socially</td>\n",
              "      <td>never</td>\n",
              "      <td>graduated from college/university</td>\n",
              "      <td>asian, black, other</td>\n",
              "      <td>66.0</td>\n",
              "      <td>-1.0</td>\n",
              "      <td>artistic / musical / writer</td>\n",
              "      <td>2012-06-27-21-26</td>\n",
              "      <td>san francisco, california</td>\n",
              "      <td>NaN</td>\n",
              "      <td>straight</td>\n",
              "      <td>likes dogs and likes cats</td>\n",
              "      <td>NaN</td>\n",
              "      <td>m</td>\n",
              "      <td>aquarius</td>\n",
              "      <td>no</td>\n",
              "      <td>english</td>\n",
              "      <td>single</td>\n",
              "    </tr>\n",
              "  </tbody>\n",
              "</table>\n",
              "</div>\n",
              "      <button class=\"colab-df-convert\" onclick=\"convertToInteractive('df-fbdccf19-2bce-409b-9256-a3285e69e1fd')\"\n",
              "              title=\"Convert this dataframe to an interactive table.\"\n",
              "              style=\"display:none;\">\n",
              "        \n",
              "  <svg xmlns=\"http://www.w3.org/2000/svg\" height=\"24px\"viewBox=\"0 0 24 24\"\n",
              "       width=\"24px\">\n",
              "    <path d=\"M0 0h24v24H0V0z\" fill=\"none\"/>\n",
              "    <path d=\"M18.56 5.44l.94 2.06.94-2.06 2.06-.94-2.06-.94-.94-2.06-.94 2.06-2.06.94zm-11 1L8.5 8.5l.94-2.06 2.06-.94-2.06-.94L8.5 2.5l-.94 2.06-2.06.94zm10 10l.94 2.06.94-2.06 2.06-.94-2.06-.94-.94-2.06-.94 2.06-2.06.94z\"/><path d=\"M17.41 7.96l-1.37-1.37c-.4-.4-.92-.59-1.43-.59-.52 0-1.04.2-1.43.59L10.3 9.45l-7.72 7.72c-.78.78-.78 2.05 0 2.83L4 21.41c.39.39.9.59 1.41.59.51 0 1.02-.2 1.41-.59l7.78-7.78 2.81-2.81c.8-.78.8-2.07 0-2.86zM5.41 20L4 18.59l7.72-7.72 1.47 1.35L5.41 20z\"/>\n",
              "  </svg>\n",
              "      </button>\n",
              "      \n",
              "  <style>\n",
              "    .colab-df-container {\n",
              "      display:flex;\n",
              "      flex-wrap:wrap;\n",
              "      gap: 12px;\n",
              "    }\n",
              "\n",
              "    .colab-df-convert {\n",
              "      background-color: #E8F0FE;\n",
              "      border: none;\n",
              "      border-radius: 50%;\n",
              "      cursor: pointer;\n",
              "      display: none;\n",
              "      fill: #1967D2;\n",
              "      height: 32px;\n",
              "      padding: 0 0 0 0;\n",
              "      width: 32px;\n",
              "    }\n",
              "\n",
              "    .colab-df-convert:hover {\n",
              "      background-color: #E2EBFA;\n",
              "      box-shadow: 0px 1px 2px rgba(60, 64, 67, 0.3), 0px 1px 3px 1px rgba(60, 64, 67, 0.15);\n",
              "      fill: #174EA6;\n",
              "    }\n",
              "\n",
              "    [theme=dark] .colab-df-convert {\n",
              "      background-color: #3B4455;\n",
              "      fill: #D2E3FC;\n",
              "    }\n",
              "\n",
              "    [theme=dark] .colab-df-convert:hover {\n",
              "      background-color: #434B5C;\n",
              "      box-shadow: 0px 1px 3px 1px rgba(0, 0, 0, 0.15);\n",
              "      filter: drop-shadow(0px 1px 2px rgba(0, 0, 0, 0.3));\n",
              "      fill: #FFFFFF;\n",
              "    }\n",
              "  </style>\n",
              "\n",
              "      <script>\n",
              "        const buttonEl =\n",
              "          document.querySelector('#df-fbdccf19-2bce-409b-9256-a3285e69e1fd button.colab-df-convert');\n",
              "        buttonEl.style.display =\n",
              "          google.colab.kernel.accessAllowed ? 'block' : 'none';\n",
              "\n",
              "        async function convertToInteractive(key) {\n",
              "          const element = document.querySelector('#df-fbdccf19-2bce-409b-9256-a3285e69e1fd');\n",
              "          const dataTable =\n",
              "            await google.colab.kernel.invokeFunction('convertToInteractive',\n",
              "                                                     [key], {});\n",
              "          if (!dataTable) return;\n",
              "\n",
              "          const docLinkHtml = 'Like what you see? Visit the ' +\n",
              "            '<a target=\"_blank\" href=https://colab.research.google.com/notebooks/data_table.ipynb>data table notebook</a>'\n",
              "            + ' to learn more about interactive tables.';\n",
              "          element.innerHTML = '';\n",
              "          dataTable['output_type'] = 'display_data';\n",
              "          await google.colab.output.renderOutput(dataTable, element);\n",
              "          const docLink = document.createElement('div');\n",
              "          docLink.innerHTML = docLinkHtml;\n",
              "          element.appendChild(docLink);\n",
              "        }\n",
              "      </script>\n",
              "    </div>\n",
              "  </div>\n",
              "  "
            ]
          },
          "metadata": {},
          "execution_count": 12
        }
      ],
      "source": [
        "df.head()"
      ]
    },
    {
      "cell_type": "code",
      "execution_count": 13,
      "id": "04b5335a",
      "metadata": {
        "id": "04b5335a"
      },
      "outputs": [],
      "source": [
        "df.drop(['religion','sex','ethnicity','pets','sign'],axis=1,inplace=True) \n",
        "#Bu sütunların yaş tahmini için gerekli olmadığını düsünüyorum"
      ]
    },
    {
      "cell_type": "code",
      "execution_count": 14,
      "id": "7aa23d2b",
      "metadata": {
        "id": "7aa23d2b",
        "colab": {
          "base_uri": "https://localhost:8080/"
        },
        "outputId": "264e4dcf-6a35-4644-9cd5-03ff903f8eae"
      },
      "outputs": [
        {
          "output_type": "execute_result",
          "data": {
            "text/plain": [
              "array(['a little extra', 'average', 'thin', 'athletic', 'fit', nan,\n",
              "       'skinny', 'curvy', 'full figured', 'jacked', 'rather not say',\n",
              "       'used up', 'overweight'], dtype=object)"
            ]
          },
          "metadata": {},
          "execution_count": 14
        }
      ],
      "source": [
        "df['body_type'].unique()"
      ]
    },
    {
      "cell_type": "code",
      "execution_count": 15,
      "id": "05165d7b",
      "metadata": {
        "id": "05165d7b"
      },
      "outputs": [],
      "source": [
        "df['body_type']=df['body_type'].map({'fit':'sporty',\n",
        "                                     'athletic':'sporty',\n",
        "                                     'thin':'sporty',\n",
        "                                     'skinny':'sporty',\n",
        "                                    'average':'average',\n",
        "                                    'curvy':'curvy', \n",
        "                                     'a little extra':'curvy',\n",
        "                                     'full figured':'curvy',\n",
        "                                    'overweight':'bad',\n",
        "                                     'jacked':'bad',\n",
        "                                     'used up':'bad',\n",
        "                                     'rather not say':'bad'})"
      ]
    },
    {
      "cell_type": "code",
      "execution_count": 16,
      "id": "345a8461",
      "metadata": {
        "id": "345a8461",
        "colab": {
          "base_uri": "https://localhost:8080/"
        },
        "outputId": "48ced8a0-9207-4f21-ef09-d0a7b5585150"
      },
      "outputs": [
        {
          "output_type": "execute_result",
          "data": {
            "text/plain": [
              "array(['curvy', 'average', 'sporty', nan, 'bad'], dtype=object)"
            ]
          },
          "metadata": {},
          "execution_count": 16
        }
      ],
      "source": [
        "df['body_type'].unique()"
      ]
    },
    {
      "cell_type": "code",
      "source": [
        "#pip install matplotlib --upgrade"
      ],
      "metadata": {
        "colab": {
          "base_uri": "https://localhost:8080/"
        },
        "id": "_OfEAMmoQffx",
        "outputId": "cad88c7b-fddf-4bd9-b391-f462e3619d0a"
      },
      "id": "_OfEAMmoQffx",
      "execution_count": 17,
      "outputs": [
        {
          "output_type": "stream",
          "name": "stdout",
          "text": [
            "Looking in indexes: https://pypi.org/simple, https://us-python.pkg.dev/colab-wheels/public/simple/\n",
            "Requirement already satisfied: matplotlib in /usr/local/lib/python3.7/dist-packages (3.5.3)\n",
            "Requirement already satisfied: pyparsing>=2.2.1 in /usr/local/lib/python3.7/dist-packages (from matplotlib) (3.0.9)\n",
            "Requirement already satisfied: packaging>=20.0 in /usr/local/lib/python3.7/dist-packages (from matplotlib) (21.3)\n",
            "Requirement already satisfied: fonttools>=4.22.0 in /usr/local/lib/python3.7/dist-packages (from matplotlib) (4.38.0)\n",
            "Requirement already satisfied: pillow>=6.2.0 in /usr/local/lib/python3.7/dist-packages (from matplotlib) (7.1.2)\n",
            "Requirement already satisfied: python-dateutil>=2.7 in /usr/local/lib/python3.7/dist-packages (from matplotlib) (2.8.2)\n",
            "Requirement already satisfied: numpy>=1.17 in /usr/local/lib/python3.7/dist-packages (from matplotlib) (1.21.6)\n",
            "Requirement already satisfied: kiwisolver>=1.0.1 in /usr/local/lib/python3.7/dist-packages (from matplotlib) (1.4.4)\n",
            "Requirement already satisfied: cycler>=0.10 in /usr/local/lib/python3.7/dist-packages (from matplotlib) (0.11.0)\n",
            "Requirement already satisfied: typing-extensions in /usr/local/lib/python3.7/dist-packages (from kiwisolver>=1.0.1->matplotlib) (4.1.1)\n",
            "Requirement already satisfied: six>=1.5 in /usr/local/lib/python3.7/dist-packages (from python-dateutil>=2.7->matplotlib) (1.15.0)\n"
          ]
        }
      ]
    },
    {
      "cell_type": "code",
      "execution_count": 18,
      "id": "8a646ba8",
      "metadata": {
        "id": "8a646ba8",
        "colab": {
          "base_uri": "https://localhost:8080/",
          "height": 498
        },
        "outputId": "580e19d5-ac24-4bab-873c-85dcfb9f7227"
      },
      "outputs": [
        {
          "output_type": "display_data",
          "data": {
            "text/plain": [
              "<Figure size 576x576 with 1 Axes>"
            ],
            "image/png": "[encoded data removed]"
          },
          "metadata": {
            "needs_background": "light"
          }
        }
      ],
      "source": [
        "plt.figure(figsize=(8,8))\n",
        "ax=sns.countplot(x=df[\"body_type\"]);\n",
        "ax.bar_label(ax.containers[0]);"
      ]
    },
    {
      "cell_type": "code",
      "execution_count": 19,
      "id": "59f2c095",
      "metadata": {
        "id": "59f2c095",
        "colab": {
          "base_uri": "https://localhost:8080/"
        },
        "outputId": "1cfbf0d4-6b5e-430c-e575-7df6545b20b8"
      },
      "outputs": [
        {
          "output_type": "execute_result",
          "data": {
            "text/plain": [
              "array(['strictly anything', 'mostly other', 'anything', 'vegetarian', nan,\n",
              "       'mostly anything', 'mostly vegetarian', 'strictly vegan',\n",
              "       'strictly vegetarian', 'mostly vegan', 'strictly other',\n",
              "       'mostly halal', 'other', 'vegan', 'mostly kosher',\n",
              "       'strictly halal', 'halal', 'strictly kosher', 'kosher'],\n",
              "      dtype=object)"
            ]
          },
          "metadata": {},
          "execution_count": 19
        }
      ],
      "source": [
        "df['diet'].unique()"
      ]
    },
    {
      "cell_type": "code",
      "execution_count": 20,
      "id": "e2710927",
      "metadata": {
        "id": "e2710927"
      },
      "outputs": [],
      "source": [
        "df['diet'].replace({'strictly ':'','mostly ':''},regex=True,inplace=True)"
      ]
    },
    {
      "cell_type": "code",
      "execution_count": 21,
      "id": "e9a8f2f2",
      "metadata": {
        "id": "e9a8f2f2",
        "colab": {
          "base_uri": "https://localhost:8080/"
        },
        "outputId": "1bfb71fb-f8a4-4aa1-f465-823ae7ee9f3c"
      },
      "outputs": [
        {
          "output_type": "execute_result",
          "data": {
            "text/plain": [
              "array(['anything', 'other', 'vegetarian', nan, 'vegan', 'halal', 'kosher'],\n",
              "      dtype=object)"
            ]
          },
          "metadata": {},
          "execution_count": 21
        }
      ],
      "source": [
        "df['diet'].unique()"
      ]
    },
    {
      "cell_type": "code",
      "execution_count": 22,
      "id": "f3d44320",
      "metadata": {
        "id": "f3d44320",
        "colab": {
          "base_uri": "https://localhost:8080/",
          "height": 497
        },
        "outputId": "8db7a409-5989-4eef-ed38-f69a3230889d"
      },
      "outputs": [
        {
          "output_type": "display_data",
          "data": {
            "text/plain": [
              "<Figure size 576x576 with 1 Axes>"
            ],
            "image/png": "[encoded data removed]"
          },
          "metadata": {
            "needs_background": "light"
          }
        }
      ],
      "source": [
        "plt.figure(figsize=(8,8))\n",
        "ax=sns.countplot(x=df[\"diet\"]);\n",
        "ax.bar_label(ax.containers[0]);"
      ]
    },
    {
      "cell_type": "code",
      "execution_count": 23,
      "id": "dbbe28c5",
      "metadata": {
        "id": "dbbe28c5",
        "colab": {
          "base_uri": "https://localhost:8080/"
        },
        "outputId": "2c6230c9-e4dd-4605-d045-b52b4fadadf9"
      },
      "outputs": [
        {
          "output_type": "execute_result",
          "data": {
            "text/plain": [
              "array(['socially', 'often', 'not at all', 'rarely', nan, 'very often',\n",
              "       'desperately'], dtype=object)"
            ]
          },
          "metadata": {},
          "execution_count": 23
        }
      ],
      "source": [
        "df['drinks'].unique()"
      ]
    },
    {
      "cell_type": "code",
      "execution_count": 24,
      "id": "f03e3c06",
      "metadata": {
        "id": "f03e3c06"
      },
      "outputs": [],
      "source": [
        "df['drinks'] = df[\"drinks\"].map({\"not at all\":0, \"rarely\":1, \"socially\":2, \"often\":3, \"very often\":4, \"desperately\":5})"
      ]
    },
    {
      "cell_type": "code",
      "execution_count": 25,
      "id": "1bd16f95",
      "metadata": {
        "id": "1bd16f95",
        "colab": {
          "base_uri": "https://localhost:8080/"
        },
        "outputId": "11b1c0f6-b446-4f3a-9724-e22b13d2e330"
      },
      "outputs": [
        {
          "output_type": "execute_result",
          "data": {
            "text/plain": [
              "array([ 2.,  3.,  0.,  1., nan,  4.,  5.])"
            ]
          },
          "metadata": {},
          "execution_count": 25
        }
      ],
      "source": [
        "df['drinks'].unique()"
      ]
    },
    {
      "cell_type": "code",
      "execution_count": 26,
      "id": "715f8205",
      "metadata": {
        "id": "715f8205",
        "colab": {
          "base_uri": "https://localhost:8080/",
          "height": 500
        },
        "outputId": "cc9a6ab7-9f8b-4e90-e36a-48741f411293"
      },
      "outputs": [
        {
          "output_type": "display_data",
          "data": {
            "text/plain": [
              "<Figure size 576x576 with 1 Axes>"
            ],
            "image/png": "[encoded data removed]"
          },
          "metadata": {
            "needs_background": "light"
          }
        }
      ],
      "source": [
        "plt.figure(figsize=(8,8))\n",
        "ax=sns.countplot(x=df[\"drinks\"]);\n",
        "ax.bar_label(ax.containers[0]);"
      ]
    },
    {
      "cell_type": "code",
      "execution_count": 27,
      "id": "297849a2",
      "metadata": {
        "id": "297849a2",
        "colab": {
          "base_uri": "https://localhost:8080/"
        },
        "outputId": "5dd86199-2991-4e49-d354-4f7e2b674c96"
      },
      "outputs": [
        {
          "output_type": "execute_result",
          "data": {
            "text/plain": [
              "array(['never', 'sometimes', nan, 'often'], dtype=object)"
            ]
          },
          "metadata": {},
          "execution_count": 27
        }
      ],
      "source": [
        "df['drugs'].unique()"
      ]
    },
    {
      "cell_type": "code",
      "execution_count": 28,
      "id": "97be1b69",
      "metadata": {
        "id": "97be1b69"
      },
      "outputs": [],
      "source": [
        "df['drugs'] = df[\"drugs\"].map({\"never\":0, \"sometimes\":1, \"often\":2})"
      ]
    },
    {
      "cell_type": "code",
      "execution_count": 29,
      "id": "fcf02cc9",
      "metadata": {
        "id": "fcf02cc9",
        "colab": {
          "base_uri": "https://localhost:8080/"
        },
        "outputId": "759cca68-0fec-4e10-8a0f-f8013282e438"
      },
      "outputs": [
        {
          "output_type": "execute_result",
          "data": {
            "text/plain": [
              "array([ 0.,  1., nan,  2.])"
            ]
          },
          "metadata": {},
          "execution_count": 29
        }
      ],
      "source": [
        "df['drugs'].unique()"
      ]
    },
    {
      "cell_type": "code",
      "execution_count": 30,
      "id": "b53b9faf",
      "metadata": {
        "id": "b53b9faf",
        "colab": {
          "base_uri": "https://localhost:8080/",
          "height": 497
        },
        "outputId": "a5a46485-1308-4792-f12d-b8728ba69eb9"
      },
      "outputs": [
        {
          "output_type": "display_data",
          "data": {
            "text/plain": [
              "<Figure size 576x576 with 1 Axes>"
            ],
            "image/png": "[encoded data removed]"
          },
          "metadata": {
            "needs_background": "light"
          }
        }
      ],
      "source": [
        "plt.figure(figsize=(8,8))\n",
        "ax=sns.countplot(x=df[\"drugs\"]);\n",
        "ax.bar_label(ax.containers[0]);"
      ]
    },
    {
      "cell_type": "code",
      "execution_count": 31,
      "id": "32af5c7b",
      "metadata": {
        "id": "32af5c7b",
        "colab": {
          "base_uri": "https://localhost:8080/"
        },
        "outputId": "6dabc147-ca19-40d9-8ba4-95082bd7ca29"
      },
      "outputs": [
        {
          "output_type": "execute_result",
          "data": {
            "text/plain": [
              "array(['working on college/university', 'working on space camp',\n",
              "       'graduated from masters program',\n",
              "       'graduated from college/university', 'working on two-year college',\n",
              "       nan, 'graduated from high school', 'working on masters program',\n",
              "       'graduated from space camp', 'college/university',\n",
              "       'dropped out of space camp', 'graduated from ph.d program',\n",
              "       'graduated from law school', 'working on ph.d program',\n",
              "       'two-year college', 'graduated from two-year college',\n",
              "       'working on med school', 'dropped out of college/university',\n",
              "       'space camp', 'graduated from med school',\n",
              "       'dropped out of high school', 'working on high school',\n",
              "       'masters program', 'dropped out of ph.d program',\n",
              "       'dropped out of two-year college', 'dropped out of med school',\n",
              "       'high school', 'working on law school', 'law school',\n",
              "       'dropped out of masters program', 'ph.d program',\n",
              "       'dropped out of law school'], dtype=object)"
            ]
          },
          "metadata": {},
          "execution_count": 31
        }
      ],
      "source": [
        "df['education'].unique()"
      ]
    },
    {
      "cell_type": "code",
      "execution_count": 32,
      "id": "57545b9d",
      "metadata": {
        "id": "57545b9d"
      },
      "outputs": [],
      "source": [
        "df['education'].replace({'working':'student','graduated from':'graduated','dropped out':'dropped'},inplace=True)"
      ]
    },
    {
      "cell_type": "code",
      "execution_count": 33,
      "id": "68c98db7",
      "metadata": {
        "id": "68c98db7"
      },
      "outputs": [],
      "source": [
        "df['education'] = df['education'].str.split().str[0]"
      ]
    },
    {
      "cell_type": "code",
      "execution_count": 34,
      "id": "4ae9db98",
      "metadata": {
        "id": "4ae9db98",
        "colab": {
          "base_uri": "https://localhost:8080/"
        },
        "outputId": "9bb221f4-a389-4f0e-f213-53af15eb313b"
      },
      "outputs": [
        {
          "output_type": "execute_result",
          "data": {
            "text/plain": [
              "array(['working', 'graduated', nan, 'college/university', 'dropped',\n",
              "       'two-year', 'space', 'masters', 'high', 'law', 'ph.d'],\n",
              "      dtype=object)"
            ]
          },
          "metadata": {},
          "execution_count": 34
        }
      ],
      "source": [
        "df['education'].unique()"
      ]
    },
    {
      "cell_type": "code",
      "execution_count": 35,
      "id": "884ed8ec",
      "metadata": {
        "id": "884ed8ec",
        "colab": {
          "base_uri": "https://localhost:8080/",
          "height": 576
        },
        "outputId": "9e5ff7ab-473c-4da4-93e9-d7d65028b73c"
      },
      "outputs": [
        {
          "output_type": "display_data",
          "data": {
            "text/plain": [
              "<Figure size 576x576 with 1 Axes>"
            ],
            "image/png": "[encoded data removed]"
          },
          "metadata": {
            "needs_background": "light"
          }
        }
      ],
      "source": [
        "plt.figure(figsize=(8,8))\n",
        "ax=sns.countplot(x=df[\"education\"]);\n",
        "plt.xticks(rotation=90);"
      ]
    },
    {
      "cell_type": "code",
      "execution_count": 36,
      "id": "8ecd7d48",
      "metadata": {
        "id": "8ecd7d48",
        "colab": {
          "base_uri": "https://localhost:8080/"
        },
        "outputId": "6c791ad3-55e0-498f-de9d-76384c9101ab"
      },
      "outputs": [
        {
          "output_type": "execute_result",
          "data": {
            "text/plain": [
              "array(['transportation', 'hospitality / travel', nan, 'student',\n",
              "       'artistic / musical / writer', 'computer / hardware / software',\n",
              "       'banking / financial / real estate', 'entertainment / media',\n",
              "       'sales / marketing / biz dev', 'other', 'medicine / health',\n",
              "       'science / tech / engineering', 'executive / management',\n",
              "       'education / academia', 'clerical / administrative',\n",
              "       'construction / craftsmanship', 'rather not say',\n",
              "       'political / government', 'law / legal services', 'unemployed',\n",
              "       'military', 'retired'], dtype=object)"
            ]
          },
          "metadata": {},
          "execution_count": 36
        }
      ],
      "source": [
        "df['job'].unique()"
      ]
    },
    {
      "cell_type": "code",
      "execution_count": 37,
      "id": "2e1651b2",
      "metadata": {
        "id": "2e1651b2",
        "colab": {
          "base_uri": "https://localhost:8080/",
          "height": 644
        },
        "outputId": "815f5a39-530c-4aff-8cab-ebf45ff9dc75"
      },
      "outputs": [
        {
          "output_type": "display_data",
          "data": {
            "text/plain": [
              "<Figure size 1080x576 with 1 Axes>"
            ],
            "image/png": "[encoded data removed]"
          },
          "metadata": {
            "needs_background": "light"
          }
        }
      ],
      "source": [
        "plt.figure(figsize=(15,8))\n",
        "ax=sns.countplot(x=df[\"job\"]);\n",
        "plt.xticks(rotation=90);"
      ]
    },
    {
      "cell_type": "code",
      "execution_count": 38,
      "id": "6967f2bc",
      "metadata": {
        "id": "6967f2bc",
        "colab": {
          "base_uri": "https://localhost:8080/"
        },
        "outputId": "fa0217e4-77b0-4e43-ab63-13b4f858680c"
      },
      "outputs": [
        {
          "output_type": "execute_result",
          "data": {
            "text/plain": [
              "array(['2012-06-28-20-30', '2012-06-29-21-41', '2012-06-27-09-10', ...,\n",
              "       '2012-04-28-12-42', '2012-03-01-15-17', '2012-06-14-15-14'],\n",
              "      dtype=object)"
            ]
          },
          "metadata": {},
          "execution_count": 38
        }
      ],
      "source": [
        "df['last_online'].unique()"
      ]
    },
    {
      "cell_type": "code",
      "execution_count": 39,
      "id": "f21888d8",
      "metadata": {
        "id": "f21888d8"
      },
      "outputs": [],
      "source": [
        "df['last_online']=df['last_online'].str.split('-').str[0]"
      ]
    },
    {
      "cell_type": "code",
      "execution_count": 40,
      "id": "71a15d3e",
      "metadata": {
        "id": "71a15d3e"
      },
      "outputs": [],
      "source": [
        "df['last_online']=df['last_online'].fillna(df['last_online'].median())"
      ]
    },
    {
      "cell_type": "code",
      "execution_count": 41,
      "id": "e86a883d",
      "metadata": {
        "id": "e86a883d"
      },
      "outputs": [],
      "source": [
        "df['last_online']=df['last_online'].astype(\"int\")"
      ]
    },
    {
      "cell_type": "code",
      "execution_count": 42,
      "id": "ff4c4eb6",
      "metadata": {
        "id": "ff4c4eb6",
        "colab": {
          "base_uri": "https://localhost:8080/"
        },
        "outputId": "7eb4e956-6251-4c33-832d-c7329ff58470"
      },
      "outputs": [
        {
          "output_type": "execute_result",
          "data": {
            "text/plain": [
              "array([2012, 2011])"
            ]
          },
          "metadata": {},
          "execution_count": 42
        }
      ],
      "source": [
        "df['last_online'].unique()"
      ]
    },
    {
      "cell_type": "code",
      "execution_count": 43,
      "id": "78836a32",
      "metadata": {
        "id": "78836a32",
        "colab": {
          "base_uri": "https://localhost:8080/"
        },
        "outputId": "5802c58d-bf83-4acd-f2f0-5f130dfdb242"
      },
      "outputs": [
        {
          "output_type": "execute_result",
          "data": {
            "text/plain": [
              "array(['south san francisco, california', 'oakland, california',\n",
              "       'san francisco, california', 'berkeley, california',\n",
              "       'belvedere tiburon, california', 'san mateo, california',\n",
              "       'daly city, california', 'san leandro, california',\n",
              "       'atherton, california', 'san rafael, california',\n",
              "       'walnut creek, california', 'menlo park, california',\n",
              "       'belmont, california', 'san jose, california',\n",
              "       'palo alto, california', 'emeryville, california',\n",
              "       'el granada, california', 'castro valley, california',\n",
              "       'fairfax, california', 'mountain view, california',\n",
              "       'burlingame, california', 'martinez, california',\n",
              "       'pleasant hill, california', 'hayward, california',\n",
              "       'alameda, california', 'vallejo, california',\n",
              "       'benicia, california', 'el cerrito, california',\n",
              "       'mill valley, california', 'richmond, california',\n",
              "       'redwood city, california', 'el sobrante, california',\n",
              "       'stanford, california', 'san pablo, california',\n",
              "       'novato, california', 'pacifica, california',\n",
              "       'lafayette, california', 'half moon bay, california',\n",
              "       'fremont, california', 'orinda, california',\n",
              "       'san anselmo, california', 'corte madera, california',\n",
              "       'albany, california', 'san carlos, california',\n",
              "       'san lorenzo, california', 'foster city, california',\n",
              "       'hercules, california', 'santa cruz, california',\n",
              "       'bolinas, california', 'sausalito, california',\n",
              "       'millbrae, california', 'larkspur, california',\n",
              "       'moraga, california', 'san bruno, california',\n",
              "       'petaluma, california', 'pinole, california',\n",
              "       'san geronimo, california', 'crockett, california',\n",
              "       'boulder, colorado', 'brisbane, california', 'freedom, california',\n",
              "       'montara, california', 'green brae, california',\n",
              "       'woodside, california', 'new york, new york', 'ross, california',\n",
              "       'east palo alto, california', 'san quentin, california',\n",
              "       'portland, oregon', 'rodeo, california',\n",
              "       'hacienda heights, california', 'woodacre, california',\n",
              "       'westlake, california', 'riverside, california',\n",
              "       'rohnert park, california', 'sacramento, california',\n",
              "       'point richmond, california', 'san diego, california',\n",
              "       'canyon country, california', 'tucson, arizona',\n",
              "       'honolulu, hawaii', 'billings, montana',\n",
              "       'west oakland, california', 'kentfield, california',\n",
              "       'milwaukee, wisconsin', 'woodbridge, virginia',\n",
              "       'glencove, california', 'tiburon, california', 'madrid, spain'],\n",
              "      dtype=object)"
            ]
          },
          "metadata": {},
          "execution_count": 43
        }
      ],
      "source": [
        "df['location'].unique()"
      ]
    },
    {
      "cell_type": "code",
      "execution_count": 44,
      "id": "67c6d611",
      "metadata": {
        "id": "67c6d611",
        "colab": {
          "base_uri": "https://localhost:8080/",
          "height": 424
        },
        "outputId": "9fe164f7-b7ae-441f-9104-28ad9227e0c5"
      },
      "outputs": [
        {
          "output_type": "execute_result",
          "data": {
            "text/plain": [
              "<AxesSubplot:>"
            ]
          },
          "metadata": {},
          "execution_count": 44
        },
        {
          "output_type": "display_data",
          "data": {
            "text/plain": [
              "<Figure size 1080x360 with 1 Axes>"
            ],
            "image/png": "[encoded data removed]"
          },
          "metadata": {
            "needs_background": "light"
          }
        }
      ],
      "source": [
        "df.location=df.location.str.split(\",\").str[0]\n",
        "plt.figure(figsize=(15,5))\n",
        "df.location.value_counts().plot.bar()"
      ]
    },
    {
      "cell_type": "code",
      "execution_count": 45,
      "id": "4f1f42ae",
      "metadata": {
        "id": "4f1f42ae",
        "colab": {
          "base_uri": "https://localhost:8080/"
        },
        "outputId": "5bda7798-ebde-461a-dd43-a3945746a97f"
      },
      "outputs": [
        {
          "output_type": "execute_result",
          "data": {
            "text/plain": [
              "array(['doesn&rsquo;t have kids, but might want them', nan,\n",
              "       'doesn&rsquo;t want kids',\n",
              "       'doesn&rsquo;t have kids, but wants them',\n",
              "       'doesn&rsquo;t have kids', 'wants kids', 'has a kid', 'has kids',\n",
              "       'doesn&rsquo;t have kids, and doesn&rsquo;t want any',\n",
              "       'has kids, but doesn&rsquo;t want more',\n",
              "       'has a kid, but doesn&rsquo;t want more',\n",
              "       'has a kid, and wants more', 'has kids, and might want more',\n",
              "       'might want kids', 'has a kid, and might want more',\n",
              "       'has kids, and wants more'], dtype=object)"
            ]
          },
          "metadata": {},
          "execution_count": 45
        }
      ],
      "source": [
        "df['offspring'].unique()"
      ]
    },
    {
      "cell_type": "code",
      "execution_count": 46,
      "id": "1df20036",
      "metadata": {
        "id": "1df20036"
      },
      "outputs": [],
      "source": [
        "df.offspring = df.offspring.map({\"doesn’t have kids\":\"no\",\n",
        "                                 \"doesn’t have kids, but might want them\":\"want\",\n",
        "                                 \"doesn’t have kids, but wants them\":\"want\",\n",
        "                                 \"doesn’t want kids\":\"want\",\n",
        "                                 \"has a kid\":\"no\",\n",
        "                                 \"has kids\":\"no\",\n",
        "                                 \"doesn’t have kids, and doesn’t want any\":\"no\",\n",
        "                                 \"has kids, but doesn’t want more\":\"no\",\n",
        "                                 \"has a kid, but doesn’t want more\":\"no\",\n",
        "                                 \"has a kid, and might want more\":\"want\",\n",
        "                                 \"wants kids\":\"want\",\n",
        "                                 \"might want kids\":\"want\",\n",
        "                                 \"has kids, and might want more\":\"want\",\n",
        "                                 \"has a kid, and wants more\":\"want\",\n",
        "                                 \"has kids, and wants more\":\"want\"\n",
        "                                })"
      ]
    },
    {
      "cell_type": "code",
      "execution_count": 47,
      "id": "059a2ade",
      "metadata": {
        "id": "059a2ade",
        "colab": {
          "base_uri": "https://localhost:8080/"
        },
        "outputId": "af5e3b16-aee3-45ca-937c-9a4a2ce90112"
      },
      "outputs": [
        {
          "output_type": "execute_result",
          "data": {
            "text/plain": [
              "array([nan, 'want', 'no'], dtype=object)"
            ]
          },
          "metadata": {},
          "execution_count": 47
        }
      ],
      "source": [
        "df.offspring.unique()"
      ]
    },
    {
      "cell_type": "code",
      "execution_count": 48,
      "id": "37fe0a5a",
      "metadata": {
        "id": "37fe0a5a",
        "colab": {
          "base_uri": "https://localhost:8080/",
          "height": 497
        },
        "outputId": "61595ad6-558c-4aed-c26d-a7ceea29b638"
      },
      "outputs": [
        {
          "output_type": "display_data",
          "data": {
            "text/plain": [
              "<Figure size 576x576 with 1 Axes>"
            ],
            "image/png": "[encoded data removed]"
          },
          "metadata": {
            "needs_background": "light"
          }
        }
      ],
      "source": [
        "plt.figure(figsize=(8,8))\n",
        "ax=sns.countplot(x=df[\"offspring\"]);\n",
        "ax.bar_label(ax.containers[0]);"
      ]
    },
    {
      "cell_type": "code",
      "execution_count": 49,
      "id": "db47e64f",
      "metadata": {
        "id": "db47e64f",
        "colab": {
          "base_uri": "https://localhost:8080/"
        },
        "outputId": "12185b50-9e50-4133-b91b-715135173167"
      },
      "outputs": [
        {
          "output_type": "execute_result",
          "data": {
            "text/plain": [
              "array(['straight', 'bisexual', 'gay'], dtype=object)"
            ]
          },
          "metadata": {},
          "execution_count": 49
        }
      ],
      "source": [
        "df['orientation'].unique()"
      ]
    },
    {
      "cell_type": "code",
      "execution_count": 50,
      "id": "5017505c",
      "metadata": {
        "id": "5017505c",
        "colab": {
          "base_uri": "https://localhost:8080/",
          "height": 497
        },
        "outputId": "a5284ddc-7ce6-4ff3-9f0d-ea3a3ddd8bff"
      },
      "outputs": [
        {
          "output_type": "display_data",
          "data": {
            "text/plain": [
              "<Figure size 576x576 with 1 Axes>"
            ],
            "image/png": "[encoded data removed]"
          },
          "metadata": {
            "needs_background": "light"
          }
        }
      ],
      "source": [
        "plt.figure(figsize=(8,8))\n",
        "ax=sns.countplot(x=df[\"orientation\"]);\n",
        "ax.bar_label(ax.containers[0]);"
      ]
    },
    {
      "cell_type": "code",
      "execution_count": 51,
      "id": "65c63c25",
      "metadata": {
        "id": "65c63c25",
        "colab": {
          "base_uri": "https://localhost:8080/"
        },
        "outputId": "f946555a-660c-4063-82fa-b6efcdbea3a2"
      },
      "outputs": [
        {
          "output_type": "execute_result",
          "data": {
            "text/plain": [
              "array(['sometimes', 'no', nan, 'when drinking', 'yes', 'trying to quit'],\n",
              "      dtype=object)"
            ]
          },
          "metadata": {},
          "execution_count": 51
        }
      ],
      "source": [
        "df['smokes'].unique()"
      ]
    },
    {
      "cell_type": "code",
      "execution_count": 52,
      "id": "8388b384",
      "metadata": {
        "id": "8388b384"
      },
      "outputs": [],
      "source": [
        "df[\"smokes\"] = df[\"smokes\"].map({\"no\":0, \"trying to quit\":1, \"sometimes\":2, \"when drinking\":3, \"yes\":4})"
      ]
    },
    {
      "cell_type": "code",
      "execution_count": 53,
      "id": "679ac992",
      "metadata": {
        "id": "679ac992",
        "colab": {
          "base_uri": "https://localhost:8080/",
          "height": 497
        },
        "outputId": "1b2e8db1-8fa7-49be-9460-91cf19fc7a7b"
      },
      "outputs": [
        {
          "output_type": "display_data",
          "data": {
            "text/plain": [
              "<Figure size 576x576 with 1 Axes>"
            ],
            "image/png": "[encoded data removed]"
          },
          "metadata": {
            "needs_background": "light"
          }
        }
      ],
      "source": [
        "plt.figure(figsize=(8,8))\n",
        "ax=sns.countplot(x=df[\"smokes\"]);\n",
        "ax.bar_label(ax.containers[0]);"
      ]
    },
    {
      "cell_type": "code",
      "execution_count": 54,
      "id": "58aeb1f7",
      "metadata": {
        "id": "58aeb1f7",
        "colab": {
          "base_uri": "https://localhost:8080/"
        },
        "outputId": "4a293093-de47-470b-edf4-050ec0539da9"
      },
      "outputs": [
        {
          "output_type": "execute_result",
          "data": {
            "text/plain": [
              "array(['english', 'english (fluently), spanish (poorly), french (poorly)',\n",
              "       'english, french, c++', ...,\n",
              "       'english (fluently), french (okay), spanish (poorly), sign language (poorly)',\n",
              "       'english (fluently), spanish, swedish',\n",
              "       'english (fluently), french (okay), swedish (poorly)'],\n",
              "      dtype=object)"
            ]
          },
          "metadata": {},
          "execution_count": 54
        }
      ],
      "source": [
        "df['speaks'].unique()"
      ]
    },
    {
      "cell_type": "code",
      "execution_count": 55,
      "id": "ded8a11e",
      "metadata": {
        "id": "ded8a11e"
      },
      "outputs": [],
      "source": [
        "df['speaks']=df['speaks'].astype('category')\n",
        "df['languages']=df['speaks'].apply(lambda x:len(list(x.split(','))))"
      ]
    },
    {
      "cell_type": "code",
      "execution_count": 56,
      "id": "a625588e",
      "metadata": {
        "id": "a625588e",
        "colab": {
          "base_uri": "https://localhost:8080/"
        },
        "outputId": "99267ed0-9b3b-4698-edf3-f1d3a0d731cb"
      },
      "outputs": [
        {
          "output_type": "execute_result",
          "data": {
            "text/plain": [
              "array([ 1.,  3.,  2.,  4.,  5., nan])"
            ]
          },
          "metadata": {},
          "execution_count": 56
        }
      ],
      "source": [
        "df['languages'].unique()"
      ]
    },
    {
      "cell_type": "code",
      "execution_count": 57,
      "id": "7b55d34d",
      "metadata": {
        "id": "7b55d34d",
        "colab": {
          "base_uri": "https://localhost:8080/",
          "height": 497
        },
        "outputId": "f868d22b-1ffb-4ec1-aa85-579242d418ad"
      },
      "outputs": [
        {
          "output_type": "display_data",
          "data": {
            "text/plain": [
              "<Figure size 576x576 with 1 Axes>"
            ],
            "image/png": "[encoded data removed]"
          },
          "metadata": {
            "needs_background": "light"
          }
        }
      ],
      "source": [
        "plt.figure(figsize=(8,8))\n",
        "ax=sns.countplot(x=df[\"languages\"]);\n",
        "ax.bar_label(ax.containers[0]);"
      ]
    },
    {
      "cell_type": "code",
      "execution_count": 58,
      "id": "c5747975",
      "metadata": {
        "id": "c5747975",
        "colab": {
          "base_uri": "https://localhost:8080/"
        },
        "outputId": "55758ac6-c431-47e7-e465-5b5862fa3522"
      },
      "outputs": [
        {
          "output_type": "execute_result",
          "data": {
            "text/plain": [
              "array(['single', 'available', 'seeing someone', 'married'], dtype=object)"
            ]
          },
          "metadata": {},
          "execution_count": 58
        }
      ],
      "source": [
        "df['status'].unique()"
      ]
    },
    {
      "cell_type": "code",
      "execution_count": 59,
      "id": "872fe44e",
      "metadata": {
        "id": "872fe44e",
        "colab": {
          "base_uri": "https://localhost:8080/",
          "height": 497
        },
        "outputId": "bb7d9572-7f52-4815-de59-fcc434c3bb47"
      },
      "outputs": [
        {
          "output_type": "display_data",
          "data": {
            "text/plain": [
              "<Figure size 576x576 with 1 Axes>"
            ],
            "image/png": "[encoded data removed]"
          },
          "metadata": {
            "needs_background": "light"
          }
        }
      ],
      "source": [
        "plt.figure(figsize=(8,8))\n",
        "ax=sns.countplot(x=df[\"status\"]);\n",
        "ax.bar_label(ax.containers[0]);"
      ]
    },
    {
      "cell_type": "code",
      "execution_count": 60,
      "id": "d3bcfbb2",
      "metadata": {
        "id": "d3bcfbb2",
        "colab": {
          "base_uri": "https://localhost:8080/"
        },
        "outputId": "4e029c95-f4f3-4e51-da69-68f8ca533491"
      },
      "outputs": [
        {
          "output_type": "stream",
          "name": "stdout",
          "text": [
            "<class 'pandas.core.frame.DataFrame'>\n",
            "Int64Index: 9514 entries, 0 to 9513\n",
            "Data columns (total 17 columns):\n",
            " #   Column       Non-Null Count  Dtype   \n",
            "---  ------       --------------  -----   \n",
            " 0   age          9514 non-null   float64 \n",
            " 1   body_type    8666 non-null   object  \n",
            " 2   diet         5761 non-null   object  \n",
            " 3   drinks       9012 non-null   float64 \n",
            " 4   drugs        7215 non-null   float64 \n",
            " 5   education    8459 non-null   object  \n",
            " 6   height       9514 non-null   float64 \n",
            " 7   income       9514 non-null   float64 \n",
            " 8   job          8183 non-null   object  \n",
            " 9   last_online  9514 non-null   int64   \n",
            " 10  location     9514 non-null   object  \n",
            " 11  offspring    729 non-null    object  \n",
            " 12  orientation  9514 non-null   object  \n",
            " 13  smokes       8596 non-null   float64 \n",
            " 14  speaks       9508 non-null   category\n",
            " 15  status       9514 non-null   object  \n",
            " 16  languages    9508 non-null   float64 \n",
            "dtypes: category(1), float64(7), int64(1), object(8)\n",
            "memory usage: 1.6+ MB\n"
          ]
        }
      ],
      "source": [
        "df.info()"
      ]
    },
    {
      "cell_type": "code",
      "execution_count": 61,
      "id": "05bb2aed",
      "metadata": {
        "id": "05bb2aed",
        "colab": {
          "base_uri": "https://localhost:8080/",
          "height": 478
        },
        "outputId": "6450acc6-2a82-4a78-fcfa-96bccc49598a"
      },
      "outputs": [
        {
          "output_type": "execute_result",
          "data": {
            "text/plain": [
              "    age body_type        diet  drinks  drugs  education  height   income  \\\n",
              "0  22.0     curvy    anything     2.0    0.0    working    75.0     -1.0   \n",
              "1  35.0   average       other     3.0    1.0    working    70.0  80000.0   \n",
              "2  38.0    sporty    anything     2.0    NaN  graduated    68.0     -1.0   \n",
              "3  23.0    sporty  vegetarian     2.0    NaN    working    71.0  20000.0   \n",
              "4  29.0    sporty         NaN     2.0    0.0  graduated    66.0     -1.0   \n",
              "\n",
              "                           job  last_online             location offspring  \\\n",
              "0               transportation         2012  south san francisco       NaN   \n",
              "1         hospitality / travel         2012              oakland       NaN   \n",
              "2                          NaN         2012        san francisco       NaN   \n",
              "3                      student         2012             berkeley       NaN   \n",
              "4  artistic / musical / writer         2012        san francisco       NaN   \n",
              "\n",
              "  orientation  smokes                                             speaks  \\\n",
              "0    straight     2.0                                            english   \n",
              "1    straight     0.0  english (fluently), spanish (poorly), french (...   \n",
              "2    straight     0.0                               english, french, c++   \n",
              "3    straight     0.0                           english, german (poorly)   \n",
              "4    straight     0.0                                            english   \n",
              "\n",
              "      status  languages  \n",
              "0     single        1.0  \n",
              "1     single        3.0  \n",
              "2  available        3.0  \n",
              "3     single        2.0  \n",
              "4     single        1.0  "
            ],
            "text/html": [
              "\n",
              "  <div id=\"df-692ee981-1c57-4560-a3e2-59832ba1206c\">\n",
              "    <div class=\"colab-df-container\">\n",
              "      <div>\n",
              "<style scoped>\n",
              "    .dataframe tbody tr th:only-of-type {\n",
              "        vertical-align: middle;\n",
              "    }\n",
              "\n",
              "    .dataframe tbody tr th {\n",
              "        vertical-align: top;\n",
              "    }\n",
              "\n",
              "    .dataframe thead th {\n",
              "        text-align: right;\n",
              "    }\n",
              "</style>\n",
              "<table border=\"1\" class=\"dataframe\">\n",
              "  <thead>\n",
              "    <tr style=\"text-align: right;\">\n",
              "      <th></th>\n",
              "      <th>age</th>\n",
              "      <th>body_type</th>\n",
              "      <th>diet</th>\n",
              "      <th>drinks</th>\n",
              "      <th>drugs</th>\n",
              "      <th>education</th>\n",
              "      <th>height</th>\n",
              "      <th>income</th>\n",
              "      <th>job</th>\n",
              "      <th>last_online</th>\n",
              "      <th>location</th>\n",
              "      <th>offspring</th>\n",
              "      <th>orientation</th>\n",
              "      <th>smokes</th>\n",
              "      <th>speaks</th>\n",
              "      <th>status</th>\n",
              "      <th>languages</th>\n",
              "    </tr>\n",
              "  </thead>\n",
              "  <tbody>\n",
              "    <tr>\n",
              "      <th>0</th>\n",
              "      <td>22.0</td>\n",
              "      <td>curvy</td>\n",
              "      <td>anything</td>\n",
              "      <td>2.0</td>\n",
              "      <td>0.0</td>\n",
              "      <td>working</td>\n",
              "      <td>75.0</td>\n",
              "      <td>-1.0</td>\n",
              "      <td>transportation</td>\n",
              "      <td>2012</td>\n",
              "      <td>south san francisco</td>\n",
              "      <td>NaN</td>\n",
              "      <td>straight</td>\n",
              "      <td>2.0</td>\n",
              "      <td>english</td>\n",
              "      <td>single</td>\n",
              "      <td>1.0</td>\n",
              "    </tr>\n",
              "    <tr>\n",
              "      <th>1</th>\n",
              "      <td>35.0</td>\n",
              "      <td>average</td>\n",
              "      <td>other</td>\n",
              "      <td>3.0</td>\n",
              "      <td>1.0</td>\n",
              "      <td>working</td>\n",
              "      <td>70.0</td>\n",
              "      <td>80000.0</td>\n",
              "      <td>hospitality / travel</td>\n",
              "      <td>2012</td>\n",
              "      <td>oakland</td>\n",
              "      <td>NaN</td>\n",
              "      <td>straight</td>\n",
              "      <td>0.0</td>\n",
              "      <td>english (fluently), spanish (poorly), french (...</td>\n",
              "      <td>single</td>\n",
              "      <td>3.0</td>\n",
              "    </tr>\n",
              "    <tr>\n",
              "      <th>2</th>\n",
              "      <td>38.0</td>\n",
              "      <td>sporty</td>\n",
              "      <td>anything</td>\n",
              "      <td>2.0</td>\n",
              "      <td>NaN</td>\n",
              "      <td>graduated</td>\n",
              "      <td>68.0</td>\n",
              "      <td>-1.0</td>\n",
              "      <td>NaN</td>\n",
              "      <td>2012</td>\n",
              "      <td>san francisco</td>\n",
              "      <td>NaN</td>\n",
              "      <td>straight</td>\n",
              "      <td>0.0</td>\n",
              "      <td>english, french, c++</td>\n",
              "      <td>available</td>\n",
              "      <td>3.0</td>\n",
              "    </tr>\n",
              "    <tr>\n",
              "      <th>3</th>\n",
              "      <td>23.0</td>\n",
              "      <td>sporty</td>\n",
              "      <td>vegetarian</td>\n",
              "      <td>2.0</td>\n",
              "      <td>NaN</td>\n",
              "      <td>working</td>\n",
              "      <td>71.0</td>\n",
              "      <td>20000.0</td>\n",
              "      <td>student</td>\n",
              "      <td>2012</td>\n",
              "      <td>berkeley</td>\n",
              "      <td>NaN</td>\n",
              "      <td>straight</td>\n",
              "      <td>0.0</td>\n",
              "      <td>english, german (poorly)</td>\n",
              "      <td>single</td>\n",
              "      <td>2.0</td>\n",
              "    </tr>\n",
              "    <tr>\n",
              "      <th>4</th>\n",
              "      <td>29.0</td>\n",
              "      <td>sporty</td>\n",
              "      <td>NaN</td>\n",
              "      <td>2.0</td>\n",
              "      <td>0.0</td>\n",
              "      <td>graduated</td>\n",
              "      <td>66.0</td>\n",
              "      <td>-1.0</td>\n",
              "      <td>artistic / musical / writer</td>\n",
              "      <td>2012</td>\n",
              "      <td>san francisco</td>\n",
              "      <td>NaN</td>\n",
              "      <td>straight</td>\n",
              "      <td>0.0</td>\n",
              "      <td>english</td>\n",
              "      <td>single</td>\n",
              "      <td>1.0</td>\n",
              "    </tr>\n",
              "  </tbody>\n",
              "</table>\n",
              "</div>\n",
              "      <button class=\"colab-df-convert\" onclick=\"convertToInteractive('df-692ee981-1c57-4560-a3e2-59832ba1206c')\"\n",
              "              title=\"Convert this dataframe to an interactive table.\"\n",
              "              style=\"display:none;\">\n",
              "        \n",
              "  <svg xmlns=\"http://www.w3.org/2000/svg\" height=\"24px\"viewBox=\"0 0 24 24\"\n",
              "       width=\"24px\">\n",
              "    <path d=\"M0 0h24v24H0V0z\" fill=\"none\"/>\n",
              "    <path d=\"M18.56 5.44l.94 2.06.94-2.06 2.06-.94-2.06-.94-.94-2.06-.94 2.06-2.06.94zm-11 1L8.5 8.5l.94-2.06 2.06-.94-2.06-.94L8.5 2.5l-.94 2.06-2.06.94zm10 10l.94 2.06.94-2.06 2.06-.94-2.06-.94-.94-2.06-.94 2.06-2.06.94z\"/><path d=\"M17.41 7.96l-1.37-1.37c-.4-.4-.92-.59-1.43-.59-.52 0-1.04.2-1.43.59L10.3 9.45l-7.72 7.72c-.78.78-.78 2.05 0 2.83L4 21.41c.39.39.9.59 1.41.59.51 0 1.02-.2 1.41-.59l7.78-7.78 2.81-2.81c.8-.78.8-2.07 0-2.86zM5.41 20L4 18.59l7.72-7.72 1.47 1.35L5.41 20z\"/>\n",
              "  </svg>\n",
              "      </button>\n",
              "      \n",
              "  <style>\n",
              "    .colab-df-container {\n",
              "      display:flex;\n",
              "      flex-wrap:wrap;\n",
              "      gap: 12px;\n",
              "    }\n",
              "\n",
              "    .colab-df-convert {\n",
              "      background-color: #E8F0FE;\n",
              "      border: none;\n",
              "      border-radius: 50%;\n",
              "      cursor: pointer;\n",
              "      display: none;\n",
              "      fill: #1967D2;\n",
              "      height: 32px;\n",
              "      padding: 0 0 0 0;\n",
              "      width: 32px;\n",
              "    }\n",
              "\n",
              "    .colab-df-convert:hover {\n",
              "      background-color: #E2EBFA;\n",
              "      box-shadow: 0px 1px 2px rgba(60, 64, 67, 0.3), 0px 1px 3px 1px rgba(60, 64, 67, 0.15);\n",
              "      fill: #174EA6;\n",
              "    }\n",
              "\n",
              "    [theme=dark] .colab-df-convert {\n",
              "      background-color: #3B4455;\n",
              "      fill: #D2E3FC;\n",
              "    }\n",
              "\n",
              "    [theme=dark] .colab-df-convert:hover {\n",
              "      background-color: #434B5C;\n",
              "      box-shadow: 0px 1px 3px 1px rgba(0, 0, 0, 0.15);\n",
              "      filter: drop-shadow(0px 1px 2px rgba(0, 0, 0, 0.3));\n",
              "      fill: #FFFFFF;\n",
              "    }\n",
              "  </style>\n",
              "\n",
              "      <script>\n",
              "        const buttonEl =\n",
              "          document.querySelector('#df-692ee981-1c57-4560-a3e2-59832ba1206c button.colab-df-convert');\n",
              "        buttonEl.style.display =\n",
              "          google.colab.kernel.accessAllowed ? 'block' : 'none';\n",
              "\n",
              "        async function convertToInteractive(key) {\n",
              "          const element = document.querySelector('#df-692ee981-1c57-4560-a3e2-59832ba1206c');\n",
              "          const dataTable =\n",
              "            await google.colab.kernel.invokeFunction('convertToInteractive',\n",
              "                                                     [key], {});\n",
              "          if (!dataTable) return;\n",
              "\n",
              "          const docLinkHtml = 'Like what you see? Visit the ' +\n",
              "            '<a target=\"_blank\" href=https://colab.research.google.com/notebooks/data_table.ipynb>data table notebook</a>'\n",
              "            + ' to learn more about interactive tables.';\n",
              "          element.innerHTML = '';\n",
              "          dataTable['output_type'] = 'display_data';\n",
              "          await google.colab.output.renderOutput(dataTable, element);\n",
              "          const docLink = document.createElement('div');\n",
              "          docLink.innerHTML = docLinkHtml;\n",
              "          element.appendChild(docLink);\n",
              "        }\n",
              "      </script>\n",
              "    </div>\n",
              "  </div>\n",
              "  "
            ]
          },
          "metadata": {},
          "execution_count": 61
        }
      ],
      "source": [
        "df.head()"
      ]
    },
    {
      "cell_type": "code",
      "execution_count": 62,
      "id": "402645b4",
      "metadata": {
        "id": "402645b4",
        "colab": {
          "base_uri": "https://localhost:8080/"
        },
        "outputId": "e9de61d8-3ee5-4988-9976-01d3789a33ee"
      },
      "outputs": [
        {
          "output_type": "execute_result",
          "data": {
            "text/plain": [
              "age               0\n",
              "body_type       848\n",
              "diet           3753\n",
              "drinks          502\n",
              "drugs          2299\n",
              "education      1055\n",
              "height            0\n",
              "income            0\n",
              "job            1331\n",
              "last_online       0\n",
              "location          0\n",
              "offspring      8785\n",
              "orientation       0\n",
              "smokes          918\n",
              "speaks            6\n",
              "status            0\n",
              "languages         6\n",
              "dtype: int64"
            ]
          },
          "metadata": {},
          "execution_count": 62
        }
      ],
      "source": [
        "df.isnull().sum()"
      ]
    },
    {
      "cell_type": "code",
      "execution_count": 63,
      "id": "64a3c056",
      "metadata": {
        "id": "64a3c056"
      },
      "outputs": [],
      "source": [
        "#Tüm number değerler ortalamalar ile dolduruldu\n",
        "for column in df.select_dtypes(include=np.number):\n",
        "    df[column].fillna(df[column].median(),inplace=True)"
      ]
    },
    {
      "cell_type": "code",
      "execution_count": 64,
      "id": "bc0e4d28",
      "metadata": {
        "id": "bc0e4d28"
      },
      "outputs": [],
      "source": [
        "#Tüm object değerler en çok olan değer ile dolduruldu\n",
        "for column in df.select_dtypes(include=np.object):\n",
        "    df[column].fillna(df[column].mode()[0],inplace=True)"
      ]
    },
    {
      "cell_type": "code",
      "execution_count": 65,
      "id": "6da73e55",
      "metadata": {
        "id": "6da73e55",
        "colab": {
          "base_uri": "https://localhost:8080/"
        },
        "outputId": "d6425a5e-845c-49e5-e41d-94e5a1753b77"
      },
      "outputs": [
        {
          "output_type": "execute_result",
          "data": {
            "text/plain": [
              "age            0\n",
              "body_type      0\n",
              "diet           0\n",
              "drinks         0\n",
              "drugs          0\n",
              "education      0\n",
              "height         0\n",
              "income         0\n",
              "job            0\n",
              "last_online    0\n",
              "location       0\n",
              "offspring      0\n",
              "orientation    0\n",
              "smokes         0\n",
              "speaks         6\n",
              "status         0\n",
              "languages      0\n",
              "dtype: int64"
            ]
          },
          "metadata": {},
          "execution_count": 65
        }
      ],
      "source": [
        "df.isnull().sum()"
      ]
    },
    {
      "cell_type": "code",
      "execution_count": 66,
      "id": "cad134b8",
      "metadata": {
        "id": "cad134b8"
      },
      "outputs": [],
      "source": [
        "df['age']=df['age'].astype(int)\n",
        "\n",
        "gen = []\n",
        "\n",
        "# Millennial - 1\n",
        "# Gen X-er - 2\n",
        "# Boomers - 3\n",
        "\n",
        "for i in df[\"age\"].values:\n",
        "    if (i>=18) and (i<=32):\n",
        "        gen.append(\"Millennial\")\n",
        "    elif (i>=33) and (i<=47):\n",
        "        gen.append(\"Gen X-er\")\n",
        "    elif (48>=33) and (i<=70):\n",
        "        gen.append(\"Boomers\")\n",
        "    else:\n",
        "        gen.append(\"Unkown\")\n",
        "df[\"gen\"] = gen"
      ]
    },
    {
      "cell_type": "code",
      "execution_count": 67,
      "id": "46b9a5b1",
      "metadata": {
        "id": "46b9a5b1",
        "colab": {
          "base_uri": "https://localhost:8080/",
          "height": 320
        },
        "outputId": "d186018d-00ab-4cff-cc82-ece4a0663008"
      },
      "outputs": [
        {
          "output_type": "execute_result",
          "data": {
            "text/plain": [
              "<AxesSubplot:>"
            ]
          },
          "metadata": {},
          "execution_count": 67
        },
        {
          "output_type": "display_data",
          "data": {
            "text/plain": [
              "<Figure size 432x288 with 1 Axes>"
            ],
            "image/png": "[encoded data removed]"
          },
          "metadata": {
            "needs_background": "light"
          }
        }
      ],
      "source": [
        "df[\"gen\"].replace(\"Unkown\",\"Boomers\",regex=True,inplace=True)\n",
        "df[\"gen\"].value_counts().plot.bar()"
      ]
    },
    {
      "cell_type": "code",
      "execution_count": 68,
      "id": "7fca757e",
      "metadata": {
        "id": "7fca757e",
        "colab": {
          "base_uri": "https://localhost:8080/",
          "height": 947
        },
        "outputId": "226fea53-e6c1-4c87-caae-589dc79cf190"
      },
      "outputs": [
        {
          "output_type": "execute_result",
          "data": {
            "text/plain": [
              "      age body_type      diet  drinks  drugs  education  height   income  \\\n",
              "7766   24     curvy  anything     1.0    0.0  graduated    68.0     -1.0   \n",
              "4995   31    sporty  anything     2.0    0.0  graduated    71.0     -1.0   \n",
              "7192   35    sporty  anything     2.0    0.0  graduated    68.0     -1.0   \n",
              "2434   31    sporty  anything     2.0    1.0  graduated    74.0     -1.0   \n",
              "1291   29    sporty  anything     2.0    0.0  graduated    66.0     -1.0   \n",
              "7347   29    sporty  anything     2.0    0.0  graduated    69.0  50000.0   \n",
              "4911   27    sporty  anything     2.0    0.0  graduated    69.0     -1.0   \n",
              "4766   28     curvy     other     1.0    1.0  graduated    63.0     -1.0   \n",
              "8486   24   average  anything     2.0    0.0  graduated    73.0     -1.0   \n",
              "5609   29    sporty  anything     2.0    0.0  graduated    60.0     -1.0   \n",
              "\n",
              "                                 job  last_online       location offspring  \\\n",
              "7766                           other         2012        vallejo        no   \n",
              "4995    science / tech / engineering         2012  mountain view        no   \n",
              "7192     artistic / musical / writer         2012  san francisco        no   \n",
              "2434           entertainment / media         2012  san francisco        no   \n",
              "1291  computer / hardware / software         2012    san leandro        no   \n",
              "7347     sales / marketing / biz dev         2012  san francisco        no   \n",
              "4911    science / tech / engineering         2012  san francisco        no   \n",
              "4766                           other         2011  san francisco        no   \n",
              "8486                         student         2012   walnut creek        no   \n",
              "5609                           other         2012        oakland        no   \n",
              "\n",
              "     orientation  smokes                                             speaks  \\\n",
              "7766    straight     0.0                english (fluently), french (poorly)   \n",
              "4995    straight     0.0                          english, spanish (poorly)   \n",
              "7192    straight     0.0  english (fluently), french (poorly), russian (...   \n",
              "2434    straight     2.0  english (fluently), russian (fluently), french...   \n",
              "1291    straight     0.0               english (fluently), chinese (poorly)   \n",
              "7347    straight     0.0  english (fluently), arabic (fluently), spanish...   \n",
              "4911    straight     0.0                 english (fluently), chinese (okay)   \n",
              "4766    bisexual     0.0  english (fluently), spanish (poorly), russian ...   \n",
              "8486    straight     2.0                                            english   \n",
              "5609    straight     0.0                                            english   \n",
              "\n",
              "      status  languages         gen  \n",
              "7766  single        2.0  Millennial  \n",
              "4995  single        2.0  Millennial  \n",
              "7192  single        3.0    Gen X-er  \n",
              "2434  single        3.0  Millennial  \n",
              "1291  single        2.0  Millennial  \n",
              "7347  single        5.0  Millennial  \n",
              "4911  single        2.0  Millennial  \n",
              "4766  single        3.0  Millennial  \n",
              "8486  single        1.0  Millennial  \n",
              "5609  single        1.0  Millennial  "
            ],
            "text/html": [
              "\n",
              "  <div id=\"df-61c3aa55-aa0a-43eb-bf11-aefe970dae33\">\n",
              "    <div class=\"colab-df-container\">\n",
              "      <div>\n",
              "<style scoped>\n",
              "    .dataframe tbody tr th:only-of-type {\n",
              "        vertical-align: middle;\n",
              "    }\n",
              "\n",
              "    .dataframe tbody tr th {\n",
              "        vertical-align: top;\n",
              "    }\n",
              "\n",
              "    .dataframe thead th {\n",
              "        text-align: right;\n",
              "    }\n",
              "</style>\n",
              "<table border=\"1\" class=\"dataframe\">\n",
              "  <thead>\n",
              "    <tr style=\"text-align: right;\">\n",
              "      <th></th>\n",
              "      <th>age</th>\n",
              "      <th>body_type</th>\n",
              "      <th>diet</th>\n",
              "      <th>drinks</th>\n",
              "      <th>drugs</th>\n",
              "      <th>education</th>\n",
              "      <th>height</th>\n",
              "      <th>income</th>\n",
              "      <th>job</th>\n",
              "      <th>last_online</th>\n",
              "      <th>location</th>\n",
              "      <th>offspring</th>\n",
              "      <th>orientation</th>\n",
              "      <th>smokes</th>\n",
              "      <th>speaks</th>\n",
              "      <th>status</th>\n",
              "      <th>languages</th>\n",
              "      <th>gen</th>\n",
              "    </tr>\n",
              "  </thead>\n",
              "  <tbody>\n",
              "    <tr>\n",
              "      <th>7766</th>\n",
              "      <td>24</td>\n",
              "      <td>curvy</td>\n",
              "      <td>anything</td>\n",
              "      <td>1.0</td>\n",
              "      <td>0.0</td>\n",
              "      <td>graduated</td>\n",
              "      <td>68.0</td>\n",
              "      <td>-1.0</td>\n",
              "      <td>other</td>\n",
              "      <td>2012</td>\n",
              "      <td>vallejo</td>\n",
              "      <td>no</td>\n",
              "      <td>straight</td>\n",
              "      <td>0.0</td>\n",
              "      <td>english (fluently), french (poorly)</td>\n",
              "      <td>single</td>\n",
              "      <td>2.0</td>\n",
              "      <td>Millennial</td>\n",
              "    </tr>\n",
              "    <tr>\n",
              "      <th>4995</th>\n",
              "      <td>31</td>\n",
              "      <td>sporty</td>\n",
              "      <td>anything</td>\n",
              "      <td>2.0</td>\n",
              "      <td>0.0</td>\n",
              "      <td>graduated</td>\n",
              "      <td>71.0</td>\n",
              "      <td>-1.0</td>\n",
              "      <td>science / tech / engineering</td>\n",
              "      <td>2012</td>\n",
              "      <td>mountain view</td>\n",
              "      <td>no</td>\n",
              "      <td>straight</td>\n",
              "      <td>0.0</td>\n",
              "      <td>english, spanish (poorly)</td>\n",
              "      <td>single</td>\n",
              "      <td>2.0</td>\n",
              "      <td>Millennial</td>\n",
              "    </tr>\n",
              "    <tr>\n",
              "      <th>7192</th>\n",
              "      <td>35</td>\n",
              "      <td>sporty</td>\n",
              "      <td>anything</td>\n",
              "      <td>2.0</td>\n",
              "      <td>0.0</td>\n",
              "      <td>graduated</td>\n",
              "      <td>68.0</td>\n",
              "      <td>-1.0</td>\n",
              "      <td>artistic / musical / writer</td>\n",
              "      <td>2012</td>\n",
              "      <td>san francisco</td>\n",
              "      <td>no</td>\n",
              "      <td>straight</td>\n",
              "      <td>0.0</td>\n",
              "      <td>english (fluently), french (poorly), russian (...</td>\n",
              "      <td>single</td>\n",
              "      <td>3.0</td>\n",
              "      <td>Gen X-er</td>\n",
              "    </tr>\n",
              "    <tr>\n",
              "      <th>2434</th>\n",
              "      <td>31</td>\n",
              "      <td>sporty</td>\n",
              "      <td>anything</td>\n",
              "      <td>2.0</td>\n",
              "      <td>1.0</td>\n",
              "      <td>graduated</td>\n",
              "      <td>74.0</td>\n",
              "      <td>-1.0</td>\n",
              "      <td>entertainment / media</td>\n",
              "      <td>2012</td>\n",
              "      <td>san francisco</td>\n",
              "      <td>no</td>\n",
              "      <td>straight</td>\n",
              "      <td>2.0</td>\n",
              "      <td>english (fluently), russian (fluently), french...</td>\n",
              "      <td>single</td>\n",
              "      <td>3.0</td>\n",
              "      <td>Millennial</td>\n",
              "    </tr>\n",
              "    <tr>\n",
              "      <th>1291</th>\n",
              "      <td>29</td>\n",
              "      <td>sporty</td>\n",
              "      <td>anything</td>\n",
              "      <td>2.0</td>\n",
              "      <td>0.0</td>\n",
              "      <td>graduated</td>\n",
              "      <td>66.0</td>\n",
              "      <td>-1.0</td>\n",
              "      <td>computer / hardware / software</td>\n",
              "      <td>2012</td>\n",
              "      <td>san leandro</td>\n",
              "      <td>no</td>\n",
              "      <td>straight</td>\n",
              "      <td>0.0</td>\n",
              "      <td>english (fluently), chinese (poorly)</td>\n",
              "      <td>single</td>\n",
              "      <td>2.0</td>\n",
              "      <td>Millennial</td>\n",
              "    </tr>\n",
              "    <tr>\n",
              "      <th>7347</th>\n",
              "      <td>29</td>\n",
              "      <td>sporty</td>\n",
              "      <td>anything</td>\n",
              "      <td>2.0</td>\n",
              "      <td>0.0</td>\n",
              "      <td>graduated</td>\n",
              "      <td>69.0</td>\n",
              "      <td>50000.0</td>\n",
              "      <td>sales / marketing / biz dev</td>\n",
              "      <td>2012</td>\n",
              "      <td>san francisco</td>\n",
              "      <td>no</td>\n",
              "      <td>straight</td>\n",
              "      <td>0.0</td>\n",
              "      <td>english (fluently), arabic (fluently), spanish...</td>\n",
              "      <td>single</td>\n",
              "      <td>5.0</td>\n",
              "      <td>Millennial</td>\n",
              "    </tr>\n",
              "    <tr>\n",
              "      <th>4911</th>\n",
              "      <td>27</td>\n",
              "      <td>sporty</td>\n",
              "      <td>anything</td>\n",
              "      <td>2.0</td>\n",
              "      <td>0.0</td>\n",
              "      <td>graduated</td>\n",
              "      <td>69.0</td>\n",
              "      <td>-1.0</td>\n",
              "      <td>science / tech / engineering</td>\n",
              "      <td>2012</td>\n",
              "      <td>san francisco</td>\n",
              "      <td>no</td>\n",
              "      <td>straight</td>\n",
              "      <td>0.0</td>\n",
              "      <td>english (fluently), chinese (okay)</td>\n",
              "      <td>single</td>\n",
              "      <td>2.0</td>\n",
              "      <td>Millennial</td>\n",
              "    </tr>\n",
              "    <tr>\n",
              "      <th>4766</th>\n",
              "      <td>28</td>\n",
              "      <td>curvy</td>\n",
              "      <td>other</td>\n",
              "      <td>1.0</td>\n",
              "      <td>1.0</td>\n",
              "      <td>graduated</td>\n",
              "      <td>63.0</td>\n",
              "      <td>-1.0</td>\n",
              "      <td>other</td>\n",
              "      <td>2011</td>\n",
              "      <td>san francisco</td>\n",
              "      <td>no</td>\n",
              "      <td>bisexual</td>\n",
              "      <td>0.0</td>\n",
              "      <td>english (fluently), spanish (poorly), russian ...</td>\n",
              "      <td>single</td>\n",
              "      <td>3.0</td>\n",
              "      <td>Millennial</td>\n",
              "    </tr>\n",
              "    <tr>\n",
              "      <th>8486</th>\n",
              "      <td>24</td>\n",
              "      <td>average</td>\n",
              "      <td>anything</td>\n",
              "      <td>2.0</td>\n",
              "      <td>0.0</td>\n",
              "      <td>graduated</td>\n",
              "      <td>73.0</td>\n",
              "      <td>-1.0</td>\n",
              "      <td>student</td>\n",
              "      <td>2012</td>\n",
              "      <td>walnut creek</td>\n",
              "      <td>no</td>\n",
              "      <td>straight</td>\n",
              "      <td>2.0</td>\n",
              "      <td>english</td>\n",
              "      <td>single</td>\n",
              "      <td>1.0</td>\n",
              "      <td>Millennial</td>\n",
              "    </tr>\n",
              "    <tr>\n",
              "      <th>5609</th>\n",
              "      <td>29</td>\n",
              "      <td>sporty</td>\n",
              "      <td>anything</td>\n",
              "      <td>2.0</td>\n",
              "      <td>0.0</td>\n",
              "      <td>graduated</td>\n",
              "      <td>60.0</td>\n",
              "      <td>-1.0</td>\n",
              "      <td>other</td>\n",
              "      <td>2012</td>\n",
              "      <td>oakland</td>\n",
              "      <td>no</td>\n",
              "      <td>straight</td>\n",
              "      <td>0.0</td>\n",
              "      <td>english</td>\n",
              "      <td>single</td>\n",
              "      <td>1.0</td>\n",
              "      <td>Millennial</td>\n",
              "    </tr>\n",
              "  </tbody>\n",
              "</table>\n",
              "</div>\n",
              "      <button class=\"colab-df-convert\" onclick=\"convertToInteractive('df-61c3aa55-aa0a-43eb-bf11-aefe970dae33')\"\n",
              "              title=\"Convert this dataframe to an interactive table.\"\n",
              "              style=\"display:none;\">\n",
              "        \n",
              "  <svg xmlns=\"http://www.w3.org/2000/svg\" height=\"24px\"viewBox=\"0 0 24 24\"\n",
              "       width=\"24px\">\n",
              "    <path d=\"M0 0h24v24H0V0z\" fill=\"none\"/>\n",
              "    <path d=\"M18.56 5.44l.94 2.06.94-2.06 2.06-.94-2.06-.94-.94-2.06-.94 2.06-2.06.94zm-11 1L8.5 8.5l.94-2.06 2.06-.94-2.06-.94L8.5 2.5l-.94 2.06-2.06.94zm10 10l.94 2.06.94-2.06 2.06-.94-2.06-.94-.94-2.06-.94 2.06-2.06.94z\"/><path d=\"M17.41 7.96l-1.37-1.37c-.4-.4-.92-.59-1.43-.59-.52 0-1.04.2-1.43.59L10.3 9.45l-7.72 7.72c-.78.78-.78 2.05 0 2.83L4 21.41c.39.39.9.59 1.41.59.51 0 1.02-.2 1.41-.59l7.78-7.78 2.81-2.81c.8-.78.8-2.07 0-2.86zM5.41 20L4 18.59l7.72-7.72 1.47 1.35L5.41 20z\"/>\n",
              "  </svg>\n",
              "      </button>\n",
              "      \n",
              "  <style>\n",
              "    .colab-df-container {\n",
              "      display:flex;\n",
              "      flex-wrap:wrap;\n",
              "      gap: 12px;\n",
              "    }\n",
              "\n",
              "    .colab-df-convert {\n",
              "      background-color: #E8F0FE;\n",
              "      border: none;\n",
              "      border-radius: 50%;\n",
              "      cursor: pointer;\n",
              "      display: none;\n",
              "      fill: #1967D2;\n",
              "      height: 32px;\n",
              "      padding: 0 0 0 0;\n",
              "      width: 32px;\n",
              "    }\n",
              "\n",
              "    .colab-df-convert:hover {\n",
              "      background-color: #E2EBFA;\n",
              "      box-shadow: 0px 1px 2px rgba(60, 64, 67, 0.3), 0px 1px 3px 1px rgba(60, 64, 67, 0.15);\n",
              "      fill: #174EA6;\n",
              "    }\n",
              "\n",
              "    [theme=dark] .colab-df-convert {\n",
              "      background-color: #3B4455;\n",
              "      fill: #D2E3FC;\n",
              "    }\n",
              "\n",
              "    [theme=dark] .colab-df-convert:hover {\n",
              "      background-color: #434B5C;\n",
              "      box-shadow: 0px 1px 3px 1px rgba(0, 0, 0, 0.15);\n",
              "      filter: drop-shadow(0px 1px 2px rgba(0, 0, 0, 0.3));\n",
              "      fill: #FFFFFF;\n",
              "    }\n",
              "  </style>\n",
              "\n",
              "      <script>\n",
              "        const buttonEl =\n",
              "          document.querySelector('#df-61c3aa55-aa0a-43eb-bf11-aefe970dae33 button.colab-df-convert');\n",
              "        buttonEl.style.display =\n",
              "          google.colab.kernel.accessAllowed ? 'block' : 'none';\n",
              "\n",
              "        async function convertToInteractive(key) {\n",
              "          const element = document.querySelector('#df-61c3aa55-aa0a-43eb-bf11-aefe970dae33');\n",
              "          const dataTable =\n",
              "            await google.colab.kernel.invokeFunction('convertToInteractive',\n",
              "                                                     [key], {});\n",
              "          if (!dataTable) return;\n",
              "\n",
              "          const docLinkHtml = 'Like what you see? Visit the ' +\n",
              "            '<a target=\"_blank\" href=https://colab.research.google.com/notebooks/data_table.ipynb>data table notebook</a>'\n",
              "            + ' to learn more about interactive tables.';\n",
              "          element.innerHTML = '';\n",
              "          dataTable['output_type'] = 'display_data';\n",
              "          await google.colab.output.renderOutput(dataTable, element);\n",
              "          const docLink = document.createElement('div');\n",
              "          docLink.innerHTML = docLinkHtml;\n",
              "          element.appendChild(docLink);\n",
              "        }\n",
              "      </script>\n",
              "    </div>\n",
              "  </div>\n",
              "  "
            ]
          },
          "metadata": {},
          "execution_count": 68
        }
      ],
      "source": [
        "df.sample(10)"
      ]
    },
    {
      "cell_type": "code",
      "execution_count": 69,
      "id": "78350c7f",
      "metadata": {
        "id": "78350c7f",
        "colab": {
          "base_uri": "https://localhost:8080/",
          "height": 300
        },
        "outputId": "bd9378cd-0f3b-4cee-8721-bdab46b1c6cd"
      },
      "outputs": [
        {
          "output_type": "execute_result",
          "data": {
            "text/plain": [
              "                  age    drinks     drugs    height    income  last_online  \\\n",
              "age          1.000000 -0.114700 -0.115619 -0.022078  0.011424     0.015792   \n",
              "drinks      -0.114700  1.000000  0.177768  0.036521  0.040990    -0.003259   \n",
              "drugs       -0.115619  0.177768  1.000000  0.042675  0.068737    -0.015404   \n",
              "height      -0.022078  0.036521  0.042675  1.000000  0.073105     0.016633   \n",
              "income       0.011424  0.040990  0.068737  0.073105  1.000000    -0.009376   \n",
              "last_online  0.015792 -0.003259 -0.015404  0.016633 -0.009376     1.000000   \n",
              "smokes      -0.149530  0.130861  0.293364  0.033916  0.034490    -0.032069   \n",
              "languages   -0.024326 -0.009832  0.007758  0.015972  0.063330     0.035810   \n",
              "\n",
              "               smokes  languages  \n",
              "age         -0.149530  -0.024326  \n",
              "drinks       0.130861  -0.009832  \n",
              "drugs        0.293364   0.007758  \n",
              "height       0.033916   0.015972  \n",
              "income       0.034490   0.063330  \n",
              "last_online -0.032069   0.035810  \n",
              "smokes       1.000000  -0.026991  \n",
              "languages   -0.026991   1.000000  "
            ],
            "text/html": [
              "\n",
              "  <div id=\"df-e093fa04-f1de-4330-ac83-5b4d865697c7\">\n",
              "    <div class=\"colab-df-container\">\n",
              "      <div>\n",
              "<style scoped>\n",
              "    .dataframe tbody tr th:only-of-type {\n",
              "        vertical-align: middle;\n",
              "    }\n",
              "\n",
              "    .dataframe tbody tr th {\n",
              "        vertical-align: top;\n",
              "    }\n",
              "\n",
              "    .dataframe thead th {\n",
              "        text-align: right;\n",
              "    }\n",
              "</style>\n",
              "<table border=\"1\" class=\"dataframe\">\n",
              "  <thead>\n",
              "    <tr style=\"text-align: right;\">\n",
              "      <th></th>\n",
              "      <th>age</th>\n",
              "      <th>drinks</th>\n",
              "      <th>drugs</th>\n",
              "      <th>height</th>\n",
              "      <th>income</th>\n",
              "      <th>last_online</th>\n",
              "      <th>smokes</th>\n",
              "      <th>languages</th>\n",
              "    </tr>\n",
              "  </thead>\n",
              "  <tbody>\n",
              "    <tr>\n",
              "      <th>age</th>\n",
              "      <td>1.000000</td>\n",
              "      <td>-0.114700</td>\n",
              "      <td>-0.115619</td>\n",
              "      <td>-0.022078</td>\n",
              "      <td>0.011424</td>\n",
              "      <td>0.015792</td>\n",
              "      <td>-0.149530</td>\n",
              "      <td>-0.024326</td>\n",
              "    </tr>\n",
              "    <tr>\n",
              "      <th>drinks</th>\n",
              "      <td>-0.114700</td>\n",
              "      <td>1.000000</td>\n",
              "      <td>0.177768</td>\n",
              "      <td>0.036521</td>\n",
              "      <td>0.040990</td>\n",
              "      <td>-0.003259</td>\n",
              "      <td>0.130861</td>\n",
              "      <td>-0.009832</td>\n",
              "    </tr>\n",
              "    <tr>\n",
              "      <th>drugs</th>\n",
              "      <td>-0.115619</td>\n",
              "      <td>0.177768</td>\n",
              "      <td>1.000000</td>\n",
              "      <td>0.042675</td>\n",
              "      <td>0.068737</td>\n",
              "      <td>-0.015404</td>\n",
              "      <td>0.293364</td>\n",
              "      <td>0.007758</td>\n",
              "    </tr>\n",
              "    <tr>\n",
              "      <th>height</th>\n",
              "      <td>-0.022078</td>\n",
              "      <td>0.036521</td>\n",
              "      <td>0.042675</td>\n",
              "      <td>1.000000</td>\n",
              "      <td>0.073105</td>\n",
              "      <td>0.016633</td>\n",
              "      <td>0.033916</td>\n",
              "      <td>0.015972</td>\n",
              "    </tr>\n",
              "    <tr>\n",
              "      <th>income</th>\n",
              "      <td>0.011424</td>\n",
              "      <td>0.040990</td>\n",
              "      <td>0.068737</td>\n",
              "      <td>0.073105</td>\n",
              "      <td>1.000000</td>\n",
              "      <td>-0.009376</td>\n",
              "      <td>0.034490</td>\n",
              "      <td>0.063330</td>\n",
              "    </tr>\n",
              "    <tr>\n",
              "      <th>last_online</th>\n",
              "      <td>0.015792</td>\n",
              "      <td>-0.003259</td>\n",
              "      <td>-0.015404</td>\n",
              "      <td>0.016633</td>\n",
              "      <td>-0.009376</td>\n",
              "      <td>1.000000</td>\n",
              "      <td>-0.032069</td>\n",
              "      <td>0.035810</td>\n",
              "    </tr>\n",
              "    <tr>\n",
              "      <th>smokes</th>\n",
              "      <td>-0.149530</td>\n",
              "      <td>0.130861</td>\n",
              "      <td>0.293364</td>\n",
              "      <td>0.033916</td>\n",
              "      <td>0.034490</td>\n",
              "      <td>-0.032069</td>\n",
              "      <td>1.000000</td>\n",
              "      <td>-0.026991</td>\n",
              "    </tr>\n",
              "    <tr>\n",
              "      <th>languages</th>\n",
              "      <td>-0.024326</td>\n",
              "      <td>-0.009832</td>\n",
              "      <td>0.007758</td>\n",
              "      <td>0.015972</td>\n",
              "      <td>0.063330</td>\n",
              "      <td>0.035810</td>\n",
              "      <td>-0.026991</td>\n",
              "      <td>1.000000</td>\n",
              "    </tr>\n",
              "  </tbody>\n",
              "</table>\n",
              "</div>\n",
              "      <button class=\"colab-df-convert\" onclick=\"convertToInteractive('df-e093fa04-f1de-4330-ac83-5b4d865697c7')\"\n",
              "              title=\"Convert this dataframe to an interactive table.\"\n",
              "              style=\"display:none;\">\n",
              "        \n",
              "  <svg xmlns=\"http://www.w3.org/2000/svg\" height=\"24px\"viewBox=\"0 0 24 24\"\n",
              "       width=\"24px\">\n",
              "    <path d=\"M0 0h24v24H0V0z\" fill=\"none\"/>\n",
              "    <path d=\"M18.56 5.44l.94 2.06.94-2.06 2.06-.94-2.06-.94-.94-2.06-.94 2.06-2.06.94zm-11 1L8.5 8.5l.94-2.06 2.06-.94-2.06-.94L8.5 2.5l-.94 2.06-2.06.94zm10 10l.94 2.06.94-2.06 2.06-.94-2.06-.94-.94-2.06-.94 2.06-2.06.94z\"/><path d=\"M17.41 7.96l-1.37-1.37c-.4-.4-.92-.59-1.43-.59-.52 0-1.04.2-1.43.59L10.3 9.45l-7.72 7.72c-.78.78-.78 2.05 0 2.83L4 21.41c.39.39.9.59 1.41.59.51 0 1.02-.2 1.41-.59l7.78-7.78 2.81-2.81c.8-.78.8-2.07 0-2.86zM5.41 20L4 18.59l7.72-7.72 1.47 1.35L5.41 20z\"/>\n",
              "  </svg>\n",
              "      </button>\n",
              "      \n",
              "  <style>\n",
              "    .colab-df-container {\n",
              "      display:flex;\n",
              "      flex-wrap:wrap;\n",
              "      gap: 12px;\n",
              "    }\n",
              "\n",
              "    .colab-df-convert {\n",
              "      background-color: #E8F0FE;\n",
              "      border: none;\n",
              "      border-radius: 50%;\n",
              "      cursor: pointer;\n",
              "      display: none;\n",
              "      fill: #1967D2;\n",
              "      height: 32px;\n",
              "      padding: 0 0 0 0;\n",
              "      width: 32px;\n",
              "    }\n",
              "\n",
              "    .colab-df-convert:hover {\n",
              "      background-color: #E2EBFA;\n",
              "      box-shadow: 0px 1px 2px rgba(60, 64, 67, 0.3), 0px 1px 3px 1px rgba(60, 64, 67, 0.15);\n",
              "      fill: #174EA6;\n",
              "    }\n",
              "\n",
              "    [theme=dark] .colab-df-convert {\n",
              "      background-color: #3B4455;\n",
              "      fill: #D2E3FC;\n",
              "    }\n",
              "\n",
              "    [theme=dark] .colab-df-convert:hover {\n",
              "      background-color: #434B5C;\n",
              "      box-shadow: 0px 1px 3px 1px rgba(0, 0, 0, 0.15);\n",
              "      filter: drop-shadow(0px 1px 2px rgba(0, 0, 0, 0.3));\n",
              "      fill: #FFFFFF;\n",
              "    }\n",
              "  </style>\n",
              "\n",
              "      <script>\n",
              "        const buttonEl =\n",
              "          document.querySelector('#df-e093fa04-f1de-4330-ac83-5b4d865697c7 button.colab-df-convert');\n",
              "        buttonEl.style.display =\n",
              "          google.colab.kernel.accessAllowed ? 'block' : 'none';\n",
              "\n",
              "        async function convertToInteractive(key) {\n",
              "          const element = document.querySelector('#df-e093fa04-f1de-4330-ac83-5b4d865697c7');\n",
              "          const dataTable =\n",
              "            await google.colab.kernel.invokeFunction('convertToInteractive',\n",
              "                                                     [key], {});\n",
              "          if (!dataTable) return;\n",
              "\n",
              "          const docLinkHtml = 'Like what you see? Visit the ' +\n",
              "            '<a target=\"_blank\" href=https://colab.research.google.com/notebooks/data_table.ipynb>data table notebook</a>'\n",
              "            + ' to learn more about interactive tables.';\n",
              "          element.innerHTML = '';\n",
              "          dataTable['output_type'] = 'display_data';\n",
              "          await google.colab.output.renderOutput(dataTable, element);\n",
              "          const docLink = document.createElement('div');\n",
              "          docLink.innerHTML = docLinkHtml;\n",
              "          element.appendChild(docLink);\n",
              "        }\n",
              "      </script>\n",
              "    </div>\n",
              "  </div>\n",
              "  "
            ]
          },
          "metadata": {},
          "execution_count": 69
        }
      ],
      "source": [
        "df.corr()"
      ]
    },
    {
      "cell_type": "code",
      "execution_count": 70,
      "id": "dd2d18c3",
      "metadata": {
        "id": "dd2d18c3",
        "colab": {
          "base_uri": "https://localhost:8080/",
          "height": 300
        },
        "outputId": "3fae28b7-0377-4a2e-fbbc-db048c905a22"
      },
      "outputs": [
        {
          "output_type": "execute_result",
          "data": {
            "text/plain": [
              "               age       drinks        drugs       height          income  \\\n",
              "count  9514.000000  9514.000000  9514.000000  9514.000000     9514.000000   \n",
              "mean     32.084192     1.909397     0.137166    68.337398    18887.145155   \n",
              "std       9.445488     0.675742     0.362490     3.905229    91428.807808   \n",
              "min      18.000000     0.000000     0.000000    36.000000       -1.000000   \n",
              "25%      25.000000     2.000000     0.000000    66.000000       -1.000000   \n",
              "50%      30.000000     2.000000     0.000000    68.000000       -1.000000   \n",
              "75%      36.000000     2.000000     0.000000    71.000000       -1.000000   \n",
              "max     110.000000     5.000000     2.000000    95.000000  1000000.000000   \n",
              "\n",
              "       last_online       smokes    languages  \n",
              "count  9514.000000  9514.000000  9514.000000  \n",
              "mean   2011.922745     0.423691     1.850116  \n",
              "std       0.267009     1.026153     1.031628  \n",
              "min    2011.000000     0.000000     1.000000  \n",
              "25%    2012.000000     0.000000     1.000000  \n",
              "50%    2012.000000     0.000000     2.000000  \n",
              "75%    2012.000000     0.000000     2.000000  \n",
              "max    2012.000000     4.000000     5.000000  "
            ],
            "text/html": [
              "\n",
              "  <div id=\"df-d1cee84d-ce0f-4e2e-84f7-2edf10c880bf\">\n",
              "    <div class=\"colab-df-container\">\n",
              "      <div>\n",
              "<style scoped>\n",
              "    .dataframe tbody tr th:only-of-type {\n",
              "        vertical-align: middle;\n",
              "    }\n",
              "\n",
              "    .dataframe tbody tr th {\n",
              "        vertical-align: top;\n",
              "    }\n",
              "\n",
              "    .dataframe thead th {\n",
              "        text-align: right;\n",
              "    }\n",
              "</style>\n",
              "<table border=\"1\" class=\"dataframe\">\n",
              "  <thead>\n",
              "    <tr style=\"text-align: right;\">\n",
              "      <th></th>\n",
              "      <th>age</th>\n",
              "      <th>drinks</th>\n",
              "      <th>drugs</th>\n",
              "      <th>height</th>\n",
              "      <th>income</th>\n",
              "      <th>last_online</th>\n",
              "      <th>smokes</th>\n",
              "      <th>languages</th>\n",
              "    </tr>\n",
              "  </thead>\n",
              "  <tbody>\n",
              "    <tr>\n",
              "      <th>count</th>\n",
              "      <td>9514.000000</td>\n",
              "      <td>9514.000000</td>\n",
              "      <td>9514.000000</td>\n",
              "      <td>9514.000000</td>\n",
              "      <td>9514.000000</td>\n",
              "      <td>9514.000000</td>\n",
              "      <td>9514.000000</td>\n",
              "      <td>9514.000000</td>\n",
              "    </tr>\n",
              "    <tr>\n",
              "      <th>mean</th>\n",
              "      <td>32.084192</td>\n",
              "      <td>1.909397</td>\n",
              "      <td>0.137166</td>\n",
              "      <td>68.337398</td>\n",
              "      <td>18887.145155</td>\n",
              "      <td>2011.922745</td>\n",
              "      <td>0.423691</td>\n",
              "      <td>1.850116</td>\n",
              "    </tr>\n",
              "    <tr>\n",
              "      <th>std</th>\n",
              "      <td>9.445488</td>\n",
              "      <td>0.675742</td>\n",
              "      <td>0.362490</td>\n",
              "      <td>3.905229</td>\n",
              "      <td>91428.807808</td>\n",
              "      <td>0.267009</td>\n",
              "      <td>1.026153</td>\n",
              "      <td>1.031628</td>\n",
              "    </tr>\n",
              "    <tr>\n",
              "      <th>min</th>\n",
              "      <td>18.000000</td>\n",
              "      <td>0.000000</td>\n",
              "      <td>0.000000</td>\n",
              "      <td>36.000000</td>\n",
              "      <td>-1.000000</td>\n",
              "      <td>2011.000000</td>\n",
              "      <td>0.000000</td>\n",
              "      <td>1.000000</td>\n",
              "    </tr>\n",
              "    <tr>\n",
              "      <th>25%</th>\n",
              "      <td>25.000000</td>\n",
              "      <td>2.000000</td>\n",
              "      <td>0.000000</td>\n",
              "      <td>66.000000</td>\n",
              "      <td>-1.000000</td>\n",
              "      <td>2012.000000</td>\n",
              "      <td>0.000000</td>\n",
              "      <td>1.000000</td>\n",
              "    </tr>\n",
              "    <tr>\n",
              "      <th>50%</th>\n",
              "      <td>30.000000</td>\n",
              "      <td>2.000000</td>\n",
              "      <td>0.000000</td>\n",
              "      <td>68.000000</td>\n",
              "      <td>-1.000000</td>\n",
              "      <td>2012.000000</td>\n",
              "      <td>0.000000</td>\n",
              "      <td>2.000000</td>\n",
              "    </tr>\n",
              "    <tr>\n",
              "      <th>75%</th>\n",
              "      <td>36.000000</td>\n",
              "      <td>2.000000</td>\n",
              "      <td>0.000000</td>\n",
              "      <td>71.000000</td>\n",
              "      <td>-1.000000</td>\n",
              "      <td>2012.000000</td>\n",
              "      <td>0.000000</td>\n",
              "      <td>2.000000</td>\n",
              "    </tr>\n",
              "    <tr>\n",
              "      <th>max</th>\n",
              "      <td>110.000000</td>\n",
              "      <td>5.000000</td>\n",
              "      <td>2.000000</td>\n",
              "      <td>95.000000</td>\n",
              "      <td>1000000.000000</td>\n",
              "      <td>2012.000000</td>\n",
              "      <td>4.000000</td>\n",
              "      <td>5.000000</td>\n",
              "    </tr>\n",
              "  </tbody>\n",
              "</table>\n",
              "</div>\n",
              "      <button class=\"colab-df-convert\" onclick=\"convertToInteractive('df-d1cee84d-ce0f-4e2e-84f7-2edf10c880bf')\"\n",
              "              title=\"Convert this dataframe to an interactive table.\"\n",
              "              style=\"display:none;\">\n",
              "        \n",
              "  <svg xmlns=\"http://www.w3.org/2000/svg\" height=\"24px\"viewBox=\"0 0 24 24\"\n",
              "       width=\"24px\">\n",
              "    <path d=\"M0 0h24v24H0V0z\" fill=\"none\"/>\n",
              "    <path d=\"M18.56 5.44l.94 2.06.94-2.06 2.06-.94-2.06-.94-.94-2.06-.94 2.06-2.06.94zm-11 1L8.5 8.5l.94-2.06 2.06-.94-2.06-.94L8.5 2.5l-.94 2.06-2.06.94zm10 10l.94 2.06.94-2.06 2.06-.94-2.06-.94-.94-2.06-.94 2.06-2.06.94z\"/><path d=\"M17.41 7.96l-1.37-1.37c-.4-.4-.92-.59-1.43-.59-.52 0-1.04.2-1.43.59L10.3 9.45l-7.72 7.72c-.78.78-.78 2.05 0 2.83L4 21.41c.39.39.9.59 1.41.59.51 0 1.02-.2 1.41-.59l7.78-7.78 2.81-2.81c.8-.78.8-2.07 0-2.86zM5.41 20L4 18.59l7.72-7.72 1.47 1.35L5.41 20z\"/>\n",
              "  </svg>\n",
              "      </button>\n",
              "      \n",
              "  <style>\n",
              "    .colab-df-container {\n",
              "      display:flex;\n",
              "      flex-wrap:wrap;\n",
              "      gap: 12px;\n",
              "    }\n",
              "\n",
              "    .colab-df-convert {\n",
              "      background-color: #E8F0FE;\n",
              "      border: none;\n",
              "      border-radius: 50%;\n",
              "      cursor: pointer;\n",
              "      display: none;\n",
              "      fill: #1967D2;\n",
              "      height: 32px;\n",
              "      padding: 0 0 0 0;\n",
              "      width: 32px;\n",
              "    }\n",
              "\n",
              "    .colab-df-convert:hover {\n",
              "      background-color: #E2EBFA;\n",
              "      box-shadow: 0px 1px 2px rgba(60, 64, 67, 0.3), 0px 1px 3px 1px rgba(60, 64, 67, 0.15);\n",
              "      fill: #174EA6;\n",
              "    }\n",
              "\n",
              "    [theme=dark] .colab-df-convert {\n",
              "      background-color: #3B4455;\n",
              "      fill: #D2E3FC;\n",
              "    }\n",
              "\n",
              "    [theme=dark] .colab-df-convert:hover {\n",
              "      background-color: #434B5C;\n",
              "      box-shadow: 0px 1px 3px 1px rgba(0, 0, 0, 0.15);\n",
              "      filter: drop-shadow(0px 1px 2px rgba(0, 0, 0, 0.3));\n",
              "      fill: #FFFFFF;\n",
              "    }\n",
              "  </style>\n",
              "\n",
              "      <script>\n",
              "        const buttonEl =\n",
              "          document.querySelector('#df-d1cee84d-ce0f-4e2e-84f7-2edf10c880bf button.colab-df-convert');\n",
              "        buttonEl.style.display =\n",
              "          google.colab.kernel.accessAllowed ? 'block' : 'none';\n",
              "\n",
              "        async function convertToInteractive(key) {\n",
              "          const element = document.querySelector('#df-d1cee84d-ce0f-4e2e-84f7-2edf10c880bf');\n",
              "          const dataTable =\n",
              "            await google.colab.kernel.invokeFunction('convertToInteractive',\n",
              "                                                     [key], {});\n",
              "          if (!dataTable) return;\n",
              "\n",
              "          const docLinkHtml = 'Like what you see? Visit the ' +\n",
              "            '<a target=\"_blank\" href=https://colab.research.google.com/notebooks/data_table.ipynb>data table notebook</a>'\n",
              "            + ' to learn more about interactive tables.';\n",
              "          element.innerHTML = '';\n",
              "          dataTable['output_type'] = 'display_data';\n",
              "          await google.colab.output.renderOutput(dataTable, element);\n",
              "          const docLink = document.createElement('div');\n",
              "          docLink.innerHTML = docLinkHtml;\n",
              "          element.appendChild(docLink);\n",
              "        }\n",
              "      </script>\n",
              "    </div>\n",
              "  </div>\n",
              "  "
            ]
          },
          "metadata": {},
          "execution_count": 70
        }
      ],
      "source": [
        "df.describe()"
      ]
    },
    {
      "cell_type": "code",
      "execution_count": 71,
      "id": "147ee975",
      "metadata": {
        "id": "147ee975",
        "colab": {
          "base_uri": "https://localhost:8080/",
          "height": 596
        },
        "outputId": "e230b2ff-465d-4ae1-dcce-117176ba5464"
      },
      "outputs": [
        {
          "output_type": "display_data",
          "data": {
            "text/plain": [
              "<Figure size 1080x720 with 2 Axes>"
            ],
            "image/png": "[encoded data removed]"
          },
          "metadata": {
            "needs_background": "light"
          }
        }
      ],
      "source": [
        "fig = plt.figure(figsize=(15,10))\n",
        "sns.heatmap(df.corr(), annot=True);"
      ]
    },
    {
      "cell_type": "markdown",
      "id": "cc1962d2",
      "metadata": {
        "id": "cc1962d2"
      },
      "source": [
        "# Regression"
      ]
    },
    {
      "cell_type": "code",
      "execution_count": 72,
      "id": "34062d94",
      "metadata": {
        "id": "34062d94"
      },
      "outputs": [],
      "source": [
        "df_reg=pd.get_dummies(df,drop_first=True)"
      ]
    },
    {
      "cell_type": "code",
      "execution_count": 73,
      "id": "e22b946d",
      "metadata": {
        "id": "e22b946d",
        "colab": {
          "base_uri": "https://localhost:8080/"
        },
        "outputId": "4ab894cf-79d7-47f9-acea-dd7f943bec3b"
      },
      "outputs": [
        {
          "output_type": "execute_result",
          "data": {
            "text/plain": [
              "(9514, 1934)"
            ]
          },
          "metadata": {},
          "execution_count": 73
        }
      ],
      "source": [
        "df_reg.shape"
      ]
    },
    {
      "cell_type": "code",
      "execution_count": 74,
      "id": "2fc2cc7c",
      "metadata": {
        "id": "2fc2cc7c"
      },
      "outputs": [],
      "source": [
        "x,y=df_reg.drop(\"age\",axis=1),df[[\"age\"]]"
      ]
    },
    {
      "cell_type": "code",
      "execution_count": 75,
      "id": "503253ab",
      "metadata": {
        "id": "503253ab"
      },
      "outputs": [],
      "source": [
        "def regression(x,y):\n",
        "    from sklearn.linear_model import LinearRegression\n",
        "    from sklearn.linear_model import Ridge,Lasso\n",
        "    from sklearn.linear_model import ElasticNet\n",
        "    from sklearn.tree import ExtraTreeRegressor\n",
        "    from sklearn.ensemble import GradientBoostingRegressor\n",
        "    from sklearn.neighbors import KNeighborsRegressor\n",
        "    \n",
        "    from sklearn.model_selection import train_test_split\n",
        "\n",
        "    from sklearn.metrics import mean_squared_error,r2_score,mean_absolute_error\n",
        "    \n",
        "    \n",
        "    x_train,x_test,y_train,y_test=train_test_split(x,y,test_size=0.2,random_state=42)\n",
        "\n",
        "    L=LinearRegression()\n",
        "    R=Ridge()\n",
        "    Lass=Lasso()\n",
        "    E=ElasticNet()\n",
        "    ExTree=ExtraTreeRegressor()\n",
        "    GBR=GradientBoostingRegressor()\n",
        "    KN=KNeighborsRegressor()\n",
        "    \n",
        "    algos=[L,R,Lass,E,ExTree,GBR,KN]\n",
        "    algo_names=['LinearRegression','Ridge','Lasso','ElasticNet','ExtraTreeRegressor','GradientBoostingRegressor','KNeighborsRegressor']\n",
        "    r_squared=[]\n",
        "    rmse=[]\n",
        "    mae=[]\n",
        "    \n",
        "    result=pd.DataFrame(columns=['R_Squared','RMSE','MAE'],index=algo_names)\n",
        "    \n",
        "    for item in algos:\n",
        "        item.fit(x_train,y_train)\n",
        "        item.predict(x_test)\n",
        "        r_squared.append(r2_score(y_test,item.predict(x_test)))\n",
        "        rmse.append((mean_squared_error(y_test,item.predict(x_test)))**.5)\n",
        "        mae.append(mean_absolute_error(y_test,item.predict(x_test)))\n",
        "        \n",
        "    result.R_Squared=r_squared\n",
        "    result.RMSE=rmse\n",
        "    result.MAE=mae\n",
        "        \n",
        "    return result.sort_values('R_Squared',ascending=False)"
      ]
    },
    {
      "cell_type": "code",
      "execution_count": 76,
      "id": "c76dc4fe",
      "metadata": {
        "id": "c76dc4fe",
        "colab": {
          "base_uri": "https://localhost:8080/",
          "height": 269
        },
        "outputId": "4883e5ed-5dc5-42c0-b4bc-00c48a2c2e53"
      },
      "outputs": [
        {
          "output_type": "execute_result",
          "data": {
            "text/plain": [
              "                           R_Squared      RMSE       MAE\n",
              "GradientBoostingRegressor   0.855603  3.622643  2.946936\n",
              "Ridge                       0.845847  3.743017  3.011322\n",
              "ExtraTreeRegressor          0.731605  4.938930  3.849909\n",
              "LinearRegression            0.670085  5.475794  4.082284\n",
              "Lasso                       0.572190  6.235505  4.213471\n",
              "KNeighborsRegressor         0.467521  6.956603  4.584761\n",
              "ElasticNet                  0.310467  7.916325  5.421796"
            ],
            "text/html": [
              "\n",
              "  <div id=\"df-502a7014-275a-4af5-b461-c68b88431a0f\">\n",
              "    <div class=\"colab-df-container\">\n",
              "      <div>\n",
              "<style scoped>\n",
              "    .dataframe tbody tr th:only-of-type {\n",
              "        vertical-align: middle;\n",
              "    }\n",
              "\n",
              "    .dataframe tbody tr th {\n",
              "        vertical-align: top;\n",
              "    }\n",
              "\n",
              "    .dataframe thead th {\n",
              "        text-align: right;\n",
              "    }\n",
              "</style>\n",
              "<table border=\"1\" class=\"dataframe\">\n",
              "  <thead>\n",
              "    <tr style=\"text-align: right;\">\n",
              "      <th></th>\n",
              "      <th>R_Squared</th>\n",
              "      <th>RMSE</th>\n",
              "      <th>MAE</th>\n",
              "    </tr>\n",
              "  </thead>\n",
              "  <tbody>\n",
              "    <tr>\n",
              "      <th>GradientBoostingRegressor</th>\n",
              "      <td>0.855603</td>\n",
              "      <td>3.622643</td>\n",
              "      <td>2.946936</td>\n",
              "    </tr>\n",
              "    <tr>\n",
              "      <th>Ridge</th>\n",
              "      <td>0.845847</td>\n",
              "      <td>3.743017</td>\n",
              "      <td>3.011322</td>\n",
              "    </tr>\n",
              "    <tr>\n",
              "      <th>ExtraTreeRegressor</th>\n",
              "      <td>0.731605</td>\n",
              "      <td>4.938930</td>\n",
              "      <td>3.849909</td>\n",
              "    </tr>\n",
              "    <tr>\n",
              "      <th>LinearRegression</th>\n",
              "      <td>0.670085</td>\n",
              "      <td>5.475794</td>\n",
              "      <td>4.082284</td>\n",
              "    </tr>\n",
              "    <tr>\n",
              "      <th>Lasso</th>\n",
              "      <td>0.572190</td>\n",
              "      <td>6.235505</td>\n",
              "      <td>4.213471</td>\n",
              "    </tr>\n",
              "    <tr>\n",
              "      <th>KNeighborsRegressor</th>\n",
              "      <td>0.467521</td>\n",
              "      <td>6.956603</td>\n",
              "      <td>4.584761</td>\n",
              "    </tr>\n",
              "    <tr>\n",
              "      <th>ElasticNet</th>\n",
              "      <td>0.310467</td>\n",
              "      <td>7.916325</td>\n",
              "      <td>5.421796</td>\n",
              "    </tr>\n",
              "  </tbody>\n",
              "</table>\n",
              "</div>\n",
              "      <button class=\"colab-df-convert\" onclick=\"convertToInteractive('df-502a7014-275a-4af5-b461-c68b88431a0f')\"\n",
              "              title=\"Convert this dataframe to an interactive table.\"\n",
              "              style=\"display:none;\">\n",
              "        \n",
              "  <svg xmlns=\"http://www.w3.org/2000/svg\" height=\"24px\"viewBox=\"0 0 24 24\"\n",
              "       width=\"24px\">\n",
              "    <path d=\"M0 0h24v24H0V0z\" fill=\"none\"/>\n",
              "    <path d=\"M18.56 5.44l.94 2.06.94-2.06 2.06-.94-2.06-.94-.94-2.06-.94 2.06-2.06.94zm-11 1L8.5 8.5l.94-2.06 2.06-.94-2.06-.94L8.5 2.5l-.94 2.06-2.06.94zm10 10l.94 2.06.94-2.06 2.06-.94-2.06-.94-.94-2.06-.94 2.06-2.06.94z\"/><path d=\"M17.41 7.96l-1.37-1.37c-.4-.4-.92-.59-1.43-.59-.52 0-1.04.2-1.43.59L10.3 9.45l-7.72 7.72c-.78.78-.78 2.05 0 2.83L4 21.41c.39.39.9.59 1.41.59.51 0 1.02-.2 1.41-.59l7.78-7.78 2.81-2.81c.8-.78.8-2.07 0-2.86zM5.41 20L4 18.59l7.72-7.72 1.47 1.35L5.41 20z\"/>\n",
              "  </svg>\n",
              "      </button>\n",
              "      \n",
              "  <style>\n",
              "    .colab-df-container {\n",
              "      display:flex;\n",
              "      flex-wrap:wrap;\n",
              "      gap: 12px;\n",
              "    }\n",
              "\n",
              "    .colab-df-convert {\n",
              "      background-color: #E8F0FE;\n",
              "      border: none;\n",
              "      border-radius: 50%;\n",
              "      cursor: pointer;\n",
              "      display: none;\n",
              "      fill: #1967D2;\n",
              "      height: 32px;\n",
              "      padding: 0 0 0 0;\n",
              "      width: 32px;\n",
              "    }\n",
              "\n",
              "    .colab-df-convert:hover {\n",
              "      background-color: #E2EBFA;\n",
              "      box-shadow: 0px 1px 2px rgba(60, 64, 67, 0.3), 0px 1px 3px 1px rgba(60, 64, 67, 0.15);\n",
              "      fill: #174EA6;\n",
              "    }\n",
              "\n",
              "    [theme=dark] .colab-df-convert {\n",
              "      background-color: #3B4455;\n",
              "      fill: #D2E3FC;\n",
              "    }\n",
              "\n",
              "    [theme=dark] .colab-df-convert:hover {\n",
              "      background-color: #434B5C;\n",
              "      box-shadow: 0px 1px 3px 1px rgba(0, 0, 0, 0.15);\n",
              "      filter: drop-shadow(0px 1px 2px rgba(0, 0, 0, 0.3));\n",
              "      fill: #FFFFFF;\n",
              "    }\n",
              "  </style>\n",
              "\n",
              "      <script>\n",
              "        const buttonEl =\n",
              "          document.querySelector('#df-502a7014-275a-4af5-b461-c68b88431a0f button.colab-df-convert');\n",
              "        buttonEl.style.display =\n",
              "          google.colab.kernel.accessAllowed ? 'block' : 'none';\n",
              "\n",
              "        async function convertToInteractive(key) {\n",
              "          const element = document.querySelector('#df-502a7014-275a-4af5-b461-c68b88431a0f');\n",
              "          const dataTable =\n",
              "            await google.colab.kernel.invokeFunction('convertToInteractive',\n",
              "                                                     [key], {});\n",
              "          if (!dataTable) return;\n",
              "\n",
              "          const docLinkHtml = 'Like what you see? Visit the ' +\n",
              "            '<a target=\"_blank\" href=https://colab.research.google.com/notebooks/data_table.ipynb>data table notebook</a>'\n",
              "            + ' to learn more about interactive tables.';\n",
              "          element.innerHTML = '';\n",
              "          dataTable['output_type'] = 'display_data';\n",
              "          await google.colab.output.renderOutput(dataTable, element);\n",
              "          const docLink = document.createElement('div');\n",
              "          docLink.innerHTML = docLinkHtml;\n",
              "          element.appendChild(docLink);\n",
              "        }\n",
              "      </script>\n",
              "    </div>\n",
              "  </div>\n",
              "  "
            ]
          },
          "metadata": {},
          "execution_count": 76
        }
      ],
      "source": [
        "regression(x,y)"
      ]
    },
    {
      "cell_type": "markdown",
      "id": "96f5ccb3",
      "metadata": {
        "id": "96f5ccb3"
      },
      "source": [
        "# Classification"
      ]
    },
    {
      "cell_type": "code",
      "execution_count": 77,
      "id": "d11d2a3f",
      "metadata": {
        "id": "d11d2a3f",
        "colab": {
          "base_uri": "https://localhost:8080/"
        },
        "outputId": "bc5fa8ad-3f98-4a3f-a2fc-da99ae886585"
      },
      "outputs": [
        {
          "output_type": "stream",
          "name": "stdout",
          "text": [
            "Found existing installation: xgboost 0.90\n",
            "Uninstalling xgboost-0.90:\n",
            "  Would remove:\n",
            "    /usr/local/lib/python3.7/dist-packages/xgboost-0.90.dist-info/*\n",
            "    /usr/local/lib/python3.7/dist-packages/xgboost/*\n",
            "    /usr/local/xgboost/libxgboost.so\n",
            "Proceed (y/n)? \u001b[31mERROR: Operation cancelled by user\u001b[0m\n"
          ]
        }
      ],
      "source": [
        "!pip uninstall xgboost "
      ]
    },
    {
      "cell_type": "code",
      "execution_count": 78,
      "id": "b94862bc",
      "metadata": {
        "id": "b94862bc",
        "colab": {
          "base_uri": "https://localhost:8080/"
        },
        "outputId": "2e978fb2-c2f0-4795-9ee1-dd6368dc4382"
      },
      "outputs": [
        {
          "output_type": "stream",
          "name": "stdout",
          "text": [
            "Looking in indexes: https://pypi.org/simple, https://us-python.pkg.dev/colab-wheels/public/simple/\n",
            "Requirement already satisfied: xgboost==0.90 in /usr/local/lib/python3.7/dist-packages (0.90)\n",
            "Requirement already satisfied: scipy in /usr/local/lib/python3.7/dist-packages (from xgboost==0.90) (1.7.3)\n",
            "Requirement already satisfied: numpy in /usr/local/lib/python3.7/dist-packages (from xgboost==0.90) (1.21.6)\n"
          ]
        }
      ],
      "source": [
        "!pip install xgboost==0.90"
      ]
    },
    {
      "cell_type": "code",
      "execution_count": 79,
      "id": "e8615442",
      "metadata": {
        "id": "e8615442"
      },
      "outputs": [],
      "source": [
        "y=df[[\"gen\"]]\n",
        "df_class=df.drop([\"gen\",\"age\"],axis=1)\n",
        "x=pd.get_dummies(df_class,drop_first=True)"
      ]
    },
    {
      "cell_type": "code",
      "execution_count": 80,
      "id": "157e9774",
      "metadata": {
        "id": "157e9774"
      },
      "outputs": [],
      "source": [
        "from sklearn.model_selection import train_test_split"
      ]
    },
    {
      "cell_type": "code",
      "execution_count": 81,
      "id": "3431b536",
      "metadata": {
        "id": "3431b536"
      },
      "outputs": [],
      "source": [
        "def classification(x,y):\n",
        "    from sklearn.naive_bayes import GaussianNB\n",
        "    from sklearn.naive_bayes import BernoulliNB\n",
        "    from sklearn.svm import SVC\n",
        "    from sklearn.neighbors import KNeighborsClassifier\n",
        "    from sklearn.tree import DecisionTreeClassifier\n",
        "    from sklearn.ensemble import RandomForestClassifier\n",
        "    from sklearn.linear_model import LogisticRegression\n",
        "    from xgboost import XGBClassifier #yüklemek için !pip install xgboost kullandım\n",
        "    \n",
        "    from sklearn.metrics import accuracy_score,precision_score,recall_score,f1_score\n",
        "    from sklearn.metrics import confusion_matrix,classification_report\n",
        "       \n",
        "    x_train,x_test,y_train,y_test=train_test_split(x,y,test_size=0.2,random_state=42)\n",
        "\n",
        "    g=GaussianNB()\n",
        "    b=BernoulliNB()\n",
        "    KN=KNeighborsClassifier()\n",
        "    SVC=SVC() \n",
        "    D=DecisionTreeClassifier()\n",
        "    R=RandomForestClassifier()\n",
        "    Log=LogisticRegression()\n",
        "    XGB=XGBClassifier()\n",
        "    \n",
        "    algos=[g,b,KN,SVC,D,R,Log,XGB]\n",
        "    algo_names=['GaussianNB','BernoulliNB','KNeighborsClassifier','SVC','DecisionTreeClassifier','RandomForestClassifier','LogisticRegression','XGBClassifier']\n",
        "   \n",
        "    accuracy_scored=[]\n",
        "\n",
        "    \n",
        "    for item in algos:\n",
        "        item.fit(x_train,y_train)\n",
        "        item.predict(x_test)\n",
        "        \n",
        "        accuracy_scored.append(accuracy_score(y_test,item.predict(x_test)))\n",
        "       \n",
        "    result=pd.DataFrame(columns=['accuracy_score'],index=algo_names)\n",
        "    result['accuracy_score']=accuracy_scored\n",
        "    return result.sort_values('accuracy_score',ascending=False)"
      ]
    },
    {
      "cell_type": "code",
      "execution_count": 82,
      "id": "c705cda0",
      "metadata": {
        "id": "c705cda0",
        "colab": {
          "base_uri": "https://localhost:8080/",
          "height": 300
        },
        "outputId": "6d4dc95f-0d63-4841-c97e-5063c5966b76"
      },
      "outputs": [
        {
          "output_type": "execute_result",
          "data": {
            "text/plain": [
              "                        accuracy_score\n",
              "XGBClassifier                 0.665791\n",
              "SVC                           0.647399\n",
              "GaussianNB                    0.642144\n",
              "LogisticRegression            0.642144\n",
              "BernoulliNB                   0.637415\n",
              "RandomForestClassifier        0.632685\n",
              "KNeighborsClassifier          0.593799\n",
              "DecisionTreeClassifier        0.547556"
            ],
            "text/html": [
              "\n",
              "  <div id=\"df-dc588e52-e78e-4537-bd7d-f9decc7207cc\">\n",
              "    <div class=\"colab-df-container\">\n",
              "      <div>\n",
              "<style scoped>\n",
              "    .dataframe tbody tr th:only-of-type {\n",
              "        vertical-align: middle;\n",
              "    }\n",
              "\n",
              "    .dataframe tbody tr th {\n",
              "        vertical-align: top;\n",
              "    }\n",
              "\n",
              "    .dataframe thead th {\n",
              "        text-align: right;\n",
              "    }\n",
              "</style>\n",
              "<table border=\"1\" class=\"dataframe\">\n",
              "  <thead>\n",
              "    <tr style=\"text-align: right;\">\n",
              "      <th></th>\n",
              "      <th>accuracy_score</th>\n",
              "    </tr>\n",
              "  </thead>\n",
              "  <tbody>\n",
              "    <tr>\n",
              "      <th>XGBClassifier</th>\n",
              "      <td>0.665791</td>\n",
              "    </tr>\n",
              "    <tr>\n",
              "      <th>SVC</th>\n",
              "      <td>0.647399</td>\n",
              "    </tr>\n",
              "    <tr>\n",
              "      <th>GaussianNB</th>\n",
              "      <td>0.642144</td>\n",
              "    </tr>\n",
              "    <tr>\n",
              "      <th>LogisticRegression</th>\n",
              "      <td>0.642144</td>\n",
              "    </tr>\n",
              "    <tr>\n",
              "      <th>BernoulliNB</th>\n",
              "      <td>0.637415</td>\n",
              "    </tr>\n",
              "    <tr>\n",
              "      <th>RandomForestClassifier</th>\n",
              "      <td>0.632685</td>\n",
              "    </tr>\n",
              "    <tr>\n",
              "      <th>KNeighborsClassifier</th>\n",
              "      <td>0.593799</td>\n",
              "    </tr>\n",
              "    <tr>\n",
              "      <th>DecisionTreeClassifier</th>\n",
              "      <td>0.547556</td>\n",
              "    </tr>\n",
              "  </tbody>\n",
              "</table>\n",
              "</div>\n",
              "      <button class=\"colab-df-convert\" onclick=\"convertToInteractive('df-dc588e52-e78e-4537-bd7d-f9decc7207cc')\"\n",
              "              title=\"Convert this dataframe to an interactive table.\"\n",
              "              style=\"display:none;\">\n",
              "        \n",
              "  <svg xmlns=\"http://www.w3.org/2000/svg\" height=\"24px\"viewBox=\"0 0 24 24\"\n",
              "       width=\"24px\">\n",
              "    <path d=\"M0 0h24v24H0V0z\" fill=\"none\"/>\n",
              "    <path d=\"M18.56 5.44l.94 2.06.94-2.06 2.06-.94-2.06-.94-.94-2.06-.94 2.06-2.06.94zm-11 1L8.5 8.5l.94-2.06 2.06-.94-2.06-.94L8.5 2.5l-.94 2.06-2.06.94zm10 10l.94 2.06.94-2.06 2.06-.94-2.06-.94-.94-2.06-.94 2.06-2.06.94z\"/><path d=\"M17.41 7.96l-1.37-1.37c-.4-.4-.92-.59-1.43-.59-.52 0-1.04.2-1.43.59L10.3 9.45l-7.72 7.72c-.78.78-.78 2.05 0 2.83L4 21.41c.39.39.9.59 1.41.59.51 0 1.02-.2 1.41-.59l7.78-7.78 2.81-2.81c.8-.78.8-2.07 0-2.86zM5.41 20L4 18.59l7.72-7.72 1.47 1.35L5.41 20z\"/>\n",
              "  </svg>\n",
              "      </button>\n",
              "      \n",
              "  <style>\n",
              "    .colab-df-container {\n",
              "      display:flex;\n",
              "      flex-wrap:wrap;\n",
              "      gap: 12px;\n",
              "    }\n",
              "\n",
              "    .colab-df-convert {\n",
              "      background-color: #E8F0FE;\n",
              "      border: none;\n",
              "      border-radius: 50%;\n",
              "      cursor: pointer;\n",
              "      display: none;\n",
              "      fill: #1967D2;\n",
              "      height: 32px;\n",
              "      padding: 0 0 0 0;\n",
              "      width: 32px;\n",
              "    }\n",
              "\n",
              "    .colab-df-convert:hover {\n",
              "      background-color: #E2EBFA;\n",
              "      box-shadow: 0px 1px 2px rgba(60, 64, 67, 0.3), 0px 1px 3px 1px rgba(60, 64, 67, 0.15);\n",
              "      fill: #174EA6;\n",
              "    }\n",
              "\n",
              "    [theme=dark] .colab-df-convert {\n",
              "      background-color: #3B4455;\n",
              "      fill: #D2E3FC;\n",
              "    }\n",
              "\n",
              "    [theme=dark] .colab-df-convert:hover {\n",
              "      background-color: #434B5C;\n",
              "      box-shadow: 0px 1px 3px 1px rgba(0, 0, 0, 0.15);\n",
              "      filter: drop-shadow(0px 1px 2px rgba(0, 0, 0, 0.3));\n",
              "      fill: #FFFFFF;\n",
              "    }\n",
              "  </style>\n",
              "\n",
              "      <script>\n",
              "        const buttonEl =\n",
              "          document.querySelector('#df-dc588e52-e78e-4537-bd7d-f9decc7207cc button.colab-df-convert');\n",
              "        buttonEl.style.display =\n",
              "          google.colab.kernel.accessAllowed ? 'block' : 'none';\n",
              "\n",
              "        async function convertToInteractive(key) {\n",
              "          const element = document.querySelector('#df-dc588e52-e78e-4537-bd7d-f9decc7207cc');\n",
              "          const dataTable =\n",
              "            await google.colab.kernel.invokeFunction('convertToInteractive',\n",
              "                                                     [key], {});\n",
              "          if (!dataTable) return;\n",
              "\n",
              "          const docLinkHtml = 'Like what you see? Visit the ' +\n",
              "            '<a target=\"_blank\" href=https://colab.research.google.com/notebooks/data_table.ipynb>data table notebook</a>'\n",
              "            + ' to learn more about interactive tables.';\n",
              "          element.innerHTML = '';\n",
              "          dataTable['output_type'] = 'display_data';\n",
              "          await google.colab.output.renderOutput(dataTable, element);\n",
              "          const docLink = document.createElement('div');\n",
              "          docLink.innerHTML = docLinkHtml;\n",
              "          element.appendChild(docLink);\n",
              "        }\n",
              "      </script>\n",
              "    </div>\n",
              "  </div>\n",
              "  "
            ]
          },
          "metadata": {},
          "execution_count": 82
        }
      ],
      "source": [
        "classification(x,y)"
      ]
    },
    {
      "cell_type": "code",
      "execution_count": 82,
      "id": "ad0834b0",
      "metadata": {
        "id": "ad0834b0"
      },
      "outputs": [],
      "source": []
    }
  ],
  "metadata": {
    "kernelspec": {
      "display_name": "Python 3 (ipykernel)",
      "language": "python",
      "name": "python3"
    },
    "language_info": {
      "codemirror_mode": {
        "name": "ipython",
        "version": 3
      },
      "file_extension": ".py",
      "mimetype": "text/x-python",
      "name": "python",
      "nbconvert_exporter": "python",
      "pygments_lexer": "ipython3",
      "version": "3.9.12"
    },
    "colab": {
      "provenance": []
    }
  },
  "nbformat": 4,
  "nbformat_minor": 5
}