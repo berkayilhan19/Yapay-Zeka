{
 "cells": [
  {
   "cell_type": "code",
   "execution_count": 1,
   "metadata": {
    "colab": {
     "base_uri": "https://localhost:8080/"
    },
    "id": "k3OJsS-VraLC",
    "outputId": "02f40a53-e31b-4d0c-bec8-237804d031a9"
   },
   "outputs": [
    {
     "name": "stdout",
     "output_type": "stream",
     "text": [
      "Looking in indexes: https://pypi.org/simple, https://us-python.pkg.dev/colab-wheels/public/simple/\n",
      "Requirement already satisfied: wordcloud in /usr/local/lib/python3.7/dist-packages (1.8.2.2)\n",
      "Requirement already satisfied: numpy>=1.6.1 in /usr/local/lib/python3.7/dist-packages (from wordcloud) (1.21.6)\n",
      "Requirement already satisfied: matplotlib in /usr/local/lib/python3.7/dist-packages (from wordcloud) (3.5.3)\n",
      "Requirement already satisfied: pillow in /usr/local/lib/python3.7/dist-packages (from wordcloud) (7.1.2)\n",
      "Requirement already satisfied: fonttools>=4.22.0 in /usr/local/lib/python3.7/dist-packages (from matplotlib->wordcloud) (4.38.0)\n",
      "Requirement already satisfied: kiwisolver>=1.0.1 in /usr/local/lib/python3.7/dist-packages (from matplotlib->wordcloud) (1.4.4)\n",
      "Requirement already satisfied: python-dateutil>=2.7 in /usr/local/lib/python3.7/dist-packages (from matplotlib->wordcloud) (2.8.2)\n",
      "Requirement already satisfied: pyparsing>=2.2.1 in /usr/local/lib/python3.7/dist-packages (from matplotlib->wordcloud) (3.0.9)\n",
      "Requirement already satisfied: packaging>=20.0 in /usr/local/lib/python3.7/dist-packages (from matplotlib->wordcloud) (21.3)\n",
      "Requirement already satisfied: cycler>=0.10 in /usr/local/lib/python3.7/dist-packages (from matplotlib->wordcloud) (0.11.0)\n",
      "Requirement already satisfied: typing-extensions in /usr/local/lib/python3.7/dist-packages (from kiwisolver>=1.0.1->matplotlib->wordcloud) (4.1.1)\n",
      "Requirement already satisfied: six>=1.5 in /usr/local/lib/python3.7/dist-packages (from python-dateutil>=2.7->matplotlib->wordcloud) (1.15.0)\n"
     ]
    }
   ],
   "source": [
    "pip install wordcloud"
   ]
  },
  {
   "cell_type": "code",
   "execution_count": 2,
   "metadata": {
    "id": "JIQavrmLroxI"
   },
   "outputs": [],
   "source": [
    "import pandas as pd\n",
    "import numpy as np\n",
    "import seaborn as sns\n",
    "from sklearn.model_selection import train_test_split\n",
    "from sklearn.feature_extraction.text import CountVectorizer, TfidfVectorizer\n",
    "from textblob import TextBlob, Word\n",
    "from nltk.stem.snowball import SnowballStemmer\n",
    "from wordcloud import WordCloud\n",
    "import nltk\n",
    "from nltk.tokenize import sent_tokenize,word_tokenize\n",
    "import matplotlib.pyplot as plt\n",
    "%matplotlib inline\n",
    "import warnings\n",
    "warnings.filterwarnings(\"ignore\")"
   ]
  },
  {
   "cell_type": "code",
   "execution_count": 3,
   "metadata": {
    "colab": {
     "base_uri": "https://localhost:8080/",
     "height": 337
    },
    "id": "On0qKQI_wBJn",
    "outputId": "06cc89f2-4195-4f7b-c831-325e51b5ebe3"
   },
   "outputs": [
    {
     "data": {
      "text/html": [
       "\n",
       "  <div id=\"df-11602a5a-363d-41ce-8354-cd6f5bd88e5f\">\n",
       "    <div class=\"colab-df-container\">\n",
       "      <div>\n",
       "<style scoped>\n",
       "    .dataframe tbody tr th:only-of-type {\n",
       "        vertical-align: middle;\n",
       "    }\n",
       "\n",
       "    .dataframe tbody tr th {\n",
       "        vertical-align: top;\n",
       "    }\n",
       "\n",
       "    .dataframe thead th {\n",
       "        text-align: right;\n",
       "    }\n",
       "</style>\n",
       "<table border=\"1\" class=\"dataframe\">\n",
       "  <thead>\n",
       "    <tr style=\"text-align: right;\">\n",
       "      <th></th>\n",
       "      <th>reviewerID</th>\n",
       "      <th>asin</th>\n",
       "      <th>reviewerName</th>\n",
       "      <th>helpful</th>\n",
       "      <th>reviewText</th>\n",
       "      <th>overall</th>\n",
       "      <th>summary</th>\n",
       "      <th>unixReviewTime</th>\n",
       "      <th>reviewTime</th>\n",
       "    </tr>\n",
       "  </thead>\n",
       "  <tbody>\n",
       "    <tr>\n",
       "      <th>0</th>\n",
       "      <td>AO94DHGC771SJ</td>\n",
       "      <td>0528881469</td>\n",
       "      <td>amazdnu</td>\n",
       "      <td>[0, 0]</td>\n",
       "      <td>We got this GPS for my husband who is an (OTR)...</td>\n",
       "      <td>5</td>\n",
       "      <td>Gotta have GPS!</td>\n",
       "      <td>1370131200</td>\n",
       "      <td>06 2, 2013</td>\n",
       "    </tr>\n",
       "    <tr>\n",
       "      <th>1</th>\n",
       "      <td>AMO214LNFCEI4</td>\n",
       "      <td>0528881469</td>\n",
       "      <td>Amazon Customer</td>\n",
       "      <td>[12, 15]</td>\n",
       "      <td>I'm a professional OTR truck driver, and I bou...</td>\n",
       "      <td>1</td>\n",
       "      <td>Very Disappointed</td>\n",
       "      <td>1290643200</td>\n",
       "      <td>11 25, 2010</td>\n",
       "    </tr>\n",
       "    <tr>\n",
       "      <th>2</th>\n",
       "      <td>A3N7T0DY83Y4IG</td>\n",
       "      <td>0528881469</td>\n",
       "      <td>C. A. Freeman</td>\n",
       "      <td>[43, 45]</td>\n",
       "      <td>Well, what can I say.  I've had this unit in m...</td>\n",
       "      <td>3</td>\n",
       "      <td>1st impression</td>\n",
       "      <td>1283990400</td>\n",
       "      <td>09 9, 2010</td>\n",
       "    </tr>\n",
       "    <tr>\n",
       "      <th>3</th>\n",
       "      <td>A1H8PY3QHMQQA0</td>\n",
       "      <td>0528881469</td>\n",
       "      <td>Dave M. Shaw \"mack dave\"</td>\n",
       "      <td>[9, 10]</td>\n",
       "      <td>Not going to write a long review, even thought...</td>\n",
       "      <td>2</td>\n",
       "      <td>Great grafics, POOR GPS</td>\n",
       "      <td>1290556800</td>\n",
       "      <td>11 24, 2010</td>\n",
       "    </tr>\n",
       "    <tr>\n",
       "      <th>4</th>\n",
       "      <td>A24EV6RXELQZ63</td>\n",
       "      <td>0528881469</td>\n",
       "      <td>Wayne Smith</td>\n",
       "      <td>[0, 0]</td>\n",
       "      <td>I've had mine for a year and here's what we go...</td>\n",
       "      <td>1</td>\n",
       "      <td>Major issues, only excuses for support</td>\n",
       "      <td>1317254400</td>\n",
       "      <td>09 29, 2011</td>\n",
       "    </tr>\n",
       "  </tbody>\n",
       "</table>\n",
       "</div>\n",
       "      <button class=\"colab-df-convert\" onclick=\"convertToInteractive('df-11602a5a-363d-41ce-8354-cd6f5bd88e5f')\"\n",
       "              title=\"Convert this dataframe to an interactive table.\"\n",
       "              style=\"display:none;\">\n",
       "        \n",
       "  <svg xmlns=\"http://www.w3.org/2000/svg\" height=\"24px\"viewBox=\"0 0 24 24\"\n",
       "       width=\"24px\">\n",
       "    <path d=\"M0 0h24v24H0V0z\" fill=\"none\"/>\n",
       "    <path d=\"M18.56 5.44l.94 2.06.94-2.06 2.06-.94-2.06-.94-.94-2.06-.94 2.06-2.06.94zm-11 1L8.5 8.5l.94-2.06 2.06-.94-2.06-.94L8.5 2.5l-.94 2.06-2.06.94zm10 10l.94 2.06.94-2.06 2.06-.94-2.06-.94-.94-2.06-.94 2.06-2.06.94z\"/><path d=\"M17.41 7.96l-1.37-1.37c-.4-.4-.92-.59-1.43-.59-.52 0-1.04.2-1.43.59L10.3 9.45l-7.72 7.72c-.78.78-.78 2.05 0 2.83L4 21.41c.39.39.9.59 1.41.59.51 0 1.02-.2 1.41-.59l7.78-7.78 2.81-2.81c.8-.78.8-2.07 0-2.86zM5.41 20L4 18.59l7.72-7.72 1.47 1.35L5.41 20z\"/>\n",
       "  </svg>\n",
       "      </button>\n",
       "      \n",
       "  <style>\n",
       "    .colab-df-container {\n",
       "      display:flex;\n",
       "      flex-wrap:wrap;\n",
       "      gap: 12px;\n",
       "    }\n",
       "\n",
       "    .colab-df-convert {\n",
       "      background-color: #E8F0FE;\n",
       "      border: none;\n",
       "      border-radius: 50%;\n",
       "      cursor: pointer;\n",
       "      display: none;\n",
       "      fill: #1967D2;\n",
       "      height: 32px;\n",
       "      padding: 0 0 0 0;\n",
       "      width: 32px;\n",
       "    }\n",
       "\n",
       "    .colab-df-convert:hover {\n",
       "      background-color: #E2EBFA;\n",
       "      box-shadow: 0px 1px 2px rgba(60, 64, 67, 0.3), 0px 1px 3px 1px rgba(60, 64, 67, 0.15);\n",
       "      fill: #174EA6;\n",
       "    }\n",
       "\n",
       "    [theme=dark] .colab-df-convert {\n",
       "      background-color: #3B4455;\n",
       "      fill: #D2E3FC;\n",
       "    }\n",
       "\n",
       "    [theme=dark] .colab-df-convert:hover {\n",
       "      background-color: #434B5C;\n",
       "      box-shadow: 0px 1px 3px 1px rgba(0, 0, 0, 0.15);\n",
       "      filter: drop-shadow(0px 1px 2px rgba(0, 0, 0, 0.3));\n",
       "      fill: #FFFFFF;\n",
       "    }\n",
       "  </style>\n",
       "\n",
       "      <script>\n",
       "        const buttonEl =\n",
       "          document.querySelector('#df-11602a5a-363d-41ce-8354-cd6f5bd88e5f button.colab-df-convert');\n",
       "        buttonEl.style.display =\n",
       "          google.colab.kernel.accessAllowed ? 'block' : 'none';\n",
       "\n",
       "        async function convertToInteractive(key) {\n",
       "          const element = document.querySelector('#df-11602a5a-363d-41ce-8354-cd6f5bd88e5f');\n",
       "          const dataTable =\n",
       "            await google.colab.kernel.invokeFunction('convertToInteractive',\n",
       "                                                     [key], {});\n",
       "          if (!dataTable) return;\n",
       "\n",
       "          const docLinkHtml = 'Like what you see? Visit the ' +\n",
       "            '<a target=\"_blank\" href=https://colab.research.google.com/notebooks/data_table.ipynb>data table notebook</a>'\n",
       "            + ' to learn more about interactive tables.';\n",
       "          element.innerHTML = '';\n",
       "          dataTable['output_type'] = 'display_data';\n",
       "          await google.colab.output.renderOutput(dataTable, element);\n",
       "          const docLink = document.createElement('div');\n",
       "          docLink.innerHTML = docLinkHtml;\n",
       "          element.appendChild(docLink);\n",
       "        }\n",
       "      </script>\n",
       "    </div>\n",
       "  </div>\n",
       "  "
      ],
      "text/plain": [
       "       reviewerID        asin              reviewerName   helpful  \\\n",
       "0   AO94DHGC771SJ  0528881469                   amazdnu    [0, 0]   \n",
       "1   AMO214LNFCEI4  0528881469           Amazon Customer  [12, 15]   \n",
       "2  A3N7T0DY83Y4IG  0528881469             C. A. Freeman  [43, 45]   \n",
       "3  A1H8PY3QHMQQA0  0528881469  Dave M. Shaw \"mack dave\"   [9, 10]   \n",
       "4  A24EV6RXELQZ63  0528881469               Wayne Smith    [0, 0]   \n",
       "\n",
       "                                          reviewText  overall  \\\n",
       "0  We got this GPS for my husband who is an (OTR)...        5   \n",
       "1  I'm a professional OTR truck driver, and I bou...        1   \n",
       "2  Well, what can I say.  I've had this unit in m...        3   \n",
       "3  Not going to write a long review, even thought...        2   \n",
       "4  I've had mine for a year and here's what we go...        1   \n",
       "\n",
       "                                  summary  unixReviewTime   reviewTime  \n",
       "0                         Gotta have GPS!      1370131200   06 2, 2013  \n",
       "1                       Very Disappointed      1290643200  11 25, 2010  \n",
       "2                          1st impression      1283990400   09 9, 2010  \n",
       "3                 Great grafics, POOR GPS      1290556800  11 24, 2010  \n",
       "4  Major issues, only excuses for support      1317254400  09 29, 2011  "
      ]
     },
     "metadata": {},
     "output_type": "display_data"
    }
   ],
   "source": [
    "import os\n",
    "import pandas as pd\n",
    "\n",
    "dataset = \"Electronics_5.json\"\n",
    "\n",
    "if os.path.isfile(dataset):\n",
    "    df = pd.read_json(\"Electronics_5.json\", lines=True)\n",
    "else:\n",
    "    url = r\"http://snap.stanford.edu/data/amazon/productGraph/categoryFiles/reviews_Electronics_5.json.gz\"\n",
    "    df = pd.read_json(url, compression='gzip', lines=True)\n",
    "\n",
    "display(df.head())"
   ]
  },
  {
   "cell_type": "code",
   "execution_count": 4,
   "metadata": {
    "colab": {
     "base_uri": "https://localhost:8080/"
    },
    "id": "-0aPfKK5wG1n",
    "outputId": "cd824a45-d5bb-4c42-cf4b-994f82280b0d"
   },
   "outputs": [
    {
     "data": {
      "text/plain": [
       "(1689188, 9)"
      ]
     },
     "execution_count": 4,
     "metadata": {},
     "output_type": "execute_result"
    }
   ],
   "source": [
    "df.shape"
   ]
  },
  {
   "cell_type": "code",
   "execution_count": 5,
   "metadata": {
    "colab": {
     "base_uri": "https://localhost:8080/"
    },
    "id": "1-_sa2oZwtD6",
    "outputId": "33c21fdc-7c80-4dba-c27a-1b79418720f5"
   },
   "outputs": [
    {
     "name": "stdout",
     "output_type": "stream",
     "text": [
      "<class 'pandas.core.frame.DataFrame'>\n",
      "RangeIndex: 1689188 entries, 0 to 1689187\n",
      "Data columns (total 9 columns):\n",
      " #   Column          Non-Null Count    Dtype \n",
      "---  ------          --------------    ----- \n",
      " 0   reviewerID      1689188 non-null  object\n",
      " 1   asin            1689188 non-null  object\n",
      " 2   reviewerName    1664458 non-null  object\n",
      " 3   helpful         1689188 non-null  object\n",
      " 4   reviewText      1689188 non-null  object\n",
      " 5   overall         1689188 non-null  int64 \n",
      " 6   summary         1689188 non-null  object\n",
      " 7   unixReviewTime  1689188 non-null  int64 \n",
      " 8   reviewTime      1689188 non-null  object\n",
      "dtypes: int64(2), object(7)\n",
      "memory usage: 116.0+ MB\n"
     ]
    }
   ],
   "source": [
    "df.info()"
   ]
  },
  {
   "cell_type": "code",
   "execution_count": 6,
   "metadata": {
    "colab": {
     "base_uri": "https://localhost:8080/"
    },
    "id": "7nAxKkqozAbZ",
    "outputId": "0c56f124-a82c-43c5-dd7a-c7755fe49b7f"
   },
   "outputs": [
    {
     "data": {
      "text/plain": [
       "5    1009026\n",
       "4     347041\n",
       "3     142257\n",
       "1     108725\n",
       "2      82139\n",
       "Name: overall, dtype: int64"
      ]
     },
     "execution_count": 6,
     "metadata": {},
     "output_type": "execute_result"
    }
   ],
   "source": [
    "df['overall'].value_counts()"
   ]
  },
  {
   "cell_type": "code",
   "execution_count": 7,
   "metadata": {
    "colab": {
     "base_uri": "https://localhost:8080/"
    },
    "id": "4pVmvyI80E-b",
    "outputId": "c1555c4e-a149-4984-fea4-f4bde446ae8a"
   },
   "outputs": [
    {
     "name": "stdout",
     "output_type": "stream",
     "text": [
      "Looking in indexes: https://pypi.org/simple, https://us-python.pkg.dev/colab-wheels/public/simple/\n",
      "Requirement already satisfied: matplotlib in /usr/local/lib/python3.7/dist-packages (3.5.3)\n",
      "Requirement already satisfied: python-dateutil>=2.7 in /usr/local/lib/python3.7/dist-packages (from matplotlib) (2.8.2)\n",
      "Requirement already satisfied: fonttools>=4.22.0 in /usr/local/lib/python3.7/dist-packages (from matplotlib) (4.38.0)\n",
      "Requirement already satisfied: pyparsing>=2.2.1 in /usr/local/lib/python3.7/dist-packages (from matplotlib) (3.0.9)\n",
      "Requirement already satisfied: numpy>=1.17 in /usr/local/lib/python3.7/dist-packages (from matplotlib) (1.21.6)\n",
      "Requirement already satisfied: pillow>=6.2.0 in /usr/local/lib/python3.7/dist-packages (from matplotlib) (7.1.2)\n",
      "Requirement already satisfied: kiwisolver>=1.0.1 in /usr/local/lib/python3.7/dist-packages (from matplotlib) (1.4.4)\n",
      "Requirement already satisfied: packaging>=20.0 in /usr/local/lib/python3.7/dist-packages (from matplotlib) (21.3)\n",
      "Requirement already satisfied: cycler>=0.10 in /usr/local/lib/python3.7/dist-packages (from matplotlib) (0.11.0)\n",
      "Requirement already satisfied: typing-extensions in /usr/local/lib/python3.7/dist-packages (from kiwisolver>=1.0.1->matplotlib) (4.1.1)\n",
      "Requirement already satisfied: six>=1.5 in /usr/local/lib/python3.7/dist-packages (from python-dateutil>=2.7->matplotlib) (1.15.0)\n"
     ]
    }
   ],
   "source": [
    "pip install matplotlib --upgrade"
   ]
  },
  {
   "cell_type": "code",
   "execution_count": 8,
   "metadata": {
    "colab": {
     "base_uri": "https://localhost:8080/",
     "height": 508
    },
    "id": "6mraIOzqzf9C",
    "outputId": "c73f8bb7-e249-472c-ba0b-eff0a09df8e6"
   },
   "outputs": [
    {
     "data": {
      "image/png": "[encoded data removed]",
      "text/plain": [
       "<Figure size 576x576 with 1 Axes>"
      ]
     },
     "metadata": {
      "needs_background": "light"
     },
     "output_type": "display_data"
    }
   ],
   "source": [
    "plt.figure(figsize=(8,8))\n",
    "ax=sns.countplot(x=df['overall']);\n",
    "ax.bar_label(ax.containers[0]);"
   ]
  },
  {
   "cell_type": "code",
   "execution_count": 9,
   "metadata": {
    "id": "EEKaFusLzl9N"
   },
   "outputs": [],
   "source": [
    "df[\"reviewText\"]=df[\"reviewText\"].str.lower()\n",
    "#küçük harfe çevirdik (yeni değeri = eski değerini küçük harfe çevir.)\n",
    "df[\"reviewText\"]=df[\"reviewText\"].str.replace(\"[^\\w\\s]\",\"\") #noktalama işaretlerinin tannımı\n",
    "#noktalama işaretlerini kaldırdık (yeni değeri = eski değerini noktalama işaretlerini kaldır.)\n",
    "df[\"reviewText\"]=df[\"reviewText\"].str.replace(\"\\d+\",\"\")\n",
    "#rakamları kaldırdık (yeni değeri = eski değerini rakamları kaldır.)\n",
    "df[\"reviewText\"]=df[\"reviewText\"].str.replace(\"\\n\",\" \").replace(\"\\r\",\" \") #bunun yukardakilerden farkı \" \" içinde boşluk olmak zorunda\n",
    "#(yeni değeri = eski değerini Enter ve yeni satır kodlarını kaldırdık)"
   ]
  },
  {
   "cell_type": "code",
   "execution_count": 10,
   "metadata": {
    "id": "y3DcJxpq4D95"
   },
   "outputs": [],
   "source": [
    "amazon=df[(df.overall==5) | (df.overall==1)] #1 yıldız verenler ile 5 yıldız verenleri ayırdık"
   ]
  },
  {
   "cell_type": "code",
   "execution_count": 11,
   "metadata": {
    "id": "vZEVs-HX4vbE"
   },
   "outputs": [],
   "source": [
    "amazon.reset_index(drop=True, inplace=True) #index düzgün sıralamayı yapıyor"
   ]
  },
  {
   "cell_type": "code",
   "execution_count": 12,
   "metadata": {
    "colab": {
     "base_uri": "https://localhost:8080/",
     "height": 815
    },
    "id": "pg_zDZag6jky",
    "outputId": "d9a6f9e5-3fbc-4f90-dd0d-84db2306a370"
   },
   "outputs": [
    {
     "data": {
      "text/html": [
       "\n",
       "  <div id=\"df-11135273-8f49-4e5e-8b28-acccc7036e9e\">\n",
       "    <div class=\"colab-df-container\">\n",
       "      <div>\n",
       "<style scoped>\n",
       "    .dataframe tbody tr th:only-of-type {\n",
       "        vertical-align: middle;\n",
       "    }\n",
       "\n",
       "    .dataframe tbody tr th {\n",
       "        vertical-align: top;\n",
       "    }\n",
       "\n",
       "    .dataframe thead th {\n",
       "        text-align: right;\n",
       "    }\n",
       "</style>\n",
       "<table border=\"1\" class=\"dataframe\">\n",
       "  <thead>\n",
       "    <tr style=\"text-align: right;\">\n",
       "      <th></th>\n",
       "      <th>reviewerID</th>\n",
       "      <th>asin</th>\n",
       "      <th>reviewerName</th>\n",
       "      <th>helpful</th>\n",
       "      <th>reviewText</th>\n",
       "      <th>overall</th>\n",
       "      <th>summary</th>\n",
       "      <th>unixReviewTime</th>\n",
       "      <th>reviewTime</th>\n",
       "    </tr>\n",
       "  </thead>\n",
       "  <tbody>\n",
       "    <tr>\n",
       "      <th>0</th>\n",
       "      <td>AO94DHGC771SJ</td>\n",
       "      <td>0528881469</td>\n",
       "      <td>amazdnu</td>\n",
       "      <td>[0, 0]</td>\n",
       "      <td>we got this gps for my husband who is an otr o...</td>\n",
       "      <td>5</td>\n",
       "      <td>Gotta have GPS!</td>\n",
       "      <td>1370131200</td>\n",
       "      <td>06 2, 2013</td>\n",
       "    </tr>\n",
       "    <tr>\n",
       "      <th>1</th>\n",
       "      <td>AMO214LNFCEI4</td>\n",
       "      <td>0528881469</td>\n",
       "      <td>Amazon Customer</td>\n",
       "      <td>[12, 15]</td>\n",
       "      <td>im a professional otr truck driver and i bough...</td>\n",
       "      <td>1</td>\n",
       "      <td>Very Disappointed</td>\n",
       "      <td>1290643200</td>\n",
       "      <td>11 25, 2010</td>\n",
       "    </tr>\n",
       "    <tr>\n",
       "      <th>2</th>\n",
       "      <td>A24EV6RXELQZ63</td>\n",
       "      <td>0528881469</td>\n",
       "      <td>Wayne Smith</td>\n",
       "      <td>[0, 0]</td>\n",
       "      <td>ive had mine for a year and heres what we got ...</td>\n",
       "      <td>1</td>\n",
       "      <td>Major issues, only excuses for support</td>\n",
       "      <td>1317254400</td>\n",
       "      <td>09 29, 2011</td>\n",
       "    </tr>\n",
       "    <tr>\n",
       "      <th>3</th>\n",
       "      <td>A2JXAZZI9PHK9Z</td>\n",
       "      <td>0594451647</td>\n",
       "      <td>Billy G. Noland \"Bill Noland\"</td>\n",
       "      <td>[3, 3]</td>\n",
       "      <td>i am using this with a nook hd it works as des...</td>\n",
       "      <td>5</td>\n",
       "      <td>HDMI Nook adapter cable</td>\n",
       "      <td>1388707200</td>\n",
       "      <td>01 3, 2014</td>\n",
       "    </tr>\n",
       "    <tr>\n",
       "      <th>4</th>\n",
       "      <td>AAZ084UMH8VZ2</td>\n",
       "      <td>0594451647</td>\n",
       "      <td>D. L. Brown \"A Knower Of Good Things\"</td>\n",
       "      <td>[0, 0]</td>\n",
       "      <td>this adaptor is real easy to setup and use rig...</td>\n",
       "      <td>5</td>\n",
       "      <td>A Perfdect Nook HD+ hook up</td>\n",
       "      <td>1399161600</td>\n",
       "      <td>05 4, 2014</td>\n",
       "    </tr>\n",
       "    <tr>\n",
       "      <th>...</th>\n",
       "      <td>...</td>\n",
       "      <td>...</td>\n",
       "      <td>...</td>\n",
       "      <td>...</td>\n",
       "      <td>...</td>\n",
       "      <td>...</td>\n",
       "      <td>...</td>\n",
       "      <td>...</td>\n",
       "      <td>...</td>\n",
       "    </tr>\n",
       "    <tr>\n",
       "      <th>1117746</th>\n",
       "      <td>A34BZM6S9L7QI4</td>\n",
       "      <td>B00LGQ6HL8</td>\n",
       "      <td>Candy Cane \"Is it just me?\"</td>\n",
       "      <td>[1, 1]</td>\n",
       "      <td>burned these in before listening to them for a...</td>\n",
       "      <td>5</td>\n",
       "      <td>Boom -- Pop -- Pow.  These deliver.</td>\n",
       "      <td>1405555200</td>\n",
       "      <td>07 17, 2014</td>\n",
       "    </tr>\n",
       "    <tr>\n",
       "      <th>1117747</th>\n",
       "      <td>A1G650TTTHEAL5</td>\n",
       "      <td>B00LGQ6HL8</td>\n",
       "      <td>Charles Spanky \"Zumina Reviews\"</td>\n",
       "      <td>[0, 0]</td>\n",
       "      <td>some people like dj style headphones or earbud...</td>\n",
       "      <td>5</td>\n",
       "      <td>Thin and light, without compromising on sound ...</td>\n",
       "      <td>1405382400</td>\n",
       "      <td>07 15, 2014</td>\n",
       "    </tr>\n",
       "    <tr>\n",
       "      <th>1117748</th>\n",
       "      <td>A25C2M3QF9G7OQ</td>\n",
       "      <td>B00LGQ6HL8</td>\n",
       "      <td>Comdet</td>\n",
       "      <td>[0, 0]</td>\n",
       "      <td>im a big fan of the brainwavz s actually all o...</td>\n",
       "      <td>5</td>\n",
       "      <td>Same form factor and durability as the S1 with...</td>\n",
       "      <td>1405555200</td>\n",
       "      <td>07 17, 2014</td>\n",
       "    </tr>\n",
       "    <tr>\n",
       "      <th>1117749</th>\n",
       "      <td>A1E1LEVQ9VQNK</td>\n",
       "      <td>B00LGQ6HL8</td>\n",
       "      <td>J. Chambers</td>\n",
       "      <td>[0, 0]</td>\n",
       "      <td>ive used thebrainwavz s in ear headphones and ...</td>\n",
       "      <td>5</td>\n",
       "      <td>Superb audio quality in a very comfortable set...</td>\n",
       "      <td>1405641600</td>\n",
       "      <td>07 18, 2014</td>\n",
       "    </tr>\n",
       "    <tr>\n",
       "      <th>1117750</th>\n",
       "      <td>A2NYK9KWFMJV4Y</td>\n",
       "      <td>B00LGQ6HL8</td>\n",
       "      <td>Mike Tarrani \"Jazz Drummer\"</td>\n",
       "      <td>[0, 0]</td>\n",
       "      <td>normally when i receive a review sample i can ...</td>\n",
       "      <td>5</td>\n",
       "      <td>Exceptional sound</td>\n",
       "      <td>1405209600</td>\n",
       "      <td>07 13, 2014</td>\n",
       "    </tr>\n",
       "  </tbody>\n",
       "</table>\n",
       "<p>1117751 rows × 9 columns</p>\n",
       "</div>\n",
       "      <button class=\"colab-df-convert\" onclick=\"convertToInteractive('df-11135273-8f49-4e5e-8b28-acccc7036e9e')\"\n",
       "              title=\"Convert this dataframe to an interactive table.\"\n",
       "              style=\"display:none;\">\n",
       "        \n",
       "  <svg xmlns=\"http://www.w3.org/2000/svg\" height=\"24px\"viewBox=\"0 0 24 24\"\n",
       "       width=\"24px\">\n",
       "    <path d=\"M0 0h24v24H0V0z\" fill=\"none\"/>\n",
       "    <path d=\"M18.56 5.44l.94 2.06.94-2.06 2.06-.94-2.06-.94-.94-2.06-.94 2.06-2.06.94zm-11 1L8.5 8.5l.94-2.06 2.06-.94-2.06-.94L8.5 2.5l-.94 2.06-2.06.94zm10 10l.94 2.06.94-2.06 2.06-.94-2.06-.94-.94-2.06-.94 2.06-2.06.94z\"/><path d=\"M17.41 7.96l-1.37-1.37c-.4-.4-.92-.59-1.43-.59-.52 0-1.04.2-1.43.59L10.3 9.45l-7.72 7.72c-.78.78-.78 2.05 0 2.83L4 21.41c.39.39.9.59 1.41.59.51 0 1.02-.2 1.41-.59l7.78-7.78 2.81-2.81c.8-.78.8-2.07 0-2.86zM5.41 20L4 18.59l7.72-7.72 1.47 1.35L5.41 20z\"/>\n",
       "  </svg>\n",
       "      </button>\n",
       "      \n",
       "  <style>\n",
       "    .colab-df-container {\n",
       "      display:flex;\n",
       "      flex-wrap:wrap;\n",
       "      gap: 12px;\n",
       "    }\n",
       "\n",
       "    .colab-df-convert {\n",
       "      background-color: #E8F0FE;\n",
       "      border: none;\n",
       "      border-radius: 50%;\n",
       "      cursor: pointer;\n",
       "      display: none;\n",
       "      fill: #1967D2;\n",
       "      height: 32px;\n",
       "      padding: 0 0 0 0;\n",
       "      width: 32px;\n",
       "    }\n",
       "\n",
       "    .colab-df-convert:hover {\n",
       "      background-color: #E2EBFA;\n",
       "      box-shadow: 0px 1px 2px rgba(60, 64, 67, 0.3), 0px 1px 3px 1px rgba(60, 64, 67, 0.15);\n",
       "      fill: #174EA6;\n",
       "    }\n",
       "\n",
       "    [theme=dark] .colab-df-convert {\n",
       "      background-color: #3B4455;\n",
       "      fill: #D2E3FC;\n",
       "    }\n",
       "\n",
       "    [theme=dark] .colab-df-convert:hover {\n",
       "      background-color: #434B5C;\n",
       "      box-shadow: 0px 1px 3px 1px rgba(0, 0, 0, 0.15);\n",
       "      filter: drop-shadow(0px 1px 2px rgba(0, 0, 0, 0.3));\n",
       "      fill: #FFFFFF;\n",
       "    }\n",
       "  </style>\n",
       "\n",
       "      <script>\n",
       "        const buttonEl =\n",
       "          document.querySelector('#df-11135273-8f49-4e5e-8b28-acccc7036e9e button.colab-df-convert');\n",
       "        buttonEl.style.display =\n",
       "          google.colab.kernel.accessAllowed ? 'block' : 'none';\n",
       "\n",
       "        async function convertToInteractive(key) {\n",
       "          const element = document.querySelector('#df-11135273-8f49-4e5e-8b28-acccc7036e9e');\n",
       "          const dataTable =\n",
       "            await google.colab.kernel.invokeFunction('convertToInteractive',\n",
       "                                                     [key], {});\n",
       "          if (!dataTable) return;\n",
       "\n",
       "          const docLinkHtml = 'Like what you see? Visit the ' +\n",
       "            '<a target=\"_blank\" href=https://colab.research.google.com/notebooks/data_table.ipynb>data table notebook</a>'\n",
       "            + ' to learn more about interactive tables.';\n",
       "          element.innerHTML = '';\n",
       "          dataTable['output_type'] = 'display_data';\n",
       "          await google.colab.output.renderOutput(dataTable, element);\n",
       "          const docLink = document.createElement('div');\n",
       "          docLink.innerHTML = docLinkHtml;\n",
       "          element.appendChild(docLink);\n",
       "        }\n",
       "      </script>\n",
       "    </div>\n",
       "  </div>\n",
       "  "
      ],
      "text/plain": [
       "             reviewerID        asin                           reviewerName  \\\n",
       "0         AO94DHGC771SJ  0528881469                                amazdnu   \n",
       "1         AMO214LNFCEI4  0528881469                        Amazon Customer   \n",
       "2        A24EV6RXELQZ63  0528881469                            Wayne Smith   \n",
       "3        A2JXAZZI9PHK9Z  0594451647          Billy G. Noland \"Bill Noland\"   \n",
       "4         AAZ084UMH8VZ2  0594451647  D. L. Brown \"A Knower Of Good Things\"   \n",
       "...                 ...         ...                                    ...   \n",
       "1117746  A34BZM6S9L7QI4  B00LGQ6HL8            Candy Cane \"Is it just me?\"   \n",
       "1117747  A1G650TTTHEAL5  B00LGQ6HL8        Charles Spanky \"Zumina Reviews\"   \n",
       "1117748  A25C2M3QF9G7OQ  B00LGQ6HL8                                 Comdet   \n",
       "1117749   A1E1LEVQ9VQNK  B00LGQ6HL8                            J. Chambers   \n",
       "1117750  A2NYK9KWFMJV4Y  B00LGQ6HL8            Mike Tarrani \"Jazz Drummer\"   \n",
       "\n",
       "          helpful                                         reviewText  overall  \\\n",
       "0          [0, 0]  we got this gps for my husband who is an otr o...        5   \n",
       "1        [12, 15]  im a professional otr truck driver and i bough...        1   \n",
       "2          [0, 0]  ive had mine for a year and heres what we got ...        1   \n",
       "3          [3, 3]  i am using this with a nook hd it works as des...        5   \n",
       "4          [0, 0]  this adaptor is real easy to setup and use rig...        5   \n",
       "...           ...                                                ...      ...   \n",
       "1117746    [1, 1]  burned these in before listening to them for a...        5   \n",
       "1117747    [0, 0]  some people like dj style headphones or earbud...        5   \n",
       "1117748    [0, 0]  im a big fan of the brainwavz s actually all o...        5   \n",
       "1117749    [0, 0]  ive used thebrainwavz s in ear headphones and ...        5   \n",
       "1117750    [0, 0]  normally when i receive a review sample i can ...        5   \n",
       "\n",
       "                                                   summary  unixReviewTime  \\\n",
       "0                                          Gotta have GPS!      1370131200   \n",
       "1                                        Very Disappointed      1290643200   \n",
       "2                   Major issues, only excuses for support      1317254400   \n",
       "3                                  HDMI Nook adapter cable      1388707200   \n",
       "4                              A Perfdect Nook HD+ hook up      1399161600   \n",
       "...                                                    ...             ...   \n",
       "1117746                Boom -- Pop -- Pow.  These deliver.      1405555200   \n",
       "1117747  Thin and light, without compromising on sound ...      1405382400   \n",
       "1117748  Same form factor and durability as the S1 with...      1405555200   \n",
       "1117749  Superb audio quality in a very comfortable set...      1405641600   \n",
       "1117750                                  Exceptional sound      1405209600   \n",
       "\n",
       "          reviewTime  \n",
       "0         06 2, 2013  \n",
       "1        11 25, 2010  \n",
       "2        09 29, 2011  \n",
       "3         01 3, 2014  \n",
       "4         05 4, 2014  \n",
       "...              ...  \n",
       "1117746  07 17, 2014  \n",
       "1117747  07 15, 2014  \n",
       "1117748  07 17, 2014  \n",
       "1117749  07 18, 2014  \n",
       "1117750  07 13, 2014  \n",
       "\n",
       "[1117751 rows x 9 columns]"
      ]
     },
     "execution_count": 12,
     "metadata": {},
     "output_type": "execute_result"
    }
   ],
   "source": [
    "amazon"
   ]
  },
  {
   "cell_type": "code",
   "execution_count": 13,
   "metadata": {
    "id": "eVaePneU5_3g"
   },
   "outputs": [],
   "source": [
    "x=amazon.reviewText\n",
    "y=amazon.overall"
   ]
  },
  {
   "cell_type": "code",
   "execution_count": 14,
   "metadata": {
    "id": "YftwGCG36VBU"
   },
   "outputs": [],
   "source": [
    "vect=CountVectorizer(lowercase=True,ngram_range=(1,1),stop_words=\"english\") # ingilizce gereksiz kelimeleri kaldırdık\n",
    "x_yeni=vect.fit_transform(x)"
   ]
  },
  {
   "cell_type": "code",
   "execution_count": 15,
   "metadata": {
    "id": "bDpH_QqY8ZW7"
   },
   "outputs": [],
   "source": [
    "x_train,x_test,y_train,y_test=train_test_split(x_yeni,y,random_state=42)"
   ]
  },
  {
   "cell_type": "code",
   "execution_count": 37,
   "metadata": {
    "colab": {
     "base_uri": "https://localhost:8080/"
    },
    "id": "fZ5RAHdP8bom",
    "outputId": "c031db79-ba7e-4665-a1ef-97a84ce76337"
   },
   "outputs": [
    {
     "name": "stdout",
     "output_type": "stream",
     "text": [
      "0          we got this gps for my husband who is an otr o...\n",
      "1          im a professional otr truck driver and i bough...\n",
      "2          well what can i say  ive had this unit in my t...\n",
      "3          not going to write a long review even thought ...\n",
      "4          ive had mine for a year and heres what we got ...\n",
      "                                 ...                        \n",
      "1689183    burned these in before listening to them for a...\n",
      "1689184    some people like dj style headphones or earbud...\n",
      "1689185    im a big fan of the brainwavz s actually all o...\n",
      "1689186    ive used thebrainwavz s in ear headphones and ...\n",
      "1689187    normally when i receive a review sample i can ...\n",
      "Name: reviewText, Length: 1689188, dtype: object\n"
     ]
    }
   ],
   "source": [
    "print(x) #NLP Projesinde 7 altın kurala uygun olup olmadığını kontrol edip eğitmeye geçiyoruz."
   ]
  },
  {
   "cell_type": "code",
   "execution_count": 17,
   "metadata": {
    "colab": {
     "base_uri": "https://localhost:8080/"
    },
    "id": "znRn5Vu-8fT8",
    "outputId": "63c03f38-555b-4b05-e805-e0c535bee566"
   },
   "outputs": [
    {
     "name": "stdout",
     "output_type": "stream",
     "text": [
      "  (0, 308903)\t1\n",
      "  (0, 764568)\t2\n",
      "  (0, 391089)\t1\n",
      "  (0, 800156)\t1\n",
      "  (0, 207710)\t1\n",
      "  (0, 547962)\t1\n",
      "  (0, 850598)\t1\n",
      "  (0, 582899)\t1\n",
      "  (0, 7486)\t1\n",
      "  (0, 100108)\t1\n",
      "  (0, 416387)\t1\n",
      "  (0, 189826)\t1\n",
      "  (0, 121660)\t1\n",
      "  (0, 194301)\t1\n",
      "  (0, 804243)\t1\n",
      "  (0, 306630)\t1\n",
      "  (0, 686597)\t1\n",
      "  (0, 121148)\t1\n",
      "  (0, 375640)\t1\n",
      "  (0, 328800)\t1\n",
      "  (0, 109494)\t1\n",
      "  (0, 376206)\t1\n",
      "  (0, 127284)\t2\n",
      "  (0, 151830)\t1\n",
      "  (0, 566279)\t2\n",
      "  :\t:\n",
      "  (838312, 466477)\t1\n",
      "  (838312, 404986)\t1\n",
      "  (838312, 556576)\t1\n",
      "  (838312, 90555)\t1\n",
      "  (838312, 849663)\t1\n",
      "  (838312, 366253)\t1\n",
      "  (838312, 692056)\t1\n",
      "  (838312, 631879)\t1\n",
      "  (838312, 316362)\t1\n",
      "  (838312, 509757)\t1\n",
      "  (838312, 600725)\t1\n",
      "  (838312, 799329)\t1\n",
      "  (838312, 21934)\t1\n",
      "  (838312, 34730)\t1\n",
      "  (838312, 90490)\t1\n",
      "  (838312, 404444)\t1\n",
      "  (838312, 154917)\t1\n",
      "  (838312, 566279)\t1\n",
      "  (838312, 820927)\t1\n",
      "  (838312, 692149)\t1\n",
      "  (838312, 126004)\t1\n",
      "  (838312, 774181)\t1\n",
      "  (838312, 287514)\t1\n",
      "  (838312, 619548)\t1\n",
      "  (838312, 42779)\t1\n"
     ]
    }
   ],
   "source": [
    "print(x_train)"
   ]
  },
  {
   "cell_type": "code",
   "execution_count": 18,
   "metadata": {
    "id": "wfHZM_bn-hnE"
   },
   "outputs": [],
   "source": [
    "df.loc[df['overall']==3,\"sentiment\"]=\"neutral\"\n",
    "df.loc[df['overall']<3,\"sentiment\"]=\"negative\"\n",
    "df.loc[df['overall']>3,\"sentiment\"]=\"positive\""
   ]
  },
  {
   "cell_type": "code",
   "execution_count": 19,
   "metadata": {
    "colab": {
     "base_uri": "https://localhost:8080/",
     "height": 508
    },
    "id": "nerrsVn8-kmL",
    "outputId": "1c97c7cd-c51d-4983-9b83-32ffba225dc0"
   },
   "outputs": [
    {
     "data": {
      "image/png": "[encoded data removed]",
      "text/plain": [
       "<Figure size 576x576 with 1 Axes>"
      ]
     },
     "metadata": {
      "needs_background": "light"
     },
     "output_type": "display_data"
    }
   ],
   "source": [
    "plt.figure(figsize=(8,8))\n",
    "ax=sns.countplot(x=df[\"sentiment\"]);\n",
    "ax.bar_label(ax.containers[0]);"
   ]
  },
  {
   "cell_type": "code",
   "execution_count": 20,
   "metadata": {
    "id": "xvjMOwc6_HF9"
   },
   "outputs": [],
   "source": [
    "x,y=df['reviewText'],df['sentiment']"
   ]
  },
  {
   "cell_type": "code",
   "execution_count": 21,
   "metadata": {
    "id": "f8q8z4-68lOH"
   },
   "outputs": [],
   "source": [
    "from sklearn.naive_bayes import MultinomialNB"
   ]
  },
  {
   "cell_type": "code",
   "execution_count": 22,
   "metadata": {
    "id": "J9ZMagJn9xN8"
   },
   "outputs": [],
   "source": [
    "mb=MultinomialNB()"
   ]
  },
  {
   "cell_type": "code",
   "execution_count": 23,
   "metadata": {
    "colab": {
     "base_uri": "https://localhost:8080/"
    },
    "id": "9NDhUM7K93V6",
    "outputId": "e40b693d-beb7-4e44-abdb-aa5ae78003f4"
   },
   "outputs": [
    {
     "data": {
      "text/plain": [
       "MultinomialNB()"
      ]
     },
     "execution_count": 23,
     "metadata": {},
     "output_type": "execute_result"
    }
   ],
   "source": [
    "mb.fit(x_train,y_train)"
   ]
  },
  {
   "cell_type": "code",
   "execution_count": 24,
   "metadata": {
    "id": "z8l-DQl696I7"
   },
   "outputs": [],
   "source": [
    "from sklearn.metrics import accuracy_score"
   ]
  },
  {
   "cell_type": "code",
   "execution_count": 25,
   "metadata": {
    "id": "l6U1cagF99O0"
   },
   "outputs": [],
   "source": [
    "tahmin=mb.predict(x_test)"
   ]
  },
  {
   "cell_type": "code",
   "execution_count": 26,
   "metadata": {
    "colab": {
     "base_uri": "https://localhost:8080/"
    },
    "id": "YbWfo_xX-AYh",
    "outputId": "e1f60a1c-9758-429f-9e57-adc0ba40d51e"
   },
   "outputs": [
    {
     "data": {
      "text/plain": [
       "0.9361933595287685"
      ]
     },
     "execution_count": 26,
     "metadata": {},
     "output_type": "execute_result"
    }
   ],
   "source": [
    "accuracy_score(y_test,tahmin)"
   ]
  },
  {
   "cell_type": "code",
   "execution_count": 27,
   "metadata": {
    "id": "eAlLqqzyIAaj"
   },
   "outputs": [],
   "source": [
    "def wc(data,bgcolor):\n",
    "    from PIL import Image\n",
    "    mask = np.array(Image.open(\"Amazon-logo.png\"))\n",
    "    wc=WordCloud(background_color=bgcolor, width=800, height=400,mask=mask,max_words=100).generate(' '.join(data))\n",
    "    plt.figure( figsize=(20,10) )\n",
    "    plt.imshow(wc)\n",
    "    plt.axis('off')\n",
    "    plt.show()"
   ]
  },
  {
   "cell_type": "code",
   "execution_count": 28,
   "metadata": {
    "id": "KXIicdSEID-q"
   },
   "outputs": [],
   "source": [
    "negative_data=df[df['sentiment']==\"negative\"]['reviewText']\n",
    "positive_data=df[df['sentiment']==\"positive\"]['reviewText']\n",
    "neutral_data=df[df['sentiment']==\"neutral\"]['reviewText']"
   ]
  },
  {
   "cell_type": "code",
   "execution_count": 29,
   "metadata": {
    "colab": {
     "base_uri": "https://localhost:8080/",
     "height": 407
    },
    "id": "Zu4irS4mIcH2",
    "outputId": "0221d897-e213-449b-f3c3-36e7666f6c2f"
   },
   "outputs": [
    {
     "data": {
      "image/png": "[encoded data removed]",
      "text/plain": [
       "<Figure size 1440x720 with 1 Axes>"
      ]
     },
     "metadata": {
      "needs_background": "light"
     },
     "output_type": "display_data"
    }
   ],
   "source": [
    "wc(negative_data,'white')"
   ]
  },
  {
   "cell_type": "code",
   "execution_count": 30,
   "metadata": {
    "colab": {
     "base_uri": "https://localhost:8080/",
     "height": 407
    },
    "id": "3ACRQeKaOIqP",
    "outputId": "3ee14d2c-8158-46d3-8515-c6ae7010026c"
   },
   "outputs": [
    {
     "data": {
      "image/png": "[encoded data removed]",
      "text/plain": [
       "<Figure size 1440x720 with 1 Axes>"
      ]
     },
     "metadata": {
      "needs_background": "light"
     },
     "output_type": "display_data"
    }
   ],
   "source": [
    "wc(neutral_data,'white')"
   ]
  },
  {
   "cell_type": "code",
   "execution_count": 31,
   "metadata": {
    "id": "T918xUAxON2P"
   },
   "outputs": [],
   "source": [
    "#wc(positive_data,'white') Çok fazla veri olduğu için colab kaldırmadı. O yüzden olumlu verileri göremedik."
   ]
  },
  {
   "cell_type": "code",
   "execution_count": 32,
   "metadata": {
    "colab": {
     "base_uri": "https://localhost:8080/"
    },
    "id": "s6Ug-MHSOk8E",
    "outputId": "0d1505d0-7e60-471e-cd8e-0ee3d4cfef49"
   },
   "outputs": [
    {
     "name": "stdout",
     "output_type": "stream",
     "text": [
      "Looking in indexes: https://pypi.org/simple, https://us-python.pkg.dev/colab-wheels/public/simple/\n",
      "Requirement already satisfied: spacy in /usr/local/lib/python3.7/dist-packages (3.4.2)\n",
      "Collecting spacy\n",
      "  Downloading spacy-3.4.3-cp37-cp37m-manylinux_2_17_x86_64.manylinux2014_x86_64.whl (6.4 MB)\n",
      "\u001b[K     |████████████████████████████████| 6.4 MB 7.0 MB/s \n",
      "\u001b[?25hRequirement already satisfied: cymem<2.1.0,>=2.0.2 in /usr/local/lib/python3.7/dist-packages (from spacy) (2.0.7)\n",
      "Requirement already satisfied: murmurhash<1.1.0,>=0.28.0 in /usr/local/lib/python3.7/dist-packages (from spacy) (1.0.9)\n",
      "Requirement already satisfied: preshed<3.1.0,>=3.0.2 in /usr/local/lib/python3.7/dist-packages (from spacy) (3.0.8)\n",
      "Requirement already satisfied: pathy>=0.3.5 in /usr/local/lib/python3.7/dist-packages (from spacy) (0.6.2)\n",
      "Requirement already satisfied: typing-extensions<4.2.0,>=3.7.4 in /usr/local/lib/python3.7/dist-packages (from spacy) (4.1.1)\n",
      "Requirement already satisfied: spacy-legacy<3.1.0,>=3.0.10 in /usr/local/lib/python3.7/dist-packages (from spacy) (3.0.10)\n",
      "Requirement already satisfied: langcodes<4.0.0,>=3.2.0 in /usr/local/lib/python3.7/dist-packages (from spacy) (3.3.0)\n",
      "Requirement already satisfied: pydantic!=1.8,!=1.8.1,<1.11.0,>=1.7.4 in /usr/local/lib/python3.7/dist-packages (from spacy) (1.10.2)\n",
      "Requirement already satisfied: setuptools in /usr/local/lib/python3.7/dist-packages (from spacy) (57.4.0)\n",
      "Requirement already satisfied: typer<0.8.0,>=0.3.0 in /usr/local/lib/python3.7/dist-packages (from spacy) (0.4.2)\n",
      "Requirement already satisfied: catalogue<2.1.0,>=2.0.6 in /usr/local/lib/python3.7/dist-packages (from spacy) (2.0.8)\n",
      "Requirement already satisfied: requests<3.0.0,>=2.13.0 in /usr/local/lib/python3.7/dist-packages (from spacy) (2.23.0)\n",
      "Requirement already satisfied: wasabi<1.1.0,>=0.9.1 in /usr/local/lib/python3.7/dist-packages (from spacy) (0.10.1)\n",
      "Requirement already satisfied: jinja2 in /usr/local/lib/python3.7/dist-packages (from spacy) (2.11.3)\n",
      "Requirement already satisfied: numpy>=1.15.0 in /usr/local/lib/python3.7/dist-packages (from spacy) (1.21.6)\n",
      "Requirement already satisfied: spacy-loggers<2.0.0,>=1.0.0 in /usr/local/lib/python3.7/dist-packages (from spacy) (1.0.3)\n",
      "Requirement already satisfied: tqdm<5.0.0,>=4.38.0 in /usr/local/lib/python3.7/dist-packages (from spacy) (4.64.1)\n",
      "Requirement already satisfied: thinc<8.2.0,>=8.1.0 in /usr/local/lib/python3.7/dist-packages (from spacy) (8.1.5)\n",
      "Requirement already satisfied: srsly<3.0.0,>=2.4.3 in /usr/local/lib/python3.7/dist-packages (from spacy) (2.4.5)\n",
      "Requirement already satisfied: packaging>=20.0 in /usr/local/lib/python3.7/dist-packages (from spacy) (21.3)\n",
      "Requirement already satisfied: zipp>=0.5 in /usr/local/lib/python3.7/dist-packages (from catalogue<2.1.0,>=2.0.6->spacy) (3.10.0)\n",
      "Requirement already satisfied: pyparsing!=3.0.5,>=2.0.2 in /usr/local/lib/python3.7/dist-packages (from packaging>=20.0->spacy) (3.0.9)\n",
      "Requirement already satisfied: smart-open<6.0.0,>=5.2.1 in /usr/local/lib/python3.7/dist-packages (from pathy>=0.3.5->spacy) (5.2.1)\n",
      "Requirement already satisfied: certifi>=2017.4.17 in /usr/local/lib/python3.7/dist-packages (from requests<3.0.0,>=2.13.0->spacy) (2022.9.24)\n",
      "Requirement already satisfied: urllib3!=1.25.0,!=1.25.1,<1.26,>=1.21.1 in /usr/local/lib/python3.7/dist-packages (from requests<3.0.0,>=2.13.0->spacy) (1.24.3)\n",
      "Requirement already satisfied: chardet<4,>=3.0.2 in /usr/local/lib/python3.7/dist-packages (from requests<3.0.0,>=2.13.0->spacy) (3.0.4)\n",
      "Requirement already satisfied: idna<3,>=2.5 in /usr/local/lib/python3.7/dist-packages (from requests<3.0.0,>=2.13.0->spacy) (2.10)\n",
      "Requirement already satisfied: confection<1.0.0,>=0.0.1 in /usr/local/lib/python3.7/dist-packages (from thinc<8.2.0,>=8.1.0->spacy) (0.0.3)\n",
      "Requirement already satisfied: blis<0.8.0,>=0.7.8 in /usr/local/lib/python3.7/dist-packages (from thinc<8.2.0,>=8.1.0->spacy) (0.7.9)\n",
      "Requirement already satisfied: click<9.0.0,>=7.1.1 in /usr/local/lib/python3.7/dist-packages (from typer<0.8.0,>=0.3.0->spacy) (7.1.2)\n",
      "Requirement already satisfied: MarkupSafe>=0.23 in /usr/local/lib/python3.7/dist-packages (from jinja2->spacy) (2.0.1)\n",
      "Installing collected packages: spacy\n",
      "  Attempting uninstall: spacy\n",
      "    Found existing installation: spacy 3.4.2\n",
      "    Uninstalling spacy-3.4.2:\n",
      "      Successfully uninstalled spacy-3.4.2\n",
      "Successfully installed spacy-3.4.3\n"
     ]
    }
   ],
   "source": [
    "pip install -U spacy"
   ]
  },
  {
   "cell_type": "code",
   "execution_count": 36,
   "metadata": {
    "id": "3NYlKEsUU34p"
   },
   "outputs": [],
   "source": [
    "import spacy\n",
    "from spacy import displacy\n",
    "NER=spacy.load('en_core_web_sm')"
   ]
  },
  {
   "cell_type": "code",
   "execution_count": 44,
   "metadata": {
    "colab": {
     "base_uri": "https://localhost:8080/"
    },
    "id": "lsp3z-qWZigk",
    "outputId": "90486ac5-950c-40c0-9032-327e2f1071a6"
   },
   "outputs": [
    {
     "name": "stdout",
     "output_type": "stream",
     "text": [
      "we got this gps for my husband who is an otr over the road trucker  very impressed with the shipping time it arrived a few days earlier than expected  within a week of use however it started freezing up could of just been a glitch in that unit  worked great when it worked  will work great for the normal person as well but does have the trucker option the big truck routes  tells you when a scale is coming up ect  love the bigger screen the ease of use the ease of putting addresses into memory  nothing really bad to say about the unit with the exception of it freezing which is probably one in a million and thats just my luck  i contacted the seller and within minutes of my email i received a email back with instructions for an exchange very impressed all the way around\n",
      "im a professional otr truck driver and i bought a tnd  at a truck stop hoping to make my life easier  rand mcnally are you listeningfirst thing i did after charging it was connect it to my laptop and install the software and then attempt to update it  the software detected a problem with my update and wanted my home address so i could be sent a patch on an sd card  hello  i dont think im all that unusual my home address is a po box that a friend checks weekly and that i might get to check every six months or so  i live in my truck and at truck stops  if you need to make a patch available on an sd card then you should send the sd cards to the truck stops where the devices are sold  i ran the update program multiple times until the program said that the tnd  was completely updatedi programmed in the height  the length  and the weight  of my rig and told it that i preferred highways  i was parked at a truck stop in the cincinnati oh area  my next pickup was about  miles down the same freeway but on the other side of it a couple of blocks  my cell phone gps sprint said to get on the freeway to get to my pickup  the tnd  routed me thru  miles of residential streets before finally getting me to my pickup  very exciting especially since every time i refused to turn down a street posted no trucks the tnd  took almost  minutes to figure a reroute and it happened multiple times on that short tripi decided to give it another chance  after my pickup on the north side of cincinnati just off of i i needed to head to phoenix az via i  easy route is to just hop on i and drive west and south to the intersection of i  indeed that is what my cell phone advised  the tnd  however wanted to route me over surface streets across the city and pick up i on the other side of the city  i turned it off and the next time i passed a truck stop of the same chain i purchased it at i returned it and got my money backi then spent  on a cheap printer  now i take a minute to set up my route on google and print it out  hasnt gotten me lost yet over several cross country trips\n",
      "well what can i say  ive had this unit in my truck for about four days now  prior to that i had a garmin t nontruck gps  one of my favorite features in that unit was the ability to plan a route by determining mileage using the stop or via feature  what i would do is using a map i would route myself several different ways forcing the unit by putting in stops or vias at different locations along the route otherwise like most gps s it determines what it thinks is the best route  i could add up to  vias or stop points for each route and then based on mileage and other factors determine which is the best route to take  multiple stops and the ability to route was the most important reason for having the garmin  however it was not truck specific  and considering i am now hauling strictly hazmat i wanted something that would take that into consideration  after perusing various forums review sites and wordofmouth my choices boiled down to the garmin t or the rand mcnally intelliroute tnd   even though it was quite a bit more than the garmin i chose the tnd  for several reasons  the main one being the extra screen size and its ability to coordinate with the rand mcnally truck atlas and also its ease of updatingnow on to my first impression of the tnd   it seems to be an aesthetically pleasing and durably built unit  the first thing i noticed was its very slow to boot compared to my old garmin  whether this is unique to the tnd  or is common amongst all truck specific gps units i cannot tell but its really not that big of a deal  the second thing i noticed was the overwhelming wealth of information put forth  that might explain why the manual available via the tnd dock is well over  pages long  there is somewhat of a learning curve with this unit  the next thing i noticed was the complexity of entering routes  as previously mentioned i like to force it into my preferred routing by the use of stops or vias  that was a big no go with this unit  while you can enter multiple stops or vias it is nowhere near as userfriendly as my old garmin  furthermore there is no way you can determine total mileage on the route that you have chosen as i could with the garmin  totally flummoxed by what appeared to be an omission of one of the best routing tools a trucker could have i went online and verified through an expert source connected with rand mcnally that no that feature was a couple updates down the line and was not available at this point  unbelievable  also forcing the unit to follow a specific route can be very challenging  for a unit of this price and feature laden i find this totally unacceptable  i am still mulling over selling this unit  and buying the garmin t  i really do like this gps the screen is magnificent and the volume is awesomeanother thing ive noticed which i do not think is unique to this unit is some of the weird routing that it does  ive never owned a truck specific gps before but after playing with this one for a couple of days i get the impression that what rand macnally and the others that use navteq has done is take a plain old car specific navteq map and a road atlas with truck restrictions and made notifications on the map  in most databases there is not a  thorough listing of every road in the country  what i mean is that this unit will route you down roads you dont belong on  today while coming home it tried routing me on several   ton county roads  what that means is that a truck is limited to  unless the road is posted at  tons  county roads do not have that restriction listed in the rand mcnally road atlas so i believe that is why it is not listed  also unacceptable in a unit of this price and sold as truck specific  however id be willing to bet the other truck specific units are the same way as no one has ever done a truck specific version of navteqanother bone i have to pick is the pois not only the truck specific ones but the others all seem to be somewhat outdated  i think the garmin at least the ones that i have used are more current  it would also be nice if i could add my own poisto sum it up i will keep this unit a little longer to see if i can make it workable  if not i will go back to garmin  i like the concept and i like the unit but at this point ill have to say i am somewhat unimpressedproslarge screenterrific imagesoutstanding volumeconsinability to determine route mileage by multiple stops and viasa somewhat outdated poi informationnontruck specific routingscost\n",
      "not going to write a long review even thought this unit deserves one ive driven well over mil miles and done most of my own routing so i pretty know whats the fastest and shortest have been using a basic garmin for the past three years and with any gps unit theyll all get you in trouble if you let them i was really excited about this unit due to the size and the features allot of great grafics and on screen info thats usefull but the most basic item that it was lacking was the gps tracking i gave this unit allot of leadway on its mistakes due to the fact that it had allot of cool stuff that it did but its ability to track you and route you was not even close to what the basic garmin could due its like the prossesor that they installed in the tnd  was  years old example if i needed to make a simple route change ie in town down to the next street due to the fact that i couldnt make the turn or the street was blocked off it would take the tnd  upwards of  seconds to a minute and a half to reroute me here im sitting at a stop light waiting for directions and waiting that long with cars on my backside didnt make me happy this is a problem that happened evertime you had to reroute weather it was a simple street change or a major highway change also from the time you turned the unit on it would take twice as long to boot itself up at least a dozen times with in a week it put me on the wrong roads and when i made a wrong turn it got it self lostie take left on xyz street and it was some ones drive way or turn left in  yards and the turn was less than  feet away you might think in a conjested city situation i might get a little mixed up but this is out in the country twice it put me under  bridges when im  of course i made sure all my truck setting where they were supposed to be i also updated the os versionvia rand mcnally all in all i expected alot out of this unit and got a unit that should of been field tested with some people that drive allot it just had to many route mistakes going back to the basic garmin this isnt just my complaints i have three friends that bought the same unit and have the same complaints all of us returned the units\n",
      "ive had mine for a year and heres what we got it tries to route be down non truck routes while telling me the truck route is illegal for me this is such a bad problem that even interstate  in denver colorado is listed according to this gps as a non truck route and will route you through the city instead there are several drivers within our company who own one and more than half of about  have crashed to an unrecoverable state our company representative said that rand mcnally informed them that the gps was not designed to say on for a long period of time really its a truck driver gps we have one driver with a  dollar ticket due to this gps routing him down the wrong road the companies response was to update the unit ive had mine for a year i never noticed one update that corrected functionality they only seem to keep messing the tools i want a gps that routes if i wanted tools id buy software for my computermy suggestion is to by a nice garmen my one rated for cars actually routes me better than this one rated for truckswayne\n"
     ]
    }
   ],
   "source": [
    "for review in df['reviewText'][:5]: \n",
    "    print(review)"
   ]
  },
  {
   "cell_type": "code",
   "execution_count": 47,
   "metadata": {
    "id": "BqyYgtvHbTAl"
   },
   "outputs": [],
   "source": [
    "raw_text=\"we got this gps for my husband who is an otr over the road trucker  very impressed with the shipping time it arrived a few days earlier than expected  within a week of use however it started freezing up could of just been a glitch in that unit  worked great when it worked  will work great for the normal person as well but does have the trucker option the big truck routes  tells you when a scale is coming up ect  love the bigger screen the ease of use the ease of putting addresses into memory  nothing really bad to say about the unit with the exception of it freezing which is probably one in a million and thats just my luck  i contacted the seller and within minutes of my email i received a email back with instructions for an exchange very impressed all the way around\""
   ]
  },
  {
   "cell_type": "code",
   "execution_count": 48,
   "metadata": {
    "id": "sQUsHFUccHJ7"
   },
   "outputs": [],
   "source": [
    "text= NER(raw_text)"
   ]
  },
  {
   "cell_type": "code",
   "execution_count": 49,
   "metadata": {
    "colab": {
     "base_uri": "https://localhost:8080/",
     "height": 192
    },
    "id": "oQfR_3X9cxwc",
    "outputId": "960e755f-332e-4deb-c672-c2b0609dc6a5"
   },
   "outputs": [
    {
     "data": {
      "text/html": [
       "<span class=\"tex2jax_ignore\"><div class=\"entities\" style=\"line-height: 2.5; direction: ltr\">we got this gps for my husband who is an otr over the road trucker  very impressed with the shipping time it arrived \n",
       "<mark class=\"entity\" style=\"background: #bfe1d9; padding: 0.45em 0.6em; margin: 0 0.25em; line-height: 1; border-radius: 0.35em;\">\n",
       "    a few days earlier\n",
       "    <span style=\"font-size: 0.8em; font-weight: bold; line-height: 1; border-radius: 0.35em; vertical-align: middle; margin-left: 0.5rem\">DATE</span>\n",
       "</mark>\n",
       " than expected  within \n",
       "<mark class=\"entity\" style=\"background: #bfe1d9; padding: 0.45em 0.6em; margin: 0 0.25em; line-height: 1; border-radius: 0.35em;\">\n",
       "    a week\n",
       "    <span style=\"font-size: 0.8em; font-weight: bold; line-height: 1; border-radius: 0.35em; vertical-align: middle; margin-left: 0.5rem\">DATE</span>\n",
       "</mark>\n",
       " of use however it started freezing up could of just been a glitch in that unit  worked great when it worked  will work great for the normal person as well but does have the trucker option the big truck routes  tells you when a scale is coming up ect  love the bigger screen the ease of use the ease of putting addresses into memory  nothing really bad to say about the unit with the exception of it freezing which is probably \n",
       "<mark class=\"entity\" style=\"background: #e4e7d2; padding: 0.45em 0.6em; margin: 0 0.25em; line-height: 1; border-radius: 0.35em;\">\n",
       "    one\n",
       "    <span style=\"font-size: 0.8em; font-weight: bold; line-height: 1; border-radius: 0.35em; vertical-align: middle; margin-left: 0.5rem\">CARDINAL</span>\n",
       "</mark>\n",
       " in \n",
       "<mark class=\"entity\" style=\"background: #e4e7d2; padding: 0.45em 0.6em; margin: 0 0.25em; line-height: 1; border-radius: 0.35em;\">\n",
       "    a million\n",
       "    <span style=\"font-size: 0.8em; font-weight: bold; line-height: 1; border-radius: 0.35em; vertical-align: middle; margin-left: 0.5rem\">CARDINAL</span>\n",
       "</mark>\n",
       " and thats just my luck  i contacted the seller and within \n",
       "<mark class=\"entity\" style=\"background: #bfe1d9; padding: 0.45em 0.6em; margin: 0 0.25em; line-height: 1; border-radius: 0.35em;\">\n",
       "    minutes\n",
       "    <span style=\"font-size: 0.8em; font-weight: bold; line-height: 1; border-radius: 0.35em; vertical-align: middle; margin-left: 0.5rem\">TIME</span>\n",
       "</mark>\n",
       " of my email i received a email back with instructions for an exchange very impressed all the way around</div></span>"
      ],
      "text/plain": [
       "<IPython.core.display.HTML object>"
      ]
     },
     "metadata": {},
     "output_type": "display_data"
    }
   ],
   "source": [
    "displacy.render(text, style = 'ent', jupyter=True)"
   ]
  },
  {
   "cell_type": "code",
   "execution_count": null,
   "metadata": {
    "id": "EUAf8DMic-Cd"
   },
   "outputs": [],
   "source": []
  }
 ],
 "metadata": {
  "colab": {
   "provenance": []
  },
  "kernelspec": {
   "display_name": "Python 3 (ipykernel)",
   "language": "python",
   "name": "python3"
  },
  "language_info": {
   "codemirror_mode": {
    "name": "ipython",
    "version": 3
   },
   "file_extension": ".py",
   "mimetype": "text/x-python",
   "name": "python",
   "nbconvert_exporter": "python",
   "pygments_lexer": "ipython3",
   "version": "3.9.12"
  }
 },
 "nbformat": 4,
 "nbformat_minor": 1
}
